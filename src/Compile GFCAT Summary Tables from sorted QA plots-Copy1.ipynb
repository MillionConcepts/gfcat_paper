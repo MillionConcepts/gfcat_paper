{
 "cells": [
  {
   "cell_type": "code",
   "execution_count": 1,
   "id": "132cb6e5",
   "metadata": {},
   "outputs": [],
   "source": [
    "%matplotlib inline\n",
    "import matplotlib.pyplot as plt\n",
    "import numpy as np\n",
    "import pyarrow.parquet as pq\n",
    "import pandas as pd\n",
    "from rich import print\n",
    "import warnings\n",
    "import datetime\n",
    "from astropy.time import Time\n",
    "import os"
   ]
  },
  {
   "cell_type": "code",
   "execution_count": 2,
   "id": "618804d9",
   "metadata": {},
   "outputs": [],
   "source": [
    "def counts2mag(cps, band):\n",
    "    scale = 18.82 if band == 'FUV' else 20.08\n",
    "    with np.errstate(invalid='ignore'):\n",
    "        with warnings.catch_warnings():\n",
    "            warnings.simplefilter(\"ignore\")\n",
    "            mag = -2.5 * np.log10(cps) + scale\n",
    "    return mag"
   ]
  },
  {
   "cell_type": "code",
   "execution_count": 3,
   "id": "f627eeae",
   "metadata": {},
   "outputs": [],
   "source": [
    "def angularSeparation(ra1, dec1, ra2, dec2):\n",
    "\n",
    "    d2r = np.pi/180.\n",
    "    ra2deg = 1./d2r\n",
    "\n",
    "    d1 = dec1*d2r\n",
    "    d2 = dec2*d2r\n",
    "\n",
    "    r1 = ra1*d2r\n",
    "    r2 = ra2*d2r\n",
    "\n",
    "    a = np.sin((d2-d1)/2.)**2.+np.cos(d1)*np.cos(d2)*np.sin((r2-r1)/2.)**2.\n",
    "    r = 2*np.arcsin(np.sqrt(a))\n",
    "\n",
    "    return r*ra2deg"
   ]
  },
  {
   "cell_type": "code",
   "execution_count": 4,
   "id": "aa811175",
   "metadata": {},
   "outputs": [],
   "source": [
    "header_data = pd.read_csv('../ref/mislike_image_header_table.csv')\n",
    "catalog_filename = '../ref/catalog_nd_daostarfinder.parquet'\n",
    "catalog_file = pq.ParquetFile(catalog_filename)"
   ]
  },
  {
   "cell_type": "code",
   "execution_count": 5,
   "id": "ecb9527f",
   "metadata": {},
   "outputs": [],
   "source": [
    "def make_target_table(objid_list,morphology=''):\n",
    "    table = pd.DataFrame()\n",
    "    for objid in objid_list:\n",
    "        eclipse = int(str(objid)[-5:])\n",
    "        this_star = pq.read_table(catalog_filename,filters =\n",
    "                                  [('eclipse','=',eclipse),\n",
    "                                   ('obj_id','=',objid)]).to_pandas()\n",
    "        this_star['morphology'] = morphology\n",
    "        table = pd.concat([table,this_star[[\"eclipse\",\"obj_id\",\"ra\",\"dec\",\"morphology\"]]])\n",
    "    return table"
   ]
  },
  {
   "cell_type": "code",
   "execution_count": 7,
   "id": "86defa77",
   "metadata": {},
   "outputs": [
    {
     "data": {
      "text/html": [
       "<pre style=\"white-space:pre;overflow-x:auto;line-height:normal;font-family:Menlo,'DejaVu Sans Mono',consolas,'Courier New',monospace\"><span style=\"color: #008080; text-decoration-color: #008080; font-weight: bold\">865</span> sources found in general search\n",
       "</pre>\n"
      ],
      "text/plain": [
       "\u001b[1;36m865\u001b[0m sources found in general search\n"
      ]
     },
     "metadata": {},
     "output_type": "display_data"
    },
    {
     "data": {
      "text/html": [
       "<pre style=\"white-space:pre;overflow-x:auto;line-height:normal;font-family:Menlo,'DejaVu Sans Mono',consolas,'Courier New',monospace\"><span style=\"color: #008080; text-decoration-color: #008080; font-weight: bold\">654</span> sources found in targeted search\n",
       "</pre>\n"
      ],
      "text/plain": [
       "\u001b[1;36m654\u001b[0m sources found in targeted search\n"
      ]
     },
     "metadata": {},
     "output_type": "display_data"
    },
    {
     "data": {
      "text/html": [
       "<pre style=\"white-space:pre;overflow-x:auto;line-height:normal;font-family:Menlo,'DejaVu Sans Mono',consolas,'Courier New',monospace\"><span style=\"color: #008080; text-decoration-color: #008080; font-weight: bold\">281</span> sources found in matched FUV targets\n",
       "</pre>\n"
      ],
      "text/plain": [
       "\u001b[1;36m281\u001b[0m sources found in matched FUV targets\n"
      ]
     },
     "metadata": {},
     "output_type": "display_data"
    }
   ],
   "source": [
    "gfcat_corpus = pd.DataFrame()\n",
    "path = \"/Users/cm/GFCAT/gfcat/test_gifs/sorted/\"\n",
    "for d in ['flare','eclipse','trend','unk variable']:\n",
    "    targets = []\n",
    "    for fn in os.listdir(f\"{path}{d}/\"):\n",
    "        try:\n",
    "            targets+=[int(fn.split('-')[1])]\n",
    "        except IndexError:\n",
    "            continue\n",
    "    table = make_target_table(targets,morphology=d.upper()[0])\n",
    "    gfcat_corpus = pd.concat([gfcat_corpus,table])\n",
    "print(f'{len(gfcat_corpus)} sources found in general search')\n",
    "\n",
    "gfcat_targeted = pd.DataFrame()\n",
    "path = \"/Users/cm/GFCAT/gfcat/test_known_jpg/sorted/\"\n",
    "for d in ['flare','eclipse','trend','unk variable']:\n",
    "    targets = []\n",
    "    for fn in os.listdir(f\"{path}{d}/\"):\n",
    "        try:\n",
    "            targets+=[int(fn.split('-')[1])]\n",
    "        except IndexError:\n",
    "            continue\n",
    "    table = make_target_table(targets,morphology=d.upper()[0])\n",
    "    gfcat_targeted = pd.concat([gfcat_targeted,table])\n",
    "print(f'{len(gfcat_targeted)} sources found in targeted search')\n",
    "\n",
    "gfcat_fuv_matched = pd.DataFrame()\n",
    "path = \"/Users/cm/GFCAT/gfcat/test_fuv_matched/sorted/\"\n",
    "for d in ['flare','eclipse','trend','unk variable']:\n",
    "    targets = []\n",
    "    for fn in os.listdir(f\"{path}{d}/\"):\n",
    "        try:\n",
    "            targets+=[int(fn.split('-')[1])]\n",
    "        except IndexError:\n",
    "            continue\n",
    "    table = make_target_table(targets,morphology=d.upper()[0])\n",
    "    gfcat_fuv_matched = pd.concat([gfcat_fuv_matched,table])\n",
    "print(f'{len(gfcat_fuv_matched)} sources found in matched FUV targets')\n",
    "\n"
   ]
  },
  {
   "cell_type": "code",
   "execution_count": 8,
   "id": "0d72d06c",
   "metadata": {
    "scrolled": false
   },
   "outputs": [],
   "source": [
    "def make_variable_target_table(obj_ids):\n",
    "    variable_table = pd.DataFrame()\n",
    "    for obj_id in obj_ids:\n",
    "        eclipse = int(str(obj_id)[-5:])\n",
    "        #obj_id = int(objid)\n",
    "        this_star = pq.read_table(catalog_filename,filters =\n",
    "                                  [('eclipse','=',eclipse),\n",
    "                                   ('obj_id','=',obj_id)]).to_pandas()\n",
    "        expt = header_data.loc[header_data['ECLIPSE']==eclipse].loc[header_data['BAND']=='NUV']['EXPT_0']\n",
    "        cps = this_star[\"aperture_sum_n_12_8\"].tolist()[0]/expt.tolist()[0]\n",
    "        cps_err = np.sqrt(this_star[\"aperture_sum_n_12_8\"].tolist()[0])/expt.tolist()[0]\n",
    "        mag = counts2mag(cps,'NUV')\n",
    "        mag_err_1 = mag-counts2mag(cps+cps_err,'NUV')\n",
    "        mag_err_2 = counts2mag(cps-cps_err,'NUV')-mag # this one is always larger\n",
    "        this_star['cps'] = cps\n",
    "        this_star['cps_err'] = cps_err\n",
    "        this_star['NUVmag'] = mag\n",
    "        this_star['NUVmag_err_1'] = mag_err_1\n",
    "        this_star['NUVmag_err_2'] = mag_err_2\n",
    "        variable_table = pd.concat([variable_table,\n",
    "                                 this_star[\n",
    "                                    [\"obj_id\",\"ra\",\"dec\",\"eclipse\",\"NUVmag\",\"NUVmag_err_1\",\"NUVmag_err_2\",]]])\n",
    "    return variable_table\n"
   ]
  },
  {
   "cell_type": "code",
   "execution_count": 46,
   "id": "bdeaae18",
   "metadata": {},
   "outputs": [],
   "source": [
    "# define manually adjusted source positions\n",
    "mpt = \"\"\"06882 99999906882 310.03898  -0.86965 F \n",
    "15112 99999915112 173.68275  45.53918 F\n",
    "29166 99999929166 355.72871   1.65753 F\n",
    "29390 99999929390  10.92245 -42.34763 U\n",
    "29643 99999929643  53.06506 -29.51007 U\n",
    "43201 99999943201 217.15856  57.75332 U\n",
    "03858 99999903858 135.96049  52.35710 F\n",
    "04028 99999904028 189.00277  62.49956 F\n",
    "07940 99999907940   6.43415  17.08139 F\n",
    "09709 99999909709 164.46273  -3.76613 U\n",
    "13533 99999913533  16.65372  45.38989 F\n",
    "13656 99999913656  24.76303 -17.94913 F\n",
    "16497 99999916497 219.53099  33.10083 F\n",
    "18081 99999918081 358.46939 -10.54433 F\n",
    "18380 99999918380   7.70821 -71.84528 F\n",
    "18753 99999918753  51.26207 -17.21407 F\n",
    "23505 99999923505  13.11492   0.09855 F\n",
    "26488 99999926488 212.80185   6.83090 F\n",
    "28619 99999928619 326.15289   0.70565 F\n",
    "30122 99999930122  53.00912 -27.04739 F\n",
    "30668 99999930668 133.73297   2.57409 F\n",
    "31274 99999931274 120.70829  36.45803 F\n",
    "36705 99999936705 146.54298  15.54300 F\n",
    "40521 99999940521  29.19705  -0.35408 F\n",
    "40930 99999940930  70.63517  18.43965 F\n",
    "42499 99999942499 165.10157  12.73207 F\n",
    "43238 99999943238 243.41123  54.66503 F\n",
    "43828 99999943828 338.34099 -60.93026 F\n",
    "44684 99999944684 308.13204   7.97132 F\n",
    "45629 99999945629 160.64052  76.02885 F\"\"\"\n",
    "\n",
    "gfcat_adjusted = pd.DataFrame(\n",
    "    {'eclipse':np.array(np.array([t.split() for t in mpt.split('\\n')])[:,0],dtype='int'),\n",
    "     'obj_id':np.array(np.array([t.split() for t in mpt.split('\\n')])[:,1],dtype='int64'),\n",
    "     'ra':np.array(np.array([t.split() for t in mpt.split('\\n')])[:,2],dtype='float'),\n",
    "     'dec':np.array(np.array([t.split() for t in mpt.split('\\n')])[:,3],dtype='float'),\n",
    "     'morphology':np.array(np.array([t.split() for t in mpt.split('\\n')])[:,4],dtype='str')})"
   ]
  },
  {
   "cell_type": "code",
   "execution_count": 47,
   "id": "27ffd130",
   "metadata": {},
   "outputs": [],
   "source": [
    "# compile both targeted and untargeted sources\n",
    "#gfcat_draft = pd.concat([make_variable_target_table(gfcat_corpus['obj_id'].values),\n",
    "#                         make_variable_target_table(gfcat_targeted['obj_id'].values),\n",
    "#                         make_variable_target_table(gfcat_fuv_matched['obj_id'].values),\n",
    "#                         gfcat_adjusted])\n",
    "#print(len(gfcat_draft))"
   ]
  },
  {
   "cell_type": "code",
   "execution_count": 48,
   "id": "46067c0f",
   "metadata": {},
   "outputs": [
    {
     "data": {
      "text/html": [
       "<pre style=\"white-space:pre;overflow-x:auto;line-height:normal;font-family:Menlo,'DejaVu Sans Mono',consolas,'Courier New',monospace\">Starting with <span style=\"color: #008080; text-decoration-color: #008080; font-weight: bold\">1830</span> identified variable source-visits\n",
       "</pre>\n"
      ],
      "text/plain": [
       "Starting with \u001b[1;36m1830\u001b[0m identified variable source-visits\n"
      ]
     },
     "metadata": {},
     "output_type": "display_data"
    }
   ],
   "source": [
    "gfcat_combined = pd.concat([gfcat_corpus,gfcat_targeted,gfcat_adjusted,gfcat_fuv_matched])\n",
    "print(f\"Starting with {len(gfcat_combined)} identified variable source-visits\")\n",
    "gfcat_combined.to_csv('/Users/cm/Downloads/temp.csv')"
   ]
  },
  {
   "cell_type": "code",
   "execution_count": 49,
   "id": "89f61871",
   "metadata": {},
   "outputs": [],
   "source": [
    "un,ix=np.unique(gfcat_combined['obj_id'],return_index=True)\n",
    "gfcat_visits = gfcat_combined.iloc[ix].reset_index()"
   ]
  },
  {
   "cell_type": "code",
   "execution_count": 76,
   "id": "9278b6f2",
   "metadata": {
    "scrolled": false
   },
   "outputs": [],
   "source": [
    "for e in np.unique(gfcat_combined.iloc[ix]['eclipse']):\n",
    "    visits = gfcat_visits[gfcat_visits['eclipse']==e]\n",
    "    if len(visits)==2:\n",
    "        d = angularSeparation(visits['ra'].values.mean(),\n",
    "                              visits['dec'].values.mean(),\n",
    "                              visits['ra'].values,visits['dec'].values)\n",
    "        if all(d<12.5/60/60):\n",
    "            adj_test = [obj_id.startswith('999999') for obj_id in visits['obj_id'].astype('str').values]\n",
    "            if any(adj_test):\n",
    "                # drop the non-adjusted one, which will always be the first one by index because\n",
    "                # of how we constructed the table => ugly shortcut; don't be like me\n",
    "                gfcat_visits.drop(visits.index[0],inplace=True)\n",
    "            # the following judgements were made with manual review\n",
    "            elif e==9625:\n",
    "                gfcat_visits.drop(visits.index[0],inplace=True)\n",
    "            elif e==19732:\n",
    "                gfcat_visits.drop(visits.index[0],inplace=True)\n",
    "            elif e==22274:\n",
    "                gfcat_visits.drop(visits.index[0],inplace=True)\n",
    "            elif e==27109:\n",
    "                pass # two flaring stars in the same visit right next to each other!\n",
    "            elif e==35599:\n",
    "                gfcat_visits.drop(visits.index[1],inplace=True)\n",
    "            else:\n",
    "                print(visits)\n",
    "                raise\n",
    "# This results in 5 probably duplicates. I'm going to run these all the way through QA plot gneration\n",
    "# and then screen them manually. There are probably also other sources with unique obj_id that are basically\n",
    "# the same source, and those will also be obvious during QA and I can filter them as well."
   ]
  },
  {
   "cell_type": "code",
   "execution_count": 77,
   "id": "572e5cb3",
   "metadata": {},
   "outputs": [
    {
     "data": {
      "text/html": [
       "<div>\n",
       "<style scoped>\n",
       "    .dataframe tbody tr th:only-of-type {\n",
       "        vertical-align: middle;\n",
       "    }\n",
       "\n",
       "    .dataframe tbody tr th {\n",
       "        vertical-align: top;\n",
       "    }\n",
       "\n",
       "    .dataframe thead th {\n",
       "        text-align: right;\n",
       "    }\n",
       "</style>\n",
       "<table border=\"1\" class=\"dataframe\">\n",
       "  <thead>\n",
       "    <tr style=\"text-align: right;\">\n",
       "      <th></th>\n",
       "      <th>index</th>\n",
       "      <th>eclipse</th>\n",
       "      <th>obj_id</th>\n",
       "      <th>ra</th>\n",
       "      <th>dec</th>\n",
       "      <th>morphology</th>\n",
       "    </tr>\n",
       "  </thead>\n",
       "  <tbody>\n",
       "    <tr>\n",
       "      <th>0</th>\n",
       "      <td>0</td>\n",
       "      <td>26808</td>\n",
       "      <td>20726808</td>\n",
       "      <td>185.750875</td>\n",
       "      <td>29.544538</td>\n",
       "      <td>T</td>\n",
       "    </tr>\n",
       "    <tr>\n",
       "      <th>1</th>\n",
       "      <td>0</td>\n",
       "      <td>21378</td>\n",
       "      <td>39121378</td>\n",
       "      <td>204.877337</td>\n",
       "      <td>30.654018</td>\n",
       "      <td>U</td>\n",
       "    </tr>\n",
       "    <tr>\n",
       "      <th>2</th>\n",
       "      <td>0</td>\n",
       "      <td>26045</td>\n",
       "      <td>41026045</td>\n",
       "      <td>149.468637</td>\n",
       "      <td>2.338955</td>\n",
       "      <td>U</td>\n",
       "    </tr>\n",
       "    <tr>\n",
       "      <th>3</th>\n",
       "      <td>0</td>\n",
       "      <td>23102</td>\n",
       "      <td>42723102</td>\n",
       "      <td>257.253864</td>\n",
       "      <td>58.873073</td>\n",
       "      <td>F</td>\n",
       "    </tr>\n",
       "    <tr>\n",
       "      <th>4</th>\n",
       "      <td>0</td>\n",
       "      <td>17070</td>\n",
       "      <td>44617070</td>\n",
       "      <td>247.108147</td>\n",
       "      <td>40.861124</td>\n",
       "      <td>F</td>\n",
       "    </tr>\n",
       "    <tr>\n",
       "      <th>...</th>\n",
       "      <td>...</td>\n",
       "      <td>...</td>\n",
       "      <td>...</td>\n",
       "      <td>...</td>\n",
       "      <td>...</td>\n",
       "      <td>...</td>\n",
       "    </tr>\n",
       "    <tr>\n",
       "      <th>1529</th>\n",
       "      <td>5</td>\n",
       "      <td>43201</td>\n",
       "      <td>99999943201</td>\n",
       "      <td>217.158560</td>\n",
       "      <td>57.753320</td>\n",
       "      <td>U</td>\n",
       "    </tr>\n",
       "    <tr>\n",
       "      <th>1530</th>\n",
       "      <td>26</td>\n",
       "      <td>43238</td>\n",
       "      <td>99999943238</td>\n",
       "      <td>243.411230</td>\n",
       "      <td>54.665030</td>\n",
       "      <td>F</td>\n",
       "    </tr>\n",
       "    <tr>\n",
       "      <th>1531</th>\n",
       "      <td>27</td>\n",
       "      <td>43828</td>\n",
       "      <td>99999943828</td>\n",
       "      <td>338.340990</td>\n",
       "      <td>-60.930260</td>\n",
       "      <td>F</td>\n",
       "    </tr>\n",
       "    <tr>\n",
       "      <th>1532</th>\n",
       "      <td>28</td>\n",
       "      <td>44684</td>\n",
       "      <td>99999944684</td>\n",
       "      <td>308.132040</td>\n",
       "      <td>7.971320</td>\n",
       "      <td>F</td>\n",
       "    </tr>\n",
       "    <tr>\n",
       "      <th>1533</th>\n",
       "      <td>29</td>\n",
       "      <td>45629</td>\n",
       "      <td>99999945629</td>\n",
       "      <td>160.640520</td>\n",
       "      <td>76.028850</td>\n",
       "      <td>F</td>\n",
       "    </tr>\n",
       "  </tbody>\n",
       "</table>\n",
       "<p>1525 rows × 6 columns</p>\n",
       "</div>"
      ],
      "text/plain": [
       "      index  eclipse       obj_id          ra        dec morphology\n",
       "0         0    26808     20726808  185.750875  29.544538          T\n",
       "1         0    21378     39121378  204.877337  30.654018          U\n",
       "2         0    26045     41026045  149.468637   2.338955          U\n",
       "3         0    23102     42723102  257.253864  58.873073          F\n",
       "4         0    17070     44617070  247.108147  40.861124          F\n",
       "...     ...      ...          ...         ...        ...        ...\n",
       "1529      5    43201  99999943201  217.158560  57.753320          U\n",
       "1530     26    43238  99999943238  243.411230  54.665030          F\n",
       "1531     27    43828  99999943828  338.340990 -60.930260          F\n",
       "1532     28    44684  99999944684  308.132040   7.971320          F\n",
       "1533     29    45629  99999945629  160.640520  76.028850          F\n",
       "\n",
       "[1525 rows x 6 columns]"
      ]
     },
     "execution_count": 77,
     "metadata": {},
     "output_type": "execute_result"
    }
   ],
   "source": [
    "gfcat_visits"
   ]
  },
  {
   "cell_type": "code",
   "execution_count": 74,
   "id": "8c20d288",
   "metadata": {},
   "outputs": [],
   "source": [
    "gfcat_visits[['eclipse','obj_id','ra','dec','morphology']].to_csv(\n",
    "    'gfcat_visit_table_positions.csv',index=None)"
   ]
  },
  {
   "cell_type": "code",
   "execution_count": null,
   "id": "a323264b",
   "metadata": {},
   "outputs": [],
   "source": []
  }
 ],
 "metadata": {
  "kernelspec": {
   "display_name": "Python 3 (ipykernel)",
   "language": "python",
   "name": "python3"
  },
  "language_info": {
   "codemirror_mode": {
    "name": "ipython",
    "version": 3
   },
   "file_extension": ".py",
   "mimetype": "text/x-python",
   "name": "python",
   "nbconvert_exporter": "python",
   "pygments_lexer": "ipython3",
   "version": "3.9.15"
  }
 },
 "nbformat": 4,
 "nbformat_minor": 5
}
