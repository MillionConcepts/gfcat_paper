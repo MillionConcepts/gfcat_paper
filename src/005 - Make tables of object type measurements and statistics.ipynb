{
 "cells": [
  {
   "cell_type": "code",
   "execution_count": 1,
   "id": "b3ee2fd2",
   "metadata": {},
   "outputs": [],
   "source": [
    "%matplotlib inline\n",
    "import matplotlib.pyplot as plt\n",
    "from matplotlib.patches import Rectangle, Circle\n",
    "import numpy as np\n",
    "import pyarrow.parquet as pq\n",
    "import pandas as pd\n",
    "pd.options.display.max_rows = 100\n",
    "from rich import print\n",
    "import warnings\n",
    "import datetime\n",
    "from astropy.time import Time\n",
    "import os\n",
    "import astropy.units as u\n",
    "from astroquery.gaia import Gaia\n",
    "from astroquery.simbad import Simbad\n",
    "import astropy.coordinates as coord\n",
    "import astropy.units as u\n",
    "import time\n",
    "from gfcat_utils import parse_lightcurves_csv,parse_exposure_time,read_image\n",
    "from matplotlib import gridspec\n",
    "from astropy.visualization import ZScaleInterval\n",
    "from matplotlib.ticker import FormatStrFormatter, MaxNLocator\n",
    "from scipy.interpolate import interp1d\n",
    "from astropy.stats import sigma_clip\n",
    "from function_defs import *\n",
    "import tqdm\n",
    "from matplotlib import gridspec\n",
    "from sklearn.cluster import DBSCAN\n"
   ]
  },
  {
   "cell_type": "code",
   "execution_count": 2,
   "id": "62e9cb62",
   "metadata": {},
   "outputs": [],
   "source": [
    "def counts2flux(cps, band):\n",
    "    scale = 1.4e-15 if band == 'FUV' else 2.06e-16\n",
    "    return scale*cps\n",
    "\n",
    "def counts2mag(cps, band):\n",
    "    scale = 18.82 if band == 'FUV' else 20.08\n",
    "    # This threw a warning if the countrate was negative which happens when\n",
    "    #  the background is brighter than the source. Suppress.\n",
    "    with np.errstate(invalid='ignore'):\n",
    "        with warnings.catch_warnings():\n",
    "            warnings.simplefilter(\"ignore\")\n",
    "            mag = -2.5 * np.log10(cps) + scale\n",
    "    return mag"
   ]
  },
  {
   "cell_type": "code",
   "execution_count": 3,
   "id": "9420a02c",
   "metadata": {},
   "outputs": [
    {
     "data": {
      "text/plain": [
       "1042"
      ]
     },
     "execution_count": 3,
     "metadata": {},
     "output_type": "execute_result"
    }
   ],
   "source": [
    "tbl = pd.read_csv('gfcat_visit_table_lcstats.csv',index_col=0)\n",
    "ftbl = tbl[tbl['morphology']=='F']\n",
    "len(ftbl)"
   ]
  },
  {
   "cell_type": "code",
   "execution_count": 4,
   "id": "b3c422c4",
   "metadata": {
    "scrolled": false
   },
   "outputs": [
    {
     "name": "stderr",
     "output_type": "stream",
     "text": [
      "1042it [00:58, 17.96it/s]\n"
     ]
    },
    {
     "data": {
      "text/html": [
       "<div>\n",
       "<style scoped>\n",
       "    .dataframe tbody tr th:only-of-type {\n",
       "        vertical-align: middle;\n",
       "    }\n",
       "\n",
       "    .dataframe tbody tr th {\n",
       "        vertical-align: top;\n",
       "    }\n",
       "\n",
       "    .dataframe thead th {\n",
       "        text-align: right;\n",
       "    }\n",
       "</style>\n",
       "<table border=\"1\" class=\"dataframe\">\n",
       "  <thead>\n",
       "    <tr style=\"text-align: right;\">\n",
       "      <th></th>\n",
       "      <th>eclipse</th>\n",
       "      <th>obj_id</th>\n",
       "      <th>ra</th>\n",
       "      <th>dec</th>\n",
       "      <th>simbad_n_match</th>\n",
       "      <th>simbad_otype</th>\n",
       "      <th>simbad_main_id</th>\n",
       "      <th>simbad_distance</th>\n",
       "      <th>simbad_distance_err_2</th>\n",
       "      <th>simbad_distance_err_1</th>\n",
       "      <th>...</th>\n",
       "      <th>peak_flux_FUV</th>\n",
       "      <th>peak_flux_err_FUV</th>\n",
       "      <th>peak_mag_FUV</th>\n",
       "      <th>peak_t0_FUV</th>\n",
       "      <th>quiescence_cps_FUV</th>\n",
       "      <th>quiescence_cps_err_FUV</th>\n",
       "      <th>quiescence_flux_FUV</th>\n",
       "      <th>quiescence_flux_err_FUV</th>\n",
       "      <th>quiescence_mag_FUV</th>\n",
       "      <th>quiescence_mag_err_FUV</th>\n",
       "    </tr>\n",
       "  </thead>\n",
       "  <tbody>\n",
       "    <tr>\n",
       "      <th>1</th>\n",
       "      <td>1413</td>\n",
       "      <td>1953301413.0</td>\n",
       "      <td>311.565113</td>\n",
       "      <td>-4.930670</td>\n",
       "      <td>0</td>\n",
       "      <td>Low-Mass*</td>\n",
       "      <td>2MASS J20461427-0456025</td>\n",
       "      <td>817.8621084485156</td>\n",
       "      <td>65.98240829734561</td>\n",
       "      <td>-78.67724834533783</td>\n",
       "      <td>...</td>\n",
       "      <td>0.0</td>\n",
       "      <td>0.0</td>\n",
       "      <td>19.973362</td>\n",
       "      <td>743928496</td>\n",
       "      <td>0.324898</td>\n",
       "      <td>0.013665</td>\n",
       "      <td>0.0</td>\n",
       "      <td>0.0</td>\n",
       "      <td>16.830945</td>\n",
       "      <td>0.016733</td>\n",
       "    </tr>\n",
       "    <tr>\n",
       "      <th>2</th>\n",
       "      <td>1420</td>\n",
       "      <td>1468701420.0</td>\n",
       "      <td>315.935391</td>\n",
       "      <td>-7.379244</td>\n",
       "      <td>1</td>\n",
       "      <td>Low-Mass*</td>\n",
       "      <td>2MASS J21034437-0722434</td>\n",
       "      <td>484.8719937936385</td>\n",
       "      <td>67.54455660357485</td>\n",
       "      <td>-93.63083686476938</td>\n",
       "      <td>...</td>\n",
       "      <td>0.0</td>\n",
       "      <td>0.0</td>\n",
       "      <td>21.433751</td>\n",
       "      <td>743970140</td>\n",
       "      <td>0.288181</td>\n",
       "      <td>0.014946</td>\n",
       "      <td>0.0</td>\n",
       "      <td>0.0</td>\n",
       "      <td>17.607328</td>\n",
       "      <td>0.021929</td>\n",
       "    </tr>\n",
       "    <tr>\n",
       "      <th>3</th>\n",
       "      <td>1422</td>\n",
       "      <td>1479501422.0</td>\n",
       "      <td>343.352654</td>\n",
       "      <td>-39.793072</td>\n",
       "      <td>0</td>\n",
       "      <td>Galaxy</td>\n",
       "      <td>LEDA 2794348</td>\n",
       "      <td>--</td>\n",
       "      <td>--</td>\n",
       "      <td>--</td>\n",
       "      <td>...</td>\n",
       "      <td>--</td>\n",
       "      <td>--</td>\n",
       "      <td>--</td>\n",
       "      <td>--</td>\n",
       "      <td>--</td>\n",
       "      <td>--</td>\n",
       "      <td>--</td>\n",
       "      <td>--</td>\n",
       "      <td>--</td>\n",
       "      <td>--</td>\n",
       "    </tr>\n",
       "    <tr>\n",
       "      <th>4</th>\n",
       "      <td>1534</td>\n",
       "      <td>1091701534.0</td>\n",
       "      <td>259.445075</td>\n",
       "      <td>59.689607</td>\n",
       "      <td>1</td>\n",
       "      <td>Star</td>\n",
       "      <td>2MASS J17174656+5941240</td>\n",
       "      <td>129.1522446660123</td>\n",
       "      <td>2.0260592582583</td>\n",
       "      <td>-2.091685349043644</td>\n",
       "      <td>...</td>\n",
       "      <td>0.0</td>\n",
       "      <td>0.0</td>\n",
       "      <td>20.625874</td>\n",
       "      <td>744644285</td>\n",
       "      <td>0.169849</td>\n",
       "      <td>0.010239</td>\n",
       "      <td>0.0</td>\n",
       "      <td>0.0</td>\n",
       "      <td>18.349073</td>\n",
       "      <td>0.029758</td>\n",
       "    </tr>\n",
       "    <tr>\n",
       "      <th>4</th>\n",
       "      <td>1534</td>\n",
       "      <td>1091701534.0</td>\n",
       "      <td>259.445075</td>\n",
       "      <td>59.689607</td>\n",
       "      <td>1</td>\n",
       "      <td>Star</td>\n",
       "      <td>2MASS J17174656+5941240</td>\n",
       "      <td>129.1522446660123</td>\n",
       "      <td>2.0260592582583</td>\n",
       "      <td>-2.091685349043644</td>\n",
       "      <td>...</td>\n",
       "      <td>0.0</td>\n",
       "      <td>0.0</td>\n",
       "      <td>21.789698</td>\n",
       "      <td>744644165</td>\n",
       "      <td>0.169849</td>\n",
       "      <td>0.010239</td>\n",
       "      <td>0.0</td>\n",
       "      <td>0.0</td>\n",
       "      <td>18.349073</td>\n",
       "      <td>0.029758</td>\n",
       "    </tr>\n",
       "    <tr>\n",
       "      <th>...</th>\n",
       "      <td>...</td>\n",
       "      <td>...</td>\n",
       "      <td>...</td>\n",
       "      <td>...</td>\n",
       "      <td>...</td>\n",
       "      <td>...</td>\n",
       "      <td>...</td>\n",
       "      <td>...</td>\n",
       "      <td>...</td>\n",
       "      <td>...</td>\n",
       "      <td>...</td>\n",
       "      <td>...</td>\n",
       "      <td>...</td>\n",
       "      <td>...</td>\n",
       "      <td>...</td>\n",
       "      <td>...</td>\n",
       "      <td>...</td>\n",
       "      <td>...</td>\n",
       "      <td>...</td>\n",
       "      <td>...</td>\n",
       "      <td>...</td>\n",
       "    </tr>\n",
       "    <tr>\n",
       "      <th>2049</th>\n",
       "      <td>46434</td>\n",
       "      <td>--</td>\n",
       "      <td>83.025278</td>\n",
       "      <td>-26.766145</td>\n",
       "      <td>0</td>\n",
       "      <td>WhiteDwarf_Candidate</td>\n",
       "      <td>Gaia DR3 2908651564812569216</td>\n",
       "      <td>1067.5776662752216</td>\n",
       "      <td>290.57689773814593</td>\n",
       "      <td>-637.7429747665781</td>\n",
       "      <td>...</td>\n",
       "      <td>--</td>\n",
       "      <td>--</td>\n",
       "      <td>--</td>\n",
       "      <td>--</td>\n",
       "      <td>--</td>\n",
       "      <td>--</td>\n",
       "      <td>--</td>\n",
       "      <td>--</td>\n",
       "      <td>--</td>\n",
       "      <td>--</td>\n",
       "    </tr>\n",
       "    <tr>\n",
       "      <th>2050</th>\n",
       "      <td>46438</td>\n",
       "      <td>--</td>\n",
       "      <td>91.025539</td>\n",
       "      <td>39.641683</td>\n",
       "      <td>1</td>\n",
       "      <td>X</td>\n",
       "      <td>1RXS J060407.5+393836</td>\n",
       "      <td>--</td>\n",
       "      <td>--</td>\n",
       "      <td>--</td>\n",
       "      <td>...</td>\n",
       "      <td>--</td>\n",
       "      <td>--</td>\n",
       "      <td>--</td>\n",
       "      <td>--</td>\n",
       "      <td>--</td>\n",
       "      <td>--</td>\n",
       "      <td>--</td>\n",
       "      <td>--</td>\n",
       "      <td>--</td>\n",
       "      <td>--</td>\n",
       "    </tr>\n",
       "    <tr>\n",
       "      <th>2051</th>\n",
       "      <td>46560</td>\n",
       "      <td>--</td>\n",
       "      <td>115.557791</td>\n",
       "      <td>40.030106</td>\n",
       "      <td>1</td>\n",
       "      <td>HighPM*</td>\n",
       "      <td>2MASS J07421381+4001505</td>\n",
       "      <td>46.142062181042995</td>\n",
       "      <td>0.03255209477141108</td>\n",
       "      <td>-0.032598089078341275</td>\n",
       "      <td>...</td>\n",
       "      <td>--</td>\n",
       "      <td>--</td>\n",
       "      <td>--</td>\n",
       "      <td>--</td>\n",
       "      <td>--</td>\n",
       "      <td>--</td>\n",
       "      <td>--</td>\n",
       "      <td>--</td>\n",
       "      <td>--</td>\n",
       "      <td>--</td>\n",
       "    </tr>\n",
       "    <tr>\n",
       "      <th>2057</th>\n",
       "      <td>46767</td>\n",
       "      <td>--</td>\n",
       "      <td>188.178706</td>\n",
       "      <td>-34.410847</td>\n",
       "      <td>0</td>\n",
       "      <td>--</td>\n",
       "      <td>--</td>\n",
       "      <td>--</td>\n",
       "      <td>--</td>\n",
       "      <td>--</td>\n",
       "      <td>...</td>\n",
       "      <td>--</td>\n",
       "      <td>--</td>\n",
       "      <td>--</td>\n",
       "      <td>--</td>\n",
       "      <td>--</td>\n",
       "      <td>--</td>\n",
       "      <td>--</td>\n",
       "      <td>--</td>\n",
       "      <td>--</td>\n",
       "      <td>--</td>\n",
       "    </tr>\n",
       "    <tr>\n",
       "      <th>2063</th>\n",
       "      <td>46828</td>\n",
       "      <td>--</td>\n",
       "      <td>183.710681</td>\n",
       "      <td>-32.431776</td>\n",
       "      <td>0</td>\n",
       "      <td>--</td>\n",
       "      <td>--</td>\n",
       "      <td>--</td>\n",
       "      <td>--</td>\n",
       "      <td>--</td>\n",
       "      <td>...</td>\n",
       "      <td>--</td>\n",
       "      <td>--</td>\n",
       "      <td>--</td>\n",
       "      <td>--</td>\n",
       "      <td>--</td>\n",
       "      <td>--</td>\n",
       "      <td>--</td>\n",
       "      <td>--</td>\n",
       "      <td>--</td>\n",
       "      <td>--</td>\n",
       "    </tr>\n",
       "  </tbody>\n",
       "</table>\n",
       "<p>1128 rows × 125 columns</p>\n",
       "</div>"
      ],
      "text/plain": [
       "      eclipse        obj_id          ra        dec  simbad_n_match  \\\n",
       "1        1413  1953301413.0  311.565113  -4.930670               0   \n",
       "2        1420  1468701420.0  315.935391  -7.379244               1   \n",
       "3        1422  1479501422.0  343.352654 -39.793072               0   \n",
       "4        1534  1091701534.0  259.445075  59.689607               1   \n",
       "4        1534  1091701534.0  259.445075  59.689607               1   \n",
       "...       ...           ...         ...        ...             ...   \n",
       "2049    46434            --   83.025278 -26.766145               0   \n",
       "2050    46438            --   91.025539  39.641683               1   \n",
       "2051    46560            --  115.557791  40.030106               1   \n",
       "2057    46767            --  188.178706 -34.410847               0   \n",
       "2063    46828            --  183.710681 -32.431776               0   \n",
       "\n",
       "              simbad_otype                simbad_main_id     simbad_distance  \\\n",
       "1                Low-Mass*       2MASS J20461427-0456025   817.8621084485156   \n",
       "2                Low-Mass*       2MASS J21034437-0722434   484.8719937936385   \n",
       "3                   Galaxy                  LEDA 2794348                  --   \n",
       "4                     Star       2MASS J17174656+5941240   129.1522446660123   \n",
       "4                     Star       2MASS J17174656+5941240   129.1522446660123   \n",
       "...                    ...                           ...                 ...   \n",
       "2049  WhiteDwarf_Candidate  Gaia DR3 2908651564812569216  1067.5776662752216   \n",
       "2050                     X         1RXS J060407.5+393836                  --   \n",
       "2051               HighPM*       2MASS J07421381+4001505  46.142062181042995   \n",
       "2057                    --                            --                  --   \n",
       "2063                    --                            --                  --   \n",
       "\n",
       "     simbad_distance_err_2  simbad_distance_err_1  ... peak_flux_FUV  \\\n",
       "1        65.98240829734561     -78.67724834533783  ...           0.0   \n",
       "2        67.54455660357485     -93.63083686476938  ...           0.0   \n",
       "3                       --                     --  ...            --   \n",
       "4          2.0260592582583     -2.091685349043644  ...           0.0   \n",
       "4          2.0260592582583     -2.091685349043644  ...           0.0   \n",
       "...                    ...                    ...  ...           ...   \n",
       "2049    290.57689773814593     -637.7429747665781  ...            --   \n",
       "2050                    --                     --  ...            --   \n",
       "2051   0.03255209477141108  -0.032598089078341275  ...            --   \n",
       "2057                    --                     --  ...            --   \n",
       "2063                    --                     --  ...            --   \n",
       "\n",
       "     peak_flux_err_FUV peak_mag_FUV  peak_t0_FUV quiescence_cps_FUV  \\\n",
       "1                  0.0    19.973362    743928496           0.324898   \n",
       "2                  0.0    21.433751    743970140           0.288181   \n",
       "3                   --           --           --                 --   \n",
       "4                  0.0    20.625874    744644285           0.169849   \n",
       "4                  0.0    21.789698    744644165           0.169849   \n",
       "...                ...          ...          ...                ...   \n",
       "2049                --           --           --                 --   \n",
       "2050                --           --           --                 --   \n",
       "2051                --           --           --                 --   \n",
       "2057                --           --           --                 --   \n",
       "2063                --           --           --                 --   \n",
       "\n",
       "      quiescence_cps_err_FUV quiescence_flux_FUV  quiescence_flux_err_FUV  \\\n",
       "1                   0.013665                 0.0                      0.0   \n",
       "2                   0.014946                 0.0                      0.0   \n",
       "3                         --                  --                       --   \n",
       "4                   0.010239                 0.0                      0.0   \n",
       "4                   0.010239                 0.0                      0.0   \n",
       "...                      ...                 ...                      ...   \n",
       "2049                      --                  --                       --   \n",
       "2050                      --                  --                       --   \n",
       "2051                      --                  --                       --   \n",
       "2057                      --                  --                       --   \n",
       "2063                      --                  --                       --   \n",
       "\n",
       "     quiescence_mag_FUV quiescence_mag_err_FUV  \n",
       "1             16.830945               0.016733  \n",
       "2             17.607328               0.021929  \n",
       "3                    --                     --  \n",
       "4             18.349073               0.029758  \n",
       "4             18.349073               0.029758  \n",
       "...                 ...                    ...  \n",
       "2049                 --                     --  \n",
       "2050                 --                     --  \n",
       "2051                 --                     --  \n",
       "2057                 --                     --  \n",
       "2063                 --                     --  \n",
       "\n",
       "[1128 rows x 125 columns]"
      ]
     },
     "execution_count": 4,
     "metadata": {},
     "output_type": "execute_result"
    }
   ],
   "source": [
    "flare_table = pd.DataFrame()#ftbl.copy()\n",
    "for visit in tqdm.tqdm(ftbl.iterrows()):\n",
    "    visit = visit[1]\n",
    "    e = visit['eclipse']\n",
    "    edir = str(e).zfill(5)\n",
    "    epath = f\"../data/lightcurves/e{edir}\"\n",
    "    ra,dec = visit['ra'],visit['dec']\n",
    "    distance = np.nan if visit['distance']=='--' else float(visit['distance'])\n",
    "    distance_quality_metric = np.nan if visit['gaia_parallax_over_err']=='--' else float(visit['gaia_parallax_over_err'])\n",
    "    if visit['gaia_n_match']==0 and str(visit['simbad_distance'])!='--':\n",
    "        #distance = float(visit['simbad_distance'])\n",
    "        #distance_err_1,distance_err_2 = float(visit['simbad_distance_err_1']),float(visit['simbad_distance_err_2'])\n",
    "        distance,distance_err_1,distance_err_2 = None,None,None\n",
    "    elif visit['gaia_n_match']>0 and distance_quality_metric>=5:\n",
    "        distance = float(visit['gaia_distance'])\n",
    "        distance_err_1,distance_err_2 = float(visit['gaia_distance_err_1']),float(visit['gaia_distance_err_2'])\n",
    "    else:\n",
    "        distance,distance_err_1,distance_err_2 = None,None,None\n",
    "    #print(distance,distance_err_1,distance_err_2)\n",
    "    obs = {}\n",
    "    for band in ['NUV','FUV']:\n",
    "        fn = f\"{epath}/e{edir}-{band[0].lower()}d-30s-photom-17_5.csv\"\n",
    "        try:\n",
    "            expt = parse_exposure_time(f\"{epath}/e{edir}-{band[0].lower()}d-30s-exptime.csv\")\n",
    "            lcs = parse_lightcurves_csv(fn)\n",
    "            # a few eclipse have multiple variables, so we have to pick the right one\n",
    "            ix = np.argmin(angularSeparation(ra,dec,\n",
    "                           np.array([lc['ra'] for lc in lcs]),\n",
    "                           np.array([lc['dec'] for lc in lcs])))\n",
    "            lc = pd.DataFrame({**lcs[ix],**expt}).rename(columns = {'expt_eff':'expt'})\n",
    "            lc['cps_apcorrected']=mag2counts(counts2mag(lc['cps'],band)-apcorrect1(17.5/60/60,band),band)\n",
    "        except FileNotFoundError:\n",
    "            continue\n",
    "        obs[band] = [lc,expt]\n",
    "    if not len(obs):\n",
    "        #print(f\"Missing data for e{e}\")\n",
    "        continue\n",
    "    \n",
    "    band = 'NUV' if 'NUV' in obs.keys() else 'FUV' \n",
    "    lc = obs[band][0]\n",
    "    # Measure flares\n",
    "    (flare_ranges, quiescence, quiescence_err) = refine_flare_ranges(lc,makeplot=False)\n",
    "    for flare_range in flare_ranges:\n",
    "        v = visit.copy()\n",
    "        if distance:\n",
    "            energy = calculate_flare_energy(lc, flare_range, distance, binsize=30, band=band,\n",
    "                       quiescence=[quiescence, quiescence_err], aperture=17.5)\n",
    "            energy_lower = calculate_flare_energy(lc, flare_range, distance+distance_err_1, binsize=30, band=band,\n",
    "                       quiescence=[quiescence, quiescence_err], aperture=17.5)\n",
    "            energy_higher = calculate_flare_energy(lc, flare_range, distance+distance_err_2, binsize=30, band=band,\n",
    "                       quiescence=[quiescence, quiescence_err], aperture=17.5)\n",
    "        fluence = calculate_flare_energy(lc, flare_range, None, binsize=30, band=band,\n",
    "                       quiescence=[quiescence, quiescence_err], aperture=17.5)\n",
    "        \n",
    "        if len(obs.keys())==2:\n",
    "            # because sometimes FUV visits are shorter, make the range fit\n",
    "            fr = list(set(flare_range).intersection(range(len(obs['FUV'][0]))))\n",
    "            if len(fr)!=0:\n",
    "                if distance:\n",
    "                    energy_fuv = calculate_flare_energy(obs['FUV'][0], fr, distance, binsize=30,\n",
    "                                                    band='FUV', aperture=17.5)\n",
    "                    energy_lower_fuv = calculate_flare_energy(obs['FUV'][0], fr, distance+distance_err_1, binsize=30,\n",
    "                                    band='FUV', aperture=17.5)\n",
    "                    energy_higher_fuv = calculate_flare_energy(obs['FUV'][0], fr, distance+distance_err_2, binsize=30,\n",
    "                                    band='FUV', aperture=17.5)\n",
    "                fluence_fuv = calculate_flare_energy(obs['FUV'][0], fr, None, binsize=30,\n",
    "                                                    band='FUV', aperture=17.5)\n",
    "                quiescence_fuv, quiescence_err_fuv = get_inff(obs['FUV'][0])\n",
    "        else:\n",
    "            energy_fuv = (np.nan, np.nan)\n",
    "        v[f'fluence_{band}'] = np.log10(fluence[0])\n",
    "        v[f'fluence_err_{band}'] = np.log10(fluence[1])\n",
    "        if len(obs.keys())==2:\n",
    "            v['fluence_FUV'] = np.log10(fluence_fuv[0])\n",
    "            v['fluence_err_FUV'] = np.log10(fluence_fuv[1])\n",
    "        if distance:\n",
    "            v[f'energy_{band}'] = np.log10(energy[0])\n",
    "            v[f'energy_err_1_{band}'] = np.log10(energy[0]-(energy_lower[0]-energy_lower[1]))\n",
    "            v[f'energy_err_2_{band}'] = np.log10((energy_higher[0]+energy_higher[1])-energy[0])\n",
    "            if len(obs.keys())==2:\n",
    "                v['energy_FUV'] = np.log10(energy_fuv[0])\n",
    "                v['energy_err_1_FUV'] = np.log10(energy_fuv[0]-(energy_lower_fuv[0]-energy_lower_fuv[1]))\n",
    "                v['energy_err_2_FUV'] = np.log10((energy_higher_fuv[0]+energy_higher_fuv[1])-energy_fuv[0])\n",
    "        \n",
    "        v['duration'] = int(np.array(obs['NUV'][1]['t0'])[flare_range].max()-\n",
    "                            np.array(obs['NUV'][1]['t0'])[flare_range].min())\n",
    "        v['left_censored'] = int(is_left_censored(flare_range))\n",
    "        v['right_censored'] = int(is_right_censored(lc,flare_range))\n",
    "        v[f'peak_cps_{band}'] = peak_cps(lc,flare_range)[0]\n",
    "        v[f'peak_cps_err_{band}'] = peak_cps(lc,flare_range)[1]\n",
    "        v[f'peak_flux_{band}'] = counts2flux(peak_cps(lc,flare_range)[0],band)\n",
    "        v[f'peak_flux_err_{band}'] = counts2flux(peak_cps(lc,flare_range)[1],band)\n",
    "        v[f'peak_mag_{band}'] = counts2mag(peak_cps(lc,flare_range)[0],band)\n",
    "        v[f'peak_mag_err_{band}'] = np.abs(counts2mag(peak_cps(lc,flare_range)[0],band)-\n",
    "            counts2mag(peak_cps(lc,flare_range)[0]-peak_cps(lc,flare_range)[1],band))\n",
    "        v[f'peak_t0_{band}'] = int(peak_time(lc,flare_range))\n",
    "        v['peak_censored'] = int(is_peak_censored(lc,flare_range))\n",
    "        v[f'quiescence_cps_{band}'] = quiescence\n",
    "        v[f'quiescence_cps_err_{band}'] = quiescence_err\n",
    "        v[f'quiescence_flux_{band}'] = counts2flux(quiescence,band)\n",
    "        v[f'quiescence_flux_err_{band}'] = counts2flux(quiescence_err,band)\n",
    "        v[f'quiescence_mag_{band}'] = counts2mag(quiescence,band)\n",
    "        v[f'quiescence_mag_err_{band}'] = np.abs(counts2mag(quiescence,band)-\n",
    "                                                counts2mag(quiescence-quiescence_err,band))\n",
    "        v[f'peak_t0_{band}'] = int(peak_time(lc,flare_range))\n",
    "        if len(obs.keys())==2:\n",
    "            v['peak_cps_FUV'] = peak_cps(obs['FUV'][0],fr)[0]\n",
    "            v[f'peak_cps_err_FUV'] = peak_cps(obs['FUV'][0],fr)[1]\n",
    "            v[f'peak_flux_FUV'] = counts2flux(peak_cps(obs['FUV'][0],fr)[0],'FUV')\n",
    "            v[f'peak_flux_err_FUV'] = counts2flux(peak_cps(obs['FUV'][0],fr)[1],'FUV')\n",
    "            v[f'peak_mag_FUV'] = counts2mag(peak_cps(obs['FUV'][0],fr)[0],'FUV')\n",
    "            v[f'peak_mag_err_{band}'] = np.abs(counts2mag(peak_cps(lc,flare_range)[0],'FUV')-\n",
    "                counts2mag(peak_cps(lc,flare_range)[0]-peak_cps(lc,flare_range)[1],'FUV'))\n",
    "            v[f'peak_t0_{band}'] = int(peak_time(lc,flare_range))\n",
    "            v['peak_t0_FUV'] = int(peak_time(obs['FUV'][0],fr))\n",
    "            v['quiescence_cps_FUV'] = quiescence_fuv\n",
    "            v['quiescence_cps_err_FUV'] = quiescence_err_fuv\n",
    "            v[f'quiescence_flux_FUV'] = counts2flux(quiescence,'FUV')\n",
    "            v[f'quiescence_flux_err_FUV'] = counts2flux(quiescence_err,'FUV')\n",
    "            v[f'quiescence_mag_FUV'] = counts2mag(quiescence,'FUV')\n",
    "            v[f'quiescence_mag_err_FUV'] = np.abs(counts2mag(quiescence,'FUV')-\n",
    "                                                 counts2mag(quiescence-quiescence_err,'FUV'))\n",
    "        \n",
    "\n",
    "        flare_table = pd.concat([flare_table,v.to_frame().T])\n",
    "        \n",
    "flare_table.replace(np.nan, '--', inplace=True)\n",
    "flare_table.to_csv('gfcat_flare_table.csv',index=None)\n",
    "flare_table"
   ]
  },
  {
   "cell_type": "code",
   "execution_count": 5,
   "id": "ed185465",
   "metadata": {},
   "outputs": [
    {
     "data": {
      "text/html": [
       "<pre style=\"white-space:pre;overflow-x:auto;line-height:normal;font-family:Menlo,'DejaVu Sans Mono',consolas,'Courier New',monospace\">\\begin<span style=\"font-weight: bold\">{</span>tabular<span style=\"font-weight: bold\">}{</span>lrrrrrrrrrlll<span style=\"font-weight: bold\">}</span>\n",
       "\\toprule\n",
       "       datetime\\_iso &amp;     ra &amp;    dec &amp;  distance &amp;  distance\\_err\\_1 &amp;  distance\\_err\\_2 &amp;  duration &amp;  \n",
       "energy\\_NUV &amp;  energy\\_err\\_1\\_NUV &amp;  energy\\_err\\_2\\_NUV &amp; energy\\_FUV &amp; energy\\_err\\_1\\_FUV &amp; energy\\_err\\_2\\_FUV\n",
       "\\\\\n",
       "\\midrule\n",
       "<span style=\"color: #008080; text-decoration-color: #008080; font-weight: bold\">2003</span>-<span style=\"color: #008080; text-decoration-color: #008080; font-weight: bold\">08</span>-03T<span style=\"color: #00ff00; text-decoration-color: #00ff00; font-weight: bold\">02:40:09</span> &amp; <span style=\"color: #008080; text-decoration-color: #008080; font-weight: bold\">311.57</span> &amp;  <span style=\"color: #008080; text-decoration-color: #008080; font-weight: bold\">-4.93</span> &amp;    <span style=\"color: #008080; text-decoration-color: #008080; font-weight: bold\">191.54</span> &amp;           <span style=\"color: #008080; text-decoration-color: #008080; font-weight: bold\">-2.69</span> &amp;            <span style=\"color: #008080; text-decoration-color: #008080; font-weight: bold\">2.61</span> &amp;      <span style=\"color: #008080; text-decoration-color: #008080; font-weight: bold\">1200</span> &amp;       <span style=\"color: #008080; text-decoration-color: #008080; font-weight: bold\">33.47</span> &amp;  \n",
       "<span style=\"color: #008080; text-decoration-color: #008080; font-weight: bold\">32.22</span> &amp;             <span style=\"color: #008080; text-decoration-color: #008080; font-weight: bold\">32.23</span> &amp;         -- &amp;               -- &amp;               -- \\\\\n",
       "<span style=\"color: #008080; text-decoration-color: #008080; font-weight: bold\">2003</span>-<span style=\"color: #008080; text-decoration-color: #008080; font-weight: bold\">08</span>-03T<span style=\"color: #00ff00; text-decoration-color: #00ff00; font-weight: bold\">14:17:46</span> &amp; <span style=\"color: #008080; text-decoration-color: #008080; font-weight: bold\">315.94</span> &amp;  <span style=\"color: #008080; text-decoration-color: #008080; font-weight: bold\">-7.38</span> &amp;    <span style=\"color: #008080; text-decoration-color: #008080; font-weight: bold\">484.88</span> &amp;          <span style=\"color: #008080; text-decoration-color: #008080; font-weight: bold\">-93.64</span> &amp;           <span style=\"color: #008080; text-decoration-color: #008080; font-weight: bold\">67.55</span> &amp;       <span style=\"color: #008080; text-decoration-color: #008080; font-weight: bold\">300</span> &amp;       <span style=\"color: #008080; text-decoration-color: #008080; font-weight: bold\">33.31</span> &amp;  \n",
       "<span style=\"color: #008080; text-decoration-color: #008080; font-weight: bold\">32.91</span> &amp;             <span style=\"color: #008080; text-decoration-color: #008080; font-weight: bold\">32.91</span> &amp;         -- &amp;               -- &amp;               -- \\\\\n",
       "<span style=\"color: #008080; text-decoration-color: #008080; font-weight: bold\">2003</span>-<span style=\"color: #008080; text-decoration-color: #008080; font-weight: bold\">08</span>-03T<span style=\"color: #00ff00; text-decoration-color: #00ff00; font-weight: bold\">17:44:22</span> &amp; <span style=\"color: #008080; text-decoration-color: #008080; font-weight: bold\">343.35</span> &amp; <span style=\"color: #008080; text-decoration-color: #008080; font-weight: bold\">-39.79</span> &amp;    <span style=\"color: #008080; text-decoration-color: #008080; font-weight: bold\">104.51</span> &amp;           <span style=\"color: #008080; text-decoration-color: #008080; font-weight: bold\">-0.51</span> &amp;            <span style=\"color: #008080; text-decoration-color: #008080; font-weight: bold\">0.51</span> &amp;       <span style=\"color: #008080; text-decoration-color: #008080; font-weight: bold\">450</span> &amp;       <span style=\"color: #008080; text-decoration-color: #008080; font-weight: bold\">31.89</span> &amp;  \n",
       "<span style=\"color: #008080; text-decoration-color: #008080; font-weight: bold\">30.90</span> &amp;             <span style=\"color: #008080; text-decoration-color: #008080; font-weight: bold\">30.91</span> &amp;         -- &amp;               -- &amp;               -- \\\\\n",
       "<span style=\"color: #008080; text-decoration-color: #008080; font-weight: bold\">2003</span>-<span style=\"color: #008080; text-decoration-color: #008080; font-weight: bold\">08</span>-11T<span style=\"color: #00ff00; text-decoration-color: #00ff00; font-weight: bold\">09:35:58</span> &amp; <span style=\"color: #008080; text-decoration-color: #008080; font-weight: bold\">259.45</span> &amp;  <span style=\"color: #008080; text-decoration-color: #008080; font-weight: bold\">59.69</span> &amp;    <span style=\"color: #008080; text-decoration-color: #008080; font-weight: bold\">129.15</span> &amp;           <span style=\"color: #008080; text-decoration-color: #008080; font-weight: bold\">-2.09</span> &amp;            <span style=\"color: #008080; text-decoration-color: #008080; font-weight: bold\">2.03</span> &amp;       <span style=\"color: #008080; text-decoration-color: #008080; font-weight: bold\">150</span> &amp;       <span style=\"color: #008080; text-decoration-color: #008080; font-weight: bold\">31.38</span> &amp;  \n",
       "<span style=\"color: #008080; text-decoration-color: #008080; font-weight: bold\">30.82</span> &amp;             <span style=\"color: #008080; text-decoration-color: #008080; font-weight: bold\">30.84</span> &amp;      <span style=\"color: #008080; text-decoration-color: #008080; font-weight: bold\">30.16</span> &amp;             <span style=\"color: #008080; text-decoration-color: #008080; font-weight: bold\">30.5</span> &amp;            <span style=\"color: #008080; text-decoration-color: #008080; font-weight: bold\">30.53</span> \\\\\n",
       "<span style=\"color: #008080; text-decoration-color: #008080; font-weight: bold\">2003</span>-<span style=\"color: #008080; text-decoration-color: #008080; font-weight: bold\">08</span>-17T<span style=\"color: #00ff00; text-decoration-color: #00ff00; font-weight: bold\">11:58:32</span> &amp; <span style=\"color: #008080; text-decoration-color: #008080; font-weight: bold\">259.20</span> &amp;  <span style=\"color: #008080; text-decoration-color: #008080; font-weight: bold\">60.04</span> &amp;    <span style=\"color: #008080; text-decoration-color: #008080; font-weight: bold\">215.61</span> &amp;          <span style=\"color: #008080; text-decoration-color: #008080; font-weight: bold\">-12.76</span> &amp;           <span style=\"color: #008080; text-decoration-color: #008080; font-weight: bold\">11.41</span> &amp;       <span style=\"color: #008080; text-decoration-color: #008080; font-weight: bold\">210</span> &amp;       <span style=\"color: #008080; text-decoration-color: #008080; font-weight: bold\">32.25</span> &amp;  \n",
       "<span style=\"color: #008080; text-decoration-color: #008080; font-weight: bold\">31.58</span> &amp;             <span style=\"color: #008080; text-decoration-color: #008080; font-weight: bold\">31.61</span> &amp;         -- &amp;               -- &amp;               -- \\\\\n",
       "<span style=\"color: #008080; text-decoration-color: #008080; font-weight: bold\">2003</span>-<span style=\"color: #008080; text-decoration-color: #008080; font-weight: bold\">08</span>-18T<span style=\"color: #00ff00; text-decoration-color: #00ff00; font-weight: bold\">15:56:17</span> &amp; <span style=\"color: #008080; text-decoration-color: #008080; font-weight: bold\">260.31</span> &amp;  <span style=\"color: #008080; text-decoration-color: #008080; font-weight: bold\">58.10</span> &amp;    <span style=\"color: #008080; text-decoration-color: #008080; font-weight: bold\">454.26</span> &amp;          <span style=\"color: #008080; text-decoration-color: #008080; font-weight: bold\">-26.80</span> &amp;           <span style=\"color: #008080; text-decoration-color: #008080; font-weight: bold\">23.97</span> &amp;       <span style=\"color: #008080; text-decoration-color: #008080; font-weight: bold\">420</span> &amp;       <span style=\"color: #008080; text-decoration-color: #008080; font-weight: bold\">33.12</span> &amp;  \n",
       "<span style=\"color: #008080; text-decoration-color: #008080; font-weight: bold\">32.41</span> &amp;             <span style=\"color: #008080; text-decoration-color: #008080; font-weight: bold\">32.44</span> &amp;      <span style=\"color: #008080; text-decoration-color: #008080; font-weight: bold\">32.62</span> &amp;            <span style=\"color: #008080; text-decoration-color: #008080; font-weight: bold\">32.12</span> &amp;            <span style=\"color: #008080; text-decoration-color: #008080; font-weight: bold\">32.17</span> \\\\\n",
       "<span style=\"color: #008080; text-decoration-color: #008080; font-weight: bold\">2003</span>-<span style=\"color: #008080; text-decoration-color: #008080; font-weight: bold\">08</span>-19T<span style=\"color: #00ff00; text-decoration-color: #00ff00; font-weight: bold\">13:19:18</span> &amp; <span style=\"color: #008080; text-decoration-color: #008080; font-weight: bold\">258.74</span> &amp;  <span style=\"color: #008080; text-decoration-color: #008080; font-weight: bold\">58.86</span> &amp;    <span style=\"color: #008080; text-decoration-color: #008080; font-weight: bold\">470.71</span> &amp;           <span style=\"color: #008080; text-decoration-color: #008080; font-weight: bold\">-3.16</span> &amp;            <span style=\"color: #008080; text-decoration-color: #008080; font-weight: bold\">3.12</span> &amp;       <span style=\"color: #008080; text-decoration-color: #008080; font-weight: bold\">300</span> &amp;       <span style=\"color: #008080; text-decoration-color: #008080; font-weight: bold\">33.66</span> &amp;  \n",
       "<span style=\"color: #008080; text-decoration-color: #008080; font-weight: bold\">32.59</span> &amp;             <span style=\"color: #008080; text-decoration-color: #008080; font-weight: bold\">32.60</span> &amp;         -- &amp;               -- &amp;               -- \\\\\n",
       "<span style=\"color: #008080; text-decoration-color: #008080; font-weight: bold\">2003</span>-<span style=\"color: #008080; text-decoration-color: #008080; font-weight: bold\">08</span>-24T<span style=\"color: #00ff00; text-decoration-color: #00ff00; font-weight: bold\">21:35:41</span> &amp; <span style=\"color: #008080; text-decoration-color: #008080; font-weight: bold\">340.32</span> &amp;  <span style=\"color: #008080; text-decoration-color: #008080; font-weight: bold\">12.17</span> &amp;    <span style=\"color: #008080; text-decoration-color: #008080; font-weight: bold\">286.85</span> &amp;           <span style=\"color: #008080; text-decoration-color: #008080; font-weight: bold\">-9.88</span> &amp;            <span style=\"color: #008080; text-decoration-color: #008080; font-weight: bold\">9.24</span> &amp;       <span style=\"color: #008080; text-decoration-color: #008080; font-weight: bold\">390</span> &amp;       <span style=\"color: #008080; text-decoration-color: #008080; font-weight: bold\">33.10</span> &amp;  \n",
       "<span style=\"color: #008080; text-decoration-color: #008080; font-weight: bold\">32.16</span> &amp;             <span style=\"color: #008080; text-decoration-color: #008080; font-weight: bold\">32.18</span> &amp;         -- &amp;               -- &amp;               -- \\\\\n",
       "<span style=\"color: #008080; text-decoration-color: #008080; font-weight: bold\">2003</span>-<span style=\"color: #008080; text-decoration-color: #008080; font-weight: bold\">08</span>-25T<span style=\"color: #00ff00; text-decoration-color: #00ff00; font-weight: bold\">12:23:29</span> &amp; <span style=\"color: #008080; text-decoration-color: #008080; font-weight: bold\">350.76</span> &amp;  <span style=\"color: #008080; text-decoration-color: #008080; font-weight: bold\">-0.02</span> &amp;    <span style=\"color: #008080; text-decoration-color: #008080; font-weight: bold\">506.99</span> &amp;          <span style=\"color: #008080; text-decoration-color: #008080; font-weight: bold\">-87.34</span> &amp;           <span style=\"color: #008080; text-decoration-color: #008080; font-weight: bold\">64.96</span> &amp;       <span style=\"color: #008080; text-decoration-color: #008080; font-weight: bold\">390</span> &amp;       <span style=\"color: #008080; text-decoration-color: #008080; font-weight: bold\">33.52</span> &amp;  \n",
       "<span style=\"color: #008080; text-decoration-color: #008080; font-weight: bold\">33.06</span> &amp;             <span style=\"color: #008080; text-decoration-color: #008080; font-weight: bold\">33.05</span> &amp;         -- &amp;               -- &amp;               -- \\\\\n",
       "<span style=\"color: #008080; text-decoration-color: #008080; font-weight: bold\">2003</span>-<span style=\"color: #008080; text-decoration-color: #008080; font-weight: bold\">09</span>-29T<span style=\"color: #00ff00; text-decoration-color: #00ff00; font-weight: bold\">14:10:49</span> &amp; <span style=\"color: #008080; text-decoration-color: #008080; font-weight: bold\">334.32</span> &amp;   <span style=\"color: #008080; text-decoration-color: #008080; font-weight: bold\">0.37</span> &amp;    <span style=\"color: #008080; text-decoration-color: #008080; font-weight: bold\">318.87</span> &amp;           <span style=\"color: #008080; text-decoration-color: #008080; font-weight: bold\">-2.15</span> &amp;            <span style=\"color: #008080; text-decoration-color: #008080; font-weight: bold\">2.12</span> &amp;       <span style=\"color: #008080; text-decoration-color: #008080; font-weight: bold\">450</span> &amp;       <span style=\"color: #008080; text-decoration-color: #008080; font-weight: bold\">32.96</span> &amp;  \n",
       "<span style=\"color: #008080; text-decoration-color: #008080; font-weight: bold\">31.89</span> &amp;             <span style=\"color: #008080; text-decoration-color: #008080; font-weight: bold\">31.90</span> &amp;         -- &amp;               -- &amp;               -- \\\\\n",
       "<span style=\"color: #008080; text-decoration-color: #008080; font-weight: bold\">2003</span>-<span style=\"color: #008080; text-decoration-color: #008080; font-weight: bold\">09</span>-30T<span style=\"color: #00ff00; text-decoration-color: #00ff00; font-weight: bold\">01:38:10</span> &amp;  <span style=\"color: #008080; text-decoration-color: #008080; font-weight: bold\">11.24</span> &amp; <span style=\"color: #008080; text-decoration-color: #008080; font-weight: bold\">-43.40</span> &amp;    <span style=\"color: #008080; text-decoration-color: #008080; font-weight: bold\">265.09</span> &amp;           <span style=\"color: #008080; text-decoration-color: #008080; font-weight: bold\">-1.28</span> &amp;            <span style=\"color: #008080; text-decoration-color: #008080; font-weight: bold\">1.27</span> &amp;       <span style=\"color: #008080; text-decoration-color: #008080; font-weight: bold\">510</span> &amp;       <span style=\"color: #008080; text-decoration-color: #008080; font-weight: bold\">32.62</span> &amp;  \n",
       "<span style=\"color: #008080; text-decoration-color: #008080; font-weight: bold\">31.63</span> &amp;             <span style=\"color: #008080; text-decoration-color: #008080; font-weight: bold\">31.64</span> &amp;      <span style=\"color: #008080; text-decoration-color: #008080; font-weight: bold\">31.55</span> &amp;            <span style=\"color: #008080; text-decoration-color: #008080; font-weight: bold\">31.39</span> &amp;             <span style=\"color: #008080; text-decoration-color: #008080; font-weight: bold\">31.4</span> \\\\\n",
       "<span style=\"color: #008080; text-decoration-color: #008080; font-weight: bold\">2003</span>-<span style=\"color: #008080; text-decoration-color: #008080; font-weight: bold\">10</span>-11T<span style=\"color: #00ff00; text-decoration-color: #00ff00; font-weight: bold\">00:42:14</span> &amp;  <span style=\"color: #008080; text-decoration-color: #008080; font-weight: bold\">21.13</span> &amp; <span style=\"color: #008080; text-decoration-color: #008080; font-weight: bold\">-33.92</span> &amp;     <span style=\"color: #008080; text-decoration-color: #008080; font-weight: bold\">25.24</span> &amp;           <span style=\"color: #008080; text-decoration-color: #008080; font-weight: bold\">-0.01</span> &amp;            <span style=\"color: #008080; text-decoration-color: #008080; font-weight: bold\">0.01</span> &amp;       <span style=\"color: #008080; text-decoration-color: #008080; font-weight: bold\">300</span> &amp;       <span style=\"color: #008080; text-decoration-color: #008080; font-weight: bold\">30.52</span> &amp;  \n",
       "<span style=\"color: #008080; text-decoration-color: #008080; font-weight: bold\">29.49</span> &amp;             <span style=\"color: #008080; text-decoration-color: #008080; font-weight: bold\">29.49</span> &amp;         -- &amp;               -- &amp;               -- \\\\\n",
       "<span style=\"color: #008080; text-decoration-color: #008080; font-weight: bold\">2003</span>-<span style=\"color: #008080; text-decoration-color: #008080; font-weight: bold\">10</span>-14T<span style=\"color: #00ff00; text-decoration-color: #00ff00; font-weight: bold\">22:25:10</span> &amp;  <span style=\"color: #008080; text-decoration-color: #008080; font-weight: bold\">30.41</span> &amp;  <span style=\"color: #008080; text-decoration-color: #008080; font-weight: bold\">-8.12</span> &amp;     <span style=\"color: #008080; text-decoration-color: #008080; font-weight: bold\">88.53</span> &amp;           <span style=\"color: #008080; text-decoration-color: #008080; font-weight: bold\">-1.44</span> &amp;            <span style=\"color: #008080; text-decoration-color: #008080; font-weight: bold\">1.40</span> &amp;       <span style=\"color: #008080; text-decoration-color: #008080; font-weight: bold\">450</span> &amp;       <span style=\"color: #008080; text-decoration-color: #008080; font-weight: bold\">31.71</span> &amp;  \n",
       "<span style=\"color: #008080; text-decoration-color: #008080; font-weight: bold\">30.77</span> &amp;             <span style=\"color: #008080; text-decoration-color: #008080; font-weight: bold\">30.79</span> &amp;         -- &amp;               -- &amp;               -- \\\\\n",
       "<span style=\"color: #008080; text-decoration-color: #008080; font-weight: bold\">2003</span>-<span style=\"color: #008080; text-decoration-color: #008080; font-weight: bold\">10</span>-15T<span style=\"color: #00ff00; text-decoration-color: #00ff00; font-weight: bold\">04:59:43</span> &amp;  <span style=\"color: #008080; text-decoration-color: #008080; font-weight: bold\">29.40</span> &amp;  <span style=\"color: #008080; text-decoration-color: #008080; font-weight: bold\">13.89</span> &amp;    <span style=\"color: #008080; text-decoration-color: #008080; font-weight: bold\">285.58</span> &amp;           <span style=\"color: #008080; text-decoration-color: #008080; font-weight: bold\">-7.95</span> &amp;            <span style=\"color: #008080; text-decoration-color: #008080; font-weight: bold\">7.53</span> &amp;       <span style=\"color: #008080; text-decoration-color: #008080; font-weight: bold\">270</span> &amp;       <span style=\"color: #008080; text-decoration-color: #008080; font-weight: bold\">32.74</span> &amp;  \n",
       "<span style=\"color: #008080; text-decoration-color: #008080; font-weight: bold\">31.84</span> &amp;             <span style=\"color: #008080; text-decoration-color: #008080; font-weight: bold\">31.87</span> &amp;       <span style=\"color: #008080; text-decoration-color: #008080; font-weight: bold\">32.4</span> &amp;            <span style=\"color: #008080; text-decoration-color: #008080; font-weight: bold\">31.66</span> &amp;            <span style=\"color: #008080; text-decoration-color: #008080; font-weight: bold\">31.69</span> \\\\\n",
       "<span style=\"color: #008080; text-decoration-color: #008080; font-weight: bold\">2003</span>-<span style=\"color: #008080; text-decoration-color: #008080; font-weight: bold\">11</span>-25T<span style=\"color: #00ff00; text-decoration-color: #00ff00; font-weight: bold\">22:53:12</span> &amp;  <span style=\"color: #008080; text-decoration-color: #008080; font-weight: bold\">41.63</span> &amp;  <span style=\"color: #008080; text-decoration-color: #008080; font-weight: bold\">-7.35</span> &amp;    <span style=\"color: #008080; text-decoration-color: #008080; font-weight: bold\">120.16</span> &amp;           <span style=\"color: #008080; text-decoration-color: #008080; font-weight: bold\">-0.23</span> &amp;            <span style=\"color: #008080; text-decoration-color: #008080; font-weight: bold\">0.23</span> &amp;       <span style=\"color: #008080; text-decoration-color: #008080; font-weight: bold\">480</span> &amp;       <span style=\"color: #008080; text-decoration-color: #008080; font-weight: bold\">33.01</span> &amp;  \n",
       "<span style=\"color: #008080; text-decoration-color: #008080; font-weight: bold\">31.62</span> &amp;             <span style=\"color: #008080; text-decoration-color: #008080; font-weight: bold\">31.63</span> &amp;      <span style=\"color: #008080; text-decoration-color: #008080; font-weight: bold\">32.48</span> &amp;            <span style=\"color: #008080; text-decoration-color: #008080; font-weight: bold\">31.19</span> &amp;            <span style=\"color: #008080; text-decoration-color: #008080; font-weight: bold\">31.19</span> \\\\\n",
       "<span style=\"color: #008080; text-decoration-color: #008080; font-weight: bold\">2003</span>-<span style=\"color: #008080; text-decoration-color: #008080; font-weight: bold\">12</span>-04T<span style=\"color: #00ff00; text-decoration-color: #00ff00; font-weight: bold\">05:47:55</span> &amp;  <span style=\"color: #008080; text-decoration-color: #008080; font-weight: bold\">52.04</span> &amp; <span style=\"color: #008080; text-decoration-color: #008080; font-weight: bold\">-28.62</span> &amp;    <span style=\"color: #008080; text-decoration-color: #008080; font-weight: bold\">281.01</span> &amp;          <span style=\"color: #008080; text-decoration-color: #008080; font-weight: bold\">-41.39</span> &amp;           <span style=\"color: #008080; text-decoration-color: #008080; font-weight: bold\">31.97</span> &amp;       <span style=\"color: #008080; text-decoration-color: #008080; font-weight: bold\">360</span> &amp;       <span style=\"color: #008080; text-decoration-color: #008080; font-weight: bold\">33.20</span> &amp;  \n",
       "<span style=\"color: #008080; text-decoration-color: #008080; font-weight: bold\">32.68</span> &amp;             <span style=\"color: #008080; text-decoration-color: #008080; font-weight: bold\">32.66</span> &amp;         -- &amp;               -- &amp;               -- \\\\\n",
       "<span style=\"color: #008080; text-decoration-color: #008080; font-weight: bold\">2003</span>-<span style=\"color: #008080; text-decoration-color: #008080; font-weight: bold\">12</span>-05T<span style=\"color: #00ff00; text-decoration-color: #00ff00; font-weight: bold\">04:48:35</span> &amp;  <span style=\"color: #008080; text-decoration-color: #008080; font-weight: bold\">52.11</span> &amp; <span style=\"color: #008080; text-decoration-color: #008080; font-weight: bold\">-28.21</span> &amp;    <span style=\"color: #008080; text-decoration-color: #008080; font-weight: bold\">510.33</span> &amp;          <span style=\"color: #008080; text-decoration-color: #008080; font-weight: bold\">-12.67</span> &amp;           <span style=\"color: #008080; text-decoration-color: #008080; font-weight: bold\">12.07</span> &amp;       <span style=\"color: #008080; text-decoration-color: #008080; font-weight: bold\">510</span> &amp;       <span style=\"color: #008080; text-decoration-color: #008080; font-weight: bold\">33.76</span> &amp;  \n",
       "<span style=\"color: #008080; text-decoration-color: #008080; font-weight: bold\">32.67</span> &amp;             <span style=\"color: #008080; text-decoration-color: #008080; font-weight: bold\">32.69</span> &amp;      <span style=\"color: #008080; text-decoration-color: #008080; font-weight: bold\">33.25</span> &amp;            <span style=\"color: #008080; text-decoration-color: #008080; font-weight: bold\">32.37</span> &amp;             <span style=\"color: #008080; text-decoration-color: #008080; font-weight: bold\">32.4</span> \\\\\n",
       "<span style=\"color: #008080; text-decoration-color: #008080; font-weight: bold\">2003</span>-<span style=\"color: #008080; text-decoration-color: #008080; font-weight: bold\">12</span>-05T<span style=\"color: #00ff00; text-decoration-color: #00ff00; font-weight: bold\">04:48:35</span> &amp;  <span style=\"color: #008080; text-decoration-color: #008080; font-weight: bold\">52.11</span> &amp; <span style=\"color: #008080; text-decoration-color: #008080; font-weight: bold\">-28.21</span> &amp;    <span style=\"color: #008080; text-decoration-color: #008080; font-weight: bold\">510.33</span> &amp;          <span style=\"color: #008080; text-decoration-color: #008080; font-weight: bold\">-12.67</span> &amp;           <span style=\"color: #008080; text-decoration-color: #008080; font-weight: bold\">12.07</span> &amp;       <span style=\"color: #008080; text-decoration-color: #008080; font-weight: bold\">600</span> &amp;       <span style=\"color: #008080; text-decoration-color: #008080; font-weight: bold\">33.21</span> &amp;  \n",
       "<span style=\"color: #008080; text-decoration-color: #008080; font-weight: bold\">32.34</span> &amp;             <span style=\"color: #008080; text-decoration-color: #008080; font-weight: bold\">32.37</span> &amp;         -- &amp;               -- &amp;               -- \\\\\n",
       "<span style=\"color: #008080; text-decoration-color: #008080; font-weight: bold\">2003</span>-<span style=\"color: #008080; text-decoration-color: #008080; font-weight: bold\">12</span>-09T<span style=\"color: #00ff00; text-decoration-color: #00ff00; font-weight: bold\">18:56:26</span> &amp;  <span style=\"color: #008080; text-decoration-color: #008080; font-weight: bold\">36.28</span> &amp;  <span style=\"color: #008080; text-decoration-color: #008080; font-weight: bold\">-4.48</span> &amp;    <span style=\"color: #008080; text-decoration-color: #008080; font-weight: bold\">187.79</span> &amp;           <span style=\"color: #008080; text-decoration-color: #008080; font-weight: bold\">-3.76</span> &amp;            <span style=\"color: #008080; text-decoration-color: #008080; font-weight: bold\">3.62</span> &amp;       <span style=\"color: #008080; text-decoration-color: #008080; font-weight: bold\">270</span> &amp;       <span style=\"color: #008080; text-decoration-color: #008080; font-weight: bold\">32.12</span> &amp;  \n",
       "<span style=\"color: #008080; text-decoration-color: #008080; font-weight: bold\">31.30</span> &amp;             <span style=\"color: #008080; text-decoration-color: #008080; font-weight: bold\">31.33</span> &amp;         -- &amp;               -- &amp;               -- \\\\\n",
       "<span style=\"color: #008080; text-decoration-color: #008080; font-weight: bold\">2004</span>-<span style=\"color: #008080; text-decoration-color: #008080; font-weight: bold\">01</span>-11T<span style=\"color: #00ff00; text-decoration-color: #00ff00; font-weight: bold\">17:52:55</span> &amp; <span style=\"color: #008080; text-decoration-color: #008080; font-weight: bold\">119.86</span> &amp;  <span style=\"color: #008080; text-decoration-color: #008080; font-weight: bold\">46.64</span> &amp;    <span style=\"color: #008080; text-decoration-color: #008080; font-weight: bold\">177.09</span> &amp;           <span style=\"color: #008080; text-decoration-color: #008080; font-weight: bold\">-4.13</span> &amp;            <span style=\"color: #008080; text-decoration-color: #008080; font-weight: bold\">3.95</span> &amp;       <span style=\"color: #008080; text-decoration-color: #008080; font-weight: bold\">660</span> &amp;       <span style=\"color: #008080; text-decoration-color: #008080; font-weight: bold\">32.87</span> &amp;  \n",
       "<span style=\"color: #008080; text-decoration-color: #008080; font-weight: bold\">31.82</span> &amp;             <span style=\"color: #008080; text-decoration-color: #008080; font-weight: bold\">31.83</span> &amp;      <span style=\"color: #008080; text-decoration-color: #008080; font-weight: bold\">32.37</span> &amp;            <span style=\"color: #008080; text-decoration-color: #008080; font-weight: bold\">31.55</span> &amp;            <span style=\"color: #008080; text-decoration-color: #008080; font-weight: bold\">31.57</span> \\\\\n",
       "\\bottomrule\n",
       "\\end<span style=\"font-weight: bold\">{</span>tabular<span style=\"font-weight: bold\">}</span>\n",
       "\n",
       "</pre>\n"
      ],
      "text/plain": [
       "\\begin\u001b[1m{\u001b[0mtabular\u001b[1m}\u001b[0m\u001b[1m{\u001b[0mlrrrrrrrrrlll\u001b[1m}\u001b[0m\n",
       "\\toprule\n",
       "       datetime\\_iso &     ra &    dec &  distance &  distance\\_err\\_1 &  distance\\_err\\_2 &  duration &  \n",
       "energy\\_NUV &  energy\\_err\\_1\\_NUV &  energy\\_err\\_2\\_NUV & energy\\_FUV & energy\\_err\\_1\\_FUV & energy\\_err\\_2\\_FUV\n",
       "\\\\\n",
       "\\midrule\n",
       "\u001b[1;36m2003\u001b[0m-\u001b[1;36m08\u001b[0m-03T\u001b[1;92m02:40:09\u001b[0m & \u001b[1;36m311.57\u001b[0m &  \u001b[1;36m-4.93\u001b[0m &    \u001b[1;36m191.54\u001b[0m &           \u001b[1;36m-2.69\u001b[0m &            \u001b[1;36m2.61\u001b[0m &      \u001b[1;36m1200\u001b[0m &       \u001b[1;36m33.47\u001b[0m &  \n",
       "\u001b[1;36m32.22\u001b[0m &             \u001b[1;36m32.23\u001b[0m &         -- &               -- &               -- \\\\\n",
       "\u001b[1;36m2003\u001b[0m-\u001b[1;36m08\u001b[0m-03T\u001b[1;92m14:17:46\u001b[0m & \u001b[1;36m315.94\u001b[0m &  \u001b[1;36m-7.38\u001b[0m &    \u001b[1;36m484.88\u001b[0m &          \u001b[1;36m-93.64\u001b[0m &           \u001b[1;36m67.55\u001b[0m &       \u001b[1;36m300\u001b[0m &       \u001b[1;36m33.31\u001b[0m &  \n",
       "\u001b[1;36m32.91\u001b[0m &             \u001b[1;36m32.91\u001b[0m &         -- &               -- &               -- \\\\\n",
       "\u001b[1;36m2003\u001b[0m-\u001b[1;36m08\u001b[0m-03T\u001b[1;92m17:44:22\u001b[0m & \u001b[1;36m343.35\u001b[0m & \u001b[1;36m-39.79\u001b[0m &    \u001b[1;36m104.51\u001b[0m &           \u001b[1;36m-0.51\u001b[0m &            \u001b[1;36m0.51\u001b[0m &       \u001b[1;36m450\u001b[0m &       \u001b[1;36m31.89\u001b[0m &  \n",
       "\u001b[1;36m30.90\u001b[0m &             \u001b[1;36m30.91\u001b[0m &         -- &               -- &               -- \\\\\n",
       "\u001b[1;36m2003\u001b[0m-\u001b[1;36m08\u001b[0m-11T\u001b[1;92m09:35:58\u001b[0m & \u001b[1;36m259.45\u001b[0m &  \u001b[1;36m59.69\u001b[0m &    \u001b[1;36m129.15\u001b[0m &           \u001b[1;36m-2.09\u001b[0m &            \u001b[1;36m2.03\u001b[0m &       \u001b[1;36m150\u001b[0m &       \u001b[1;36m31.38\u001b[0m &  \n",
       "\u001b[1;36m30.82\u001b[0m &             \u001b[1;36m30.84\u001b[0m &      \u001b[1;36m30.16\u001b[0m &             \u001b[1;36m30.5\u001b[0m &            \u001b[1;36m30.53\u001b[0m \\\\\n",
       "\u001b[1;36m2003\u001b[0m-\u001b[1;36m08\u001b[0m-17T\u001b[1;92m11:58:32\u001b[0m & \u001b[1;36m259.20\u001b[0m &  \u001b[1;36m60.04\u001b[0m &    \u001b[1;36m215.61\u001b[0m &          \u001b[1;36m-12.76\u001b[0m &           \u001b[1;36m11.41\u001b[0m &       \u001b[1;36m210\u001b[0m &       \u001b[1;36m32.25\u001b[0m &  \n",
       "\u001b[1;36m31.58\u001b[0m &             \u001b[1;36m31.61\u001b[0m &         -- &               -- &               -- \\\\\n",
       "\u001b[1;36m2003\u001b[0m-\u001b[1;36m08\u001b[0m-18T\u001b[1;92m15:56:17\u001b[0m & \u001b[1;36m260.31\u001b[0m &  \u001b[1;36m58.10\u001b[0m &    \u001b[1;36m454.26\u001b[0m &          \u001b[1;36m-26.80\u001b[0m &           \u001b[1;36m23.97\u001b[0m &       \u001b[1;36m420\u001b[0m &       \u001b[1;36m33.12\u001b[0m &  \n",
       "\u001b[1;36m32.41\u001b[0m &             \u001b[1;36m32.44\u001b[0m &      \u001b[1;36m32.62\u001b[0m &            \u001b[1;36m32.12\u001b[0m &            \u001b[1;36m32.17\u001b[0m \\\\\n",
       "\u001b[1;36m2003\u001b[0m-\u001b[1;36m08\u001b[0m-19T\u001b[1;92m13:19:18\u001b[0m & \u001b[1;36m258.74\u001b[0m &  \u001b[1;36m58.86\u001b[0m &    \u001b[1;36m470.71\u001b[0m &           \u001b[1;36m-3.16\u001b[0m &            \u001b[1;36m3.12\u001b[0m &       \u001b[1;36m300\u001b[0m &       \u001b[1;36m33.66\u001b[0m &  \n",
       "\u001b[1;36m32.59\u001b[0m &             \u001b[1;36m32.60\u001b[0m &         -- &               -- &               -- \\\\\n",
       "\u001b[1;36m2003\u001b[0m-\u001b[1;36m08\u001b[0m-24T\u001b[1;92m21:35:41\u001b[0m & \u001b[1;36m340.32\u001b[0m &  \u001b[1;36m12.17\u001b[0m &    \u001b[1;36m286.85\u001b[0m &           \u001b[1;36m-9.88\u001b[0m &            \u001b[1;36m9.24\u001b[0m &       \u001b[1;36m390\u001b[0m &       \u001b[1;36m33.10\u001b[0m &  \n",
       "\u001b[1;36m32.16\u001b[0m &             \u001b[1;36m32.18\u001b[0m &         -- &               -- &               -- \\\\\n",
       "\u001b[1;36m2003\u001b[0m-\u001b[1;36m08\u001b[0m-25T\u001b[1;92m12:23:29\u001b[0m & \u001b[1;36m350.76\u001b[0m &  \u001b[1;36m-0.02\u001b[0m &    \u001b[1;36m506.99\u001b[0m &          \u001b[1;36m-87.34\u001b[0m &           \u001b[1;36m64.96\u001b[0m &       \u001b[1;36m390\u001b[0m &       \u001b[1;36m33.52\u001b[0m &  \n",
       "\u001b[1;36m33.06\u001b[0m &             \u001b[1;36m33.05\u001b[0m &         -- &               -- &               -- \\\\\n",
       "\u001b[1;36m2003\u001b[0m-\u001b[1;36m09\u001b[0m-29T\u001b[1;92m14:10:49\u001b[0m & \u001b[1;36m334.32\u001b[0m &   \u001b[1;36m0.37\u001b[0m &    \u001b[1;36m318.87\u001b[0m &           \u001b[1;36m-2.15\u001b[0m &            \u001b[1;36m2.12\u001b[0m &       \u001b[1;36m450\u001b[0m &       \u001b[1;36m32.96\u001b[0m &  \n",
       "\u001b[1;36m31.89\u001b[0m &             \u001b[1;36m31.90\u001b[0m &         -- &               -- &               -- \\\\\n",
       "\u001b[1;36m2003\u001b[0m-\u001b[1;36m09\u001b[0m-30T\u001b[1;92m01:38:10\u001b[0m &  \u001b[1;36m11.24\u001b[0m & \u001b[1;36m-43.40\u001b[0m &    \u001b[1;36m265.09\u001b[0m &           \u001b[1;36m-1.28\u001b[0m &            \u001b[1;36m1.27\u001b[0m &       \u001b[1;36m510\u001b[0m &       \u001b[1;36m32.62\u001b[0m &  \n",
       "\u001b[1;36m31.63\u001b[0m &             \u001b[1;36m31.64\u001b[0m &      \u001b[1;36m31.55\u001b[0m &            \u001b[1;36m31.39\u001b[0m &             \u001b[1;36m31.4\u001b[0m \\\\\n",
       "\u001b[1;36m2003\u001b[0m-\u001b[1;36m10\u001b[0m-11T\u001b[1;92m00:42:14\u001b[0m &  \u001b[1;36m21.13\u001b[0m & \u001b[1;36m-33.92\u001b[0m &     \u001b[1;36m25.24\u001b[0m &           \u001b[1;36m-0.01\u001b[0m &            \u001b[1;36m0.01\u001b[0m &       \u001b[1;36m300\u001b[0m &       \u001b[1;36m30.52\u001b[0m &  \n",
       "\u001b[1;36m29.49\u001b[0m &             \u001b[1;36m29.49\u001b[0m &         -- &               -- &               -- \\\\\n",
       "\u001b[1;36m2003\u001b[0m-\u001b[1;36m10\u001b[0m-14T\u001b[1;92m22:25:10\u001b[0m &  \u001b[1;36m30.41\u001b[0m &  \u001b[1;36m-8.12\u001b[0m &     \u001b[1;36m88.53\u001b[0m &           \u001b[1;36m-1.44\u001b[0m &            \u001b[1;36m1.40\u001b[0m &       \u001b[1;36m450\u001b[0m &       \u001b[1;36m31.71\u001b[0m &  \n",
       "\u001b[1;36m30.77\u001b[0m &             \u001b[1;36m30.79\u001b[0m &         -- &               -- &               -- \\\\\n",
       "\u001b[1;36m2003\u001b[0m-\u001b[1;36m10\u001b[0m-15T\u001b[1;92m04:59:43\u001b[0m &  \u001b[1;36m29.40\u001b[0m &  \u001b[1;36m13.89\u001b[0m &    \u001b[1;36m285.58\u001b[0m &           \u001b[1;36m-7.95\u001b[0m &            \u001b[1;36m7.53\u001b[0m &       \u001b[1;36m270\u001b[0m &       \u001b[1;36m32.74\u001b[0m &  \n",
       "\u001b[1;36m31.84\u001b[0m &             \u001b[1;36m31.87\u001b[0m &       \u001b[1;36m32.4\u001b[0m &            \u001b[1;36m31.66\u001b[0m &            \u001b[1;36m31.69\u001b[0m \\\\\n",
       "\u001b[1;36m2003\u001b[0m-\u001b[1;36m11\u001b[0m-25T\u001b[1;92m22:53:12\u001b[0m &  \u001b[1;36m41.63\u001b[0m &  \u001b[1;36m-7.35\u001b[0m &    \u001b[1;36m120.16\u001b[0m &           \u001b[1;36m-0.23\u001b[0m &            \u001b[1;36m0.23\u001b[0m &       \u001b[1;36m480\u001b[0m &       \u001b[1;36m33.01\u001b[0m &  \n",
       "\u001b[1;36m31.62\u001b[0m &             \u001b[1;36m31.63\u001b[0m &      \u001b[1;36m32.48\u001b[0m &            \u001b[1;36m31.19\u001b[0m &            \u001b[1;36m31.19\u001b[0m \\\\\n",
       "\u001b[1;36m2003\u001b[0m-\u001b[1;36m12\u001b[0m-04T\u001b[1;92m05:47:55\u001b[0m &  \u001b[1;36m52.04\u001b[0m & \u001b[1;36m-28.62\u001b[0m &    \u001b[1;36m281.01\u001b[0m &          \u001b[1;36m-41.39\u001b[0m &           \u001b[1;36m31.97\u001b[0m &       \u001b[1;36m360\u001b[0m &       \u001b[1;36m33.20\u001b[0m &  \n",
       "\u001b[1;36m32.68\u001b[0m &             \u001b[1;36m32.66\u001b[0m &         -- &               -- &               -- \\\\\n",
       "\u001b[1;36m2003\u001b[0m-\u001b[1;36m12\u001b[0m-05T\u001b[1;92m04:48:35\u001b[0m &  \u001b[1;36m52.11\u001b[0m & \u001b[1;36m-28.21\u001b[0m &    \u001b[1;36m510.33\u001b[0m &          \u001b[1;36m-12.67\u001b[0m &           \u001b[1;36m12.07\u001b[0m &       \u001b[1;36m510\u001b[0m &       \u001b[1;36m33.76\u001b[0m &  \n",
       "\u001b[1;36m32.67\u001b[0m &             \u001b[1;36m32.69\u001b[0m &      \u001b[1;36m33.25\u001b[0m &            \u001b[1;36m32.37\u001b[0m &             \u001b[1;36m32.4\u001b[0m \\\\\n",
       "\u001b[1;36m2003\u001b[0m-\u001b[1;36m12\u001b[0m-05T\u001b[1;92m04:48:35\u001b[0m &  \u001b[1;36m52.11\u001b[0m & \u001b[1;36m-28.21\u001b[0m &    \u001b[1;36m510.33\u001b[0m &          \u001b[1;36m-12.67\u001b[0m &           \u001b[1;36m12.07\u001b[0m &       \u001b[1;36m600\u001b[0m &       \u001b[1;36m33.21\u001b[0m &  \n",
       "\u001b[1;36m32.34\u001b[0m &             \u001b[1;36m32.37\u001b[0m &         -- &               -- &               -- \\\\\n",
       "\u001b[1;36m2003\u001b[0m-\u001b[1;36m12\u001b[0m-09T\u001b[1;92m18:56:26\u001b[0m &  \u001b[1;36m36.28\u001b[0m &  \u001b[1;36m-4.48\u001b[0m &    \u001b[1;36m187.79\u001b[0m &           \u001b[1;36m-3.76\u001b[0m &            \u001b[1;36m3.62\u001b[0m &       \u001b[1;36m270\u001b[0m &       \u001b[1;36m32.12\u001b[0m &  \n",
       "\u001b[1;36m31.30\u001b[0m &             \u001b[1;36m31.33\u001b[0m &         -- &               -- &               -- \\\\\n",
       "\u001b[1;36m2004\u001b[0m-\u001b[1;36m01\u001b[0m-11T\u001b[1;92m17:52:55\u001b[0m & \u001b[1;36m119.86\u001b[0m &  \u001b[1;36m46.64\u001b[0m &    \u001b[1;36m177.09\u001b[0m &           \u001b[1;36m-4.13\u001b[0m &            \u001b[1;36m3.95\u001b[0m &       \u001b[1;36m660\u001b[0m &       \u001b[1;36m32.87\u001b[0m &  \n",
       "\u001b[1;36m31.82\u001b[0m &             \u001b[1;36m31.83\u001b[0m &      \u001b[1;36m32.37\u001b[0m &            \u001b[1;36m31.55\u001b[0m &            \u001b[1;36m31.57\u001b[0m \\\\\n",
       "\\bottomrule\n",
       "\\end\u001b[1m{\u001b[0mtabular\u001b[1m}\u001b[0m\n",
       "\n"
      ]
     },
     "metadata": {},
     "output_type": "display_data"
    }
   ],
   "source": [
    "print(t:=flare_table.loc[\n",
    "    flare_table['energy_NUV']!='--'].replace('--',np.nan).astype(\n",
    "    {'energy_NUV':float,'energy_FUV':float,'distance':float,'distance_err_1':float,'distance_err_2':float,#'energy_err_NUV':float,'energy_err_FUV':float,\n",
    "     'ratio_max':float,'ratio_at_nuv_max':float}).round(\n",
    "    {'ra':2,'dec':2,'distance':2,'distance_err_1':2,'distance_err_2':2,'energy_NUV':2,'energy_err_1_NUV':2,'energy_err_2_NUV':2,\n",
    "     'energy_FUV':2,'energy_err_1_FUV':2,'energy_err_2_FUV':2,'ratio_max':2,'ratio_at_nuv_max':2}).iloc[:20].replace(np.nan,'--')[\n",
    "    ['datetime_iso','ra','dec','distance','distance_err_1','distance_err_2','duration','energy_NUV','energy_err_1_NUV','energy_err_2_NUV',\n",
    "     'energy_FUV','energy_err_1_FUV','energy_err_2_FUV',]].to_latex(index=False))"
   ]
  },
  {
   "cell_type": "code",
   "execution_count": 6,
   "id": "8a13215b",
   "metadata": {},
   "outputs": [
    {
     "data": {
      "text/html": [
       "<pre style=\"white-space:pre;overflow-x:auto;line-height:normal;font-family:Menlo,'DejaVu Sans Mono',consolas,'Courier New',monospace\">\\begin<span style=\"font-weight: bold\">{</span>tabular<span style=\"font-weight: bold\">}{</span>lrrrrrrr<span style=\"font-weight: bold\">}</span>\n",
       "</pre>\n"
      ],
      "text/plain": [
       "\\begin\u001b[1m{\u001b[0mtabular\u001b[1m}\u001b[0m\u001b[1m{\u001b[0mlrrrrrrr\u001b[1m}\u001b[0m\n"
      ]
     },
     "metadata": {},
     "output_type": "display_data"
    },
    {
     "data": {
      "text/html": [
       "<pre style=\"white-space:pre;overflow-x:auto;line-height:normal;font-family:Menlo,'DejaVu Sans Mono',consolas,'Courier New',monospace\">\\toprule\n",
       "</pre>\n"
      ],
      "text/plain": [
       "\\toprule\n"
      ]
     },
     "metadata": {},
     "output_type": "display_data"
    },
    {
     "data": {
      "text/html": [
       "<pre style=\"white-space:pre;overflow-x:auto;line-height:normal;font-family:Menlo,'DejaVu Sans Mono',consolas,'Courier New',monospace\">       Datetime <span style=\"font-weight: bold\">(</span>ISO<span style=\"font-weight: bold\">)</span> &amp;     RA &amp;    Dec &amp;  distance &amp;  dur. &amp;  NUV energy &amp; FUV energy  &amp; complete \\\\\n",
       "</pre>\n"
      ],
      "text/plain": [
       "       Datetime \u001b[1m(\u001b[0mISO\u001b[1m)\u001b[0m &     RA &    Dec &  distance &  dur. &  NUV energy & FUV energy  & complete \\\\\n"
      ]
     },
     "metadata": {},
     "output_type": "display_data"
    },
    {
     "data": {
      "text/html": [
       "<pre style=\"white-space:pre;overflow-x:auto;line-height:normal;font-family:Menlo,'DejaVu Sans Mono',consolas,'Courier New',monospace\">                      &amp;  <span style=\"font-weight: bold\">(</span>deg<span style=\"font-weight: bold\">)</span> &amp;  <span style=\"font-weight: bold\">(</span>deg<span style=\"font-weight: bold\">)</span> &amp;   <span style=\"font-weight: bold\">(</span>pc<span style=\"font-weight: bold\">)</span>    &amp;  <span style=\"font-weight: bold\">(</span>s<span style=\"font-weight: bold\">)</span>  &amp; <span style=\"font-weight: bold\">(</span>log10 erg<span style=\"font-weight: bold\">)</span> &amp; <span style=\"font-weight: bold\">(</span>log10 erg<span style=\"font-weight: bold\">)</span> &amp; flare    \\\\\n",
       "</pre>\n"
      ],
      "text/plain": [
       "                      &  \u001b[1m(\u001b[0mdeg\u001b[1m)\u001b[0m &  \u001b[1m(\u001b[0mdeg\u001b[1m)\u001b[0m &   \u001b[1m(\u001b[0mpc\u001b[1m)\u001b[0m    &  \u001b[1m(\u001b[0ms\u001b[1m)\u001b[0m  & \u001b[1m(\u001b[0mlog10 erg\u001b[1m)\u001b[0m & \u001b[1m(\u001b[0mlog10 erg\u001b[1m)\u001b[0m & flare    \\\\\n"
      ]
     },
     "metadata": {},
     "output_type": "display_data"
    },
    {
     "data": {
      "text/html": [
       "<pre style=\"white-space:pre;overflow-x:auto;line-height:normal;font-family:Menlo,'DejaVu Sans Mono',consolas,'Courier New',monospace\">\\midrule\n",
       "</pre>\n"
      ],
      "text/plain": [
       "\\midrule\n"
      ]
     },
     "metadata": {},
     "output_type": "display_data"
    },
    {
     "data": {
      "text/html": [
       "<pre style=\"white-space:pre;overflow-x:auto;line-height:normal;font-family:Menlo,'DejaVu Sans Mono',consolas,'Courier New',monospace\"><span style=\"color: #008080; text-decoration-color: #008080; font-weight: bold\">2003</span>-<span style=\"color: #008080; text-decoration-color: #008080; font-weight: bold\">08</span>-03T<span style=\"color: #00ff00; text-decoration-color: #00ff00; font-weight: bold\">02:40:09</span> &amp; <span style=\"color: #008080; text-decoration-color: #008080; font-weight: bold\">311.57</span> &amp; <span style=\"color: #008080; text-decoration-color: #008080; font-weight: bold\">-4.93</span> &amp; <span style=\"color: #008080; text-decoration-color: #008080; font-weight: bold\">191.54</span><span style=\"font-weight: bold\">{</span>\\raisebox<span style=\"font-weight: bold\">{</span><span style=\"color: #008080; text-decoration-color: #008080; font-weight: bold\">0.</span>5ex<span style=\"font-weight: bold\">}{</span>\\tiny$^<span style=\"font-weight: bold\">{</span>+<span style=\"color: #008080; text-decoration-color: #008080; font-weight: bold\">2.61</span><span style=\"font-weight: bold\">}</span>_<span style=\"font-weight: bold\">{</span><span style=\"color: #008080; text-decoration-color: #008080; font-weight: bold\">-2.69</span><span style=\"font-weight: bold\">}</span>$<span style=\"font-weight: bold\">}}</span> &amp; <span style=\"color: #008080; text-decoration-color: #008080; font-weight: bold\">1200</span> &amp; \n",
       "<span style=\"color: #008080; text-decoration-color: #008080; font-weight: bold\">33.47</span><span style=\"font-weight: bold\">{</span>\\raisebox<span style=\"font-weight: bold\">{</span><span style=\"color: #008080; text-decoration-color: #008080; font-weight: bold\">0.</span>5ex<span style=\"font-weight: bold\">}{</span>\\tiny$^<span style=\"font-weight: bold\">{</span>+<span style=\"color: #008080; text-decoration-color: #008080; font-weight: bold\">32.23</span><span style=\"font-weight: bold\">}</span>_<span style=\"font-weight: bold\">{</span><span style=\"color: #008080; text-decoration-color: #008080; font-weight: bold\">-32.22</span><span style=\"font-weight: bold\">}</span>$<span style=\"font-weight: bold\">}}</span> &amp; -- &amp; N \\\\ \n",
       "</pre>\n"
      ],
      "text/plain": [
       "\u001b[1;36m2003\u001b[0m-\u001b[1;36m08\u001b[0m-03T\u001b[1;92m02:40:09\u001b[0m & \u001b[1;36m311.57\u001b[0m & \u001b[1;36m-4.93\u001b[0m & \u001b[1;36m191.54\u001b[0m\u001b[1m{\u001b[0m\\raisebox\u001b[1m{\u001b[0m\u001b[1;36m0.\u001b[0m5ex\u001b[1m}\u001b[0m\u001b[1m{\u001b[0m\\tiny$^\u001b[1m{\u001b[0m+\u001b[1;36m2.61\u001b[0m\u001b[1m}\u001b[0m_\u001b[1m{\u001b[0m\u001b[1;36m-2.69\u001b[0m\u001b[1m}\u001b[0m$\u001b[1m}\u001b[0m\u001b[1m}\u001b[0m & \u001b[1;36m1200\u001b[0m & \n",
       "\u001b[1;36m33.47\u001b[0m\u001b[1m{\u001b[0m\\raisebox\u001b[1m{\u001b[0m\u001b[1;36m0.\u001b[0m5ex\u001b[1m}\u001b[0m\u001b[1m{\u001b[0m\\tiny$^\u001b[1m{\u001b[0m+\u001b[1;36m32.23\u001b[0m\u001b[1m}\u001b[0m_\u001b[1m{\u001b[0m\u001b[1;36m-32.22\u001b[0m\u001b[1m}\u001b[0m$\u001b[1m}\u001b[0m\u001b[1m}\u001b[0m & -- & N \\\\ \n"
      ]
     },
     "metadata": {},
     "output_type": "display_data"
    },
    {
     "data": {
      "text/html": [
       "<pre style=\"white-space:pre;overflow-x:auto;line-height:normal;font-family:Menlo,'DejaVu Sans Mono',consolas,'Courier New',monospace\"><span style=\"color: #008080; text-decoration-color: #008080; font-weight: bold\">2003</span>-<span style=\"color: #008080; text-decoration-color: #008080; font-weight: bold\">08</span>-03T<span style=\"color: #00ff00; text-decoration-color: #00ff00; font-weight: bold\">14:17:46</span> &amp; <span style=\"color: #008080; text-decoration-color: #008080; font-weight: bold\">315.94</span> &amp; <span style=\"color: #008080; text-decoration-color: #008080; font-weight: bold\">-7.38</span> &amp; <span style=\"color: #008080; text-decoration-color: #008080; font-weight: bold\">484.88</span><span style=\"font-weight: bold\">{</span>\\raisebox<span style=\"font-weight: bold\">{</span><span style=\"color: #008080; text-decoration-color: #008080; font-weight: bold\">0.</span>5ex<span style=\"font-weight: bold\">}{</span>\\tiny$^<span style=\"font-weight: bold\">{</span>+<span style=\"color: #008080; text-decoration-color: #008080; font-weight: bold\">67.55</span><span style=\"font-weight: bold\">}</span>_<span style=\"font-weight: bold\">{</span><span style=\"color: #008080; text-decoration-color: #008080; font-weight: bold\">-93.64</span><span style=\"font-weight: bold\">}</span>$<span style=\"font-weight: bold\">}}</span> &amp; <span style=\"color: #008080; text-decoration-color: #008080; font-weight: bold\">300</span> &amp; \n",
       "<span style=\"color: #008080; text-decoration-color: #008080; font-weight: bold\">33.31</span><span style=\"font-weight: bold\">{</span>\\raisebox<span style=\"font-weight: bold\">{</span><span style=\"color: #008080; text-decoration-color: #008080; font-weight: bold\">0.</span>5ex<span style=\"font-weight: bold\">}{</span>\\tiny$^<span style=\"font-weight: bold\">{</span>+<span style=\"color: #008080; text-decoration-color: #008080; font-weight: bold\">32.91</span><span style=\"font-weight: bold\">}</span>_<span style=\"font-weight: bold\">{</span><span style=\"color: #008080; text-decoration-color: #008080; font-weight: bold\">-32.91</span><span style=\"font-weight: bold\">}</span>$<span style=\"font-weight: bold\">}}</span> &amp; -- &amp; Y \\\\ \n",
       "</pre>\n"
      ],
      "text/plain": [
       "\u001b[1;36m2003\u001b[0m-\u001b[1;36m08\u001b[0m-03T\u001b[1;92m14:17:46\u001b[0m & \u001b[1;36m315.94\u001b[0m & \u001b[1;36m-7.38\u001b[0m & \u001b[1;36m484.88\u001b[0m\u001b[1m{\u001b[0m\\raisebox\u001b[1m{\u001b[0m\u001b[1;36m0.\u001b[0m5ex\u001b[1m}\u001b[0m\u001b[1m{\u001b[0m\\tiny$^\u001b[1m{\u001b[0m+\u001b[1;36m67.55\u001b[0m\u001b[1m}\u001b[0m_\u001b[1m{\u001b[0m\u001b[1;36m-93.64\u001b[0m\u001b[1m}\u001b[0m$\u001b[1m}\u001b[0m\u001b[1m}\u001b[0m & \u001b[1;36m300\u001b[0m & \n",
       "\u001b[1;36m33.31\u001b[0m\u001b[1m{\u001b[0m\\raisebox\u001b[1m{\u001b[0m\u001b[1;36m0.\u001b[0m5ex\u001b[1m}\u001b[0m\u001b[1m{\u001b[0m\\tiny$^\u001b[1m{\u001b[0m+\u001b[1;36m32.91\u001b[0m\u001b[1m}\u001b[0m_\u001b[1m{\u001b[0m\u001b[1;36m-32.91\u001b[0m\u001b[1m}\u001b[0m$\u001b[1m}\u001b[0m\u001b[1m}\u001b[0m & -- & Y \\\\ \n"
      ]
     },
     "metadata": {},
     "output_type": "display_data"
    },
    {
     "data": {
      "text/html": [
       "<pre style=\"white-space:pre;overflow-x:auto;line-height:normal;font-family:Menlo,'DejaVu Sans Mono',consolas,'Courier New',monospace\"><span style=\"color: #008080; text-decoration-color: #008080; font-weight: bold\">2003</span>-<span style=\"color: #008080; text-decoration-color: #008080; font-weight: bold\">08</span>-03T<span style=\"color: #00ff00; text-decoration-color: #00ff00; font-weight: bold\">17:44:22</span> &amp; <span style=\"color: #008080; text-decoration-color: #008080; font-weight: bold\">343.35</span> &amp; <span style=\"color: #008080; text-decoration-color: #008080; font-weight: bold\">-39.79</span> &amp; <span style=\"color: #008080; text-decoration-color: #008080; font-weight: bold\">104.51</span><span style=\"font-weight: bold\">{</span>\\raisebox<span style=\"font-weight: bold\">{</span><span style=\"color: #008080; text-decoration-color: #008080; font-weight: bold\">0.</span>5ex<span style=\"font-weight: bold\">}{</span>\\tiny$^<span style=\"font-weight: bold\">{</span>+<span style=\"color: #008080; text-decoration-color: #008080; font-weight: bold\">0.51</span><span style=\"font-weight: bold\">}</span>_<span style=\"font-weight: bold\">{</span><span style=\"color: #008080; text-decoration-color: #008080; font-weight: bold\">-0.51</span><span style=\"font-weight: bold\">}</span>$<span style=\"font-weight: bold\">}}</span> &amp; <span style=\"color: #008080; text-decoration-color: #008080; font-weight: bold\">450</span> &amp; \n",
       "<span style=\"color: #008080; text-decoration-color: #008080; font-weight: bold\">31.89</span><span style=\"font-weight: bold\">{</span>\\raisebox<span style=\"font-weight: bold\">{</span><span style=\"color: #008080; text-decoration-color: #008080; font-weight: bold\">0.</span>5ex<span style=\"font-weight: bold\">}{</span>\\tiny$^<span style=\"font-weight: bold\">{</span>+<span style=\"color: #008080; text-decoration-color: #008080; font-weight: bold\">30.91</span><span style=\"font-weight: bold\">}</span>_<span style=\"font-weight: bold\">{</span><span style=\"color: #008080; text-decoration-color: #008080; font-weight: bold\">-30.90</span><span style=\"font-weight: bold\">}</span>$<span style=\"font-weight: bold\">}}</span> &amp; -- &amp; N \\\\ \n",
       "</pre>\n"
      ],
      "text/plain": [
       "\u001b[1;36m2003\u001b[0m-\u001b[1;36m08\u001b[0m-03T\u001b[1;92m17:44:22\u001b[0m & \u001b[1;36m343.35\u001b[0m & \u001b[1;36m-39.79\u001b[0m & \u001b[1;36m104.51\u001b[0m\u001b[1m{\u001b[0m\\raisebox\u001b[1m{\u001b[0m\u001b[1;36m0.\u001b[0m5ex\u001b[1m}\u001b[0m\u001b[1m{\u001b[0m\\tiny$^\u001b[1m{\u001b[0m+\u001b[1;36m0.51\u001b[0m\u001b[1m}\u001b[0m_\u001b[1m{\u001b[0m\u001b[1;36m-0.51\u001b[0m\u001b[1m}\u001b[0m$\u001b[1m}\u001b[0m\u001b[1m}\u001b[0m & \u001b[1;36m450\u001b[0m & \n",
       "\u001b[1;36m31.89\u001b[0m\u001b[1m{\u001b[0m\\raisebox\u001b[1m{\u001b[0m\u001b[1;36m0.\u001b[0m5ex\u001b[1m}\u001b[0m\u001b[1m{\u001b[0m\\tiny$^\u001b[1m{\u001b[0m+\u001b[1;36m30.91\u001b[0m\u001b[1m}\u001b[0m_\u001b[1m{\u001b[0m\u001b[1;36m-30.90\u001b[0m\u001b[1m}\u001b[0m$\u001b[1m}\u001b[0m\u001b[1m}\u001b[0m & -- & N \\\\ \n"
      ]
     },
     "metadata": {},
     "output_type": "display_data"
    },
    {
     "data": {
      "text/html": [
       "<pre style=\"white-space:pre;overflow-x:auto;line-height:normal;font-family:Menlo,'DejaVu Sans Mono',consolas,'Courier New',monospace\"><span style=\"color: #008080; text-decoration-color: #008080; font-weight: bold\">2003</span>-<span style=\"color: #008080; text-decoration-color: #008080; font-weight: bold\">08</span>-11T<span style=\"color: #00ff00; text-decoration-color: #00ff00; font-weight: bold\">09:35:58</span> &amp; <span style=\"color: #008080; text-decoration-color: #008080; font-weight: bold\">259.45</span> &amp; <span style=\"color: #008080; text-decoration-color: #008080; font-weight: bold\">59.69</span> &amp; <span style=\"color: #008080; text-decoration-color: #008080; font-weight: bold\">129.15</span><span style=\"font-weight: bold\">{</span>\\raisebox<span style=\"font-weight: bold\">{</span><span style=\"color: #008080; text-decoration-color: #008080; font-weight: bold\">0.</span>5ex<span style=\"font-weight: bold\">}{</span>\\tiny$^<span style=\"font-weight: bold\">{</span>+<span style=\"color: #008080; text-decoration-color: #008080; font-weight: bold\">2.03</span><span style=\"font-weight: bold\">}</span>_<span style=\"font-weight: bold\">{</span><span style=\"color: #008080; text-decoration-color: #008080; font-weight: bold\">-2.09</span><span style=\"font-weight: bold\">}</span>$<span style=\"font-weight: bold\">}}</span> &amp; <span style=\"color: #008080; text-decoration-color: #008080; font-weight: bold\">150</span> &amp; \n",
       "<span style=\"color: #008080; text-decoration-color: #008080; font-weight: bold\">31.38</span><span style=\"font-weight: bold\">{</span>\\raisebox<span style=\"font-weight: bold\">{</span><span style=\"color: #008080; text-decoration-color: #008080; font-weight: bold\">0.</span>5ex<span style=\"font-weight: bold\">}{</span>\\tiny$^<span style=\"font-weight: bold\">{</span>+<span style=\"color: #008080; text-decoration-color: #008080; font-weight: bold\">30.84</span><span style=\"font-weight: bold\">}</span>_<span style=\"font-weight: bold\">{</span><span style=\"color: #008080; text-decoration-color: #008080; font-weight: bold\">-30.82</span><span style=\"font-weight: bold\">}</span>$<span style=\"font-weight: bold\">}}</span> &amp; <span style=\"color: #008080; text-decoration-color: #008080; font-weight: bold\">30.16</span><span style=\"font-weight: bold\">{</span>\\raisebox<span style=\"font-weight: bold\">{</span><span style=\"color: #008080; text-decoration-color: #008080; font-weight: bold\">0.</span>5ex<span style=\"font-weight: bold\">}{</span>\\tiny$^<span style=\"font-weight: bold\">{</span>+<span style=\"color: #008080; text-decoration-color: #008080; font-weight: bold\">30.53</span><span style=\"font-weight: bold\">}</span>_<span style=\"font-weight: bold\">{</span><span style=\"color: #008080; text-decoration-color: #008080; font-weight: bold\">-30.5</span><span style=\"font-weight: bold\">}</span>$<span style=\"font-weight: bold\">}}</span> &amp; N \\\\ \n",
       "</pre>\n"
      ],
      "text/plain": [
       "\u001b[1;36m2003\u001b[0m-\u001b[1;36m08\u001b[0m-11T\u001b[1;92m09:35:58\u001b[0m & \u001b[1;36m259.45\u001b[0m & \u001b[1;36m59.69\u001b[0m & \u001b[1;36m129.15\u001b[0m\u001b[1m{\u001b[0m\\raisebox\u001b[1m{\u001b[0m\u001b[1;36m0.\u001b[0m5ex\u001b[1m}\u001b[0m\u001b[1m{\u001b[0m\\tiny$^\u001b[1m{\u001b[0m+\u001b[1;36m2.03\u001b[0m\u001b[1m}\u001b[0m_\u001b[1m{\u001b[0m\u001b[1;36m-2.09\u001b[0m\u001b[1m}\u001b[0m$\u001b[1m}\u001b[0m\u001b[1m}\u001b[0m & \u001b[1;36m150\u001b[0m & \n",
       "\u001b[1;36m31.38\u001b[0m\u001b[1m{\u001b[0m\\raisebox\u001b[1m{\u001b[0m\u001b[1;36m0.\u001b[0m5ex\u001b[1m}\u001b[0m\u001b[1m{\u001b[0m\\tiny$^\u001b[1m{\u001b[0m+\u001b[1;36m30.84\u001b[0m\u001b[1m}\u001b[0m_\u001b[1m{\u001b[0m\u001b[1;36m-30.82\u001b[0m\u001b[1m}\u001b[0m$\u001b[1m}\u001b[0m\u001b[1m}\u001b[0m & \u001b[1;36m30.16\u001b[0m\u001b[1m{\u001b[0m\\raisebox\u001b[1m{\u001b[0m\u001b[1;36m0.\u001b[0m5ex\u001b[1m}\u001b[0m\u001b[1m{\u001b[0m\\tiny$^\u001b[1m{\u001b[0m+\u001b[1;36m30.53\u001b[0m\u001b[1m}\u001b[0m_\u001b[1m{\u001b[0m\u001b[1;36m-30.5\u001b[0m\u001b[1m}\u001b[0m$\u001b[1m}\u001b[0m\u001b[1m}\u001b[0m & N \\\\ \n"
      ]
     },
     "metadata": {},
     "output_type": "display_data"
    },
    {
     "data": {
      "text/html": [
       "<pre style=\"white-space:pre;overflow-x:auto;line-height:normal;font-family:Menlo,'DejaVu Sans Mono',consolas,'Courier New',monospace\"><span style=\"color: #008080; text-decoration-color: #008080; font-weight: bold\">2003</span>-<span style=\"color: #008080; text-decoration-color: #008080; font-weight: bold\">08</span>-17T<span style=\"color: #00ff00; text-decoration-color: #00ff00; font-weight: bold\">11:58:32</span> &amp; <span style=\"color: #008080; text-decoration-color: #008080; font-weight: bold\">259.20</span> &amp; <span style=\"color: #008080; text-decoration-color: #008080; font-weight: bold\">60.04</span> &amp; <span style=\"color: #008080; text-decoration-color: #008080; font-weight: bold\">215.61</span><span style=\"font-weight: bold\">{</span>\\raisebox<span style=\"font-weight: bold\">{</span><span style=\"color: #008080; text-decoration-color: #008080; font-weight: bold\">0.</span>5ex<span style=\"font-weight: bold\">}{</span>\\tiny$^<span style=\"font-weight: bold\">{</span>+<span style=\"color: #008080; text-decoration-color: #008080; font-weight: bold\">11.41</span><span style=\"font-weight: bold\">}</span>_<span style=\"font-weight: bold\">{</span><span style=\"color: #008080; text-decoration-color: #008080; font-weight: bold\">-12.76</span><span style=\"font-weight: bold\">}</span>$<span style=\"font-weight: bold\">}}</span> &amp; <span style=\"color: #008080; text-decoration-color: #008080; font-weight: bold\">210</span> &amp; \n",
       "<span style=\"color: #008080; text-decoration-color: #008080; font-weight: bold\">32.25</span><span style=\"font-weight: bold\">{</span>\\raisebox<span style=\"font-weight: bold\">{</span><span style=\"color: #008080; text-decoration-color: #008080; font-weight: bold\">0.</span>5ex<span style=\"font-weight: bold\">}{</span>\\tiny$^<span style=\"font-weight: bold\">{</span>+<span style=\"color: #008080; text-decoration-color: #008080; font-weight: bold\">31.61</span><span style=\"font-weight: bold\">}</span>_<span style=\"font-weight: bold\">{</span><span style=\"color: #008080; text-decoration-color: #008080; font-weight: bold\">-31.58</span><span style=\"font-weight: bold\">}</span>$<span style=\"font-weight: bold\">}}</span> &amp; -- &amp; Y \\\\ \n",
       "</pre>\n"
      ],
      "text/plain": [
       "\u001b[1;36m2003\u001b[0m-\u001b[1;36m08\u001b[0m-17T\u001b[1;92m11:58:32\u001b[0m & \u001b[1;36m259.20\u001b[0m & \u001b[1;36m60.04\u001b[0m & \u001b[1;36m215.61\u001b[0m\u001b[1m{\u001b[0m\\raisebox\u001b[1m{\u001b[0m\u001b[1;36m0.\u001b[0m5ex\u001b[1m}\u001b[0m\u001b[1m{\u001b[0m\\tiny$^\u001b[1m{\u001b[0m+\u001b[1;36m11.41\u001b[0m\u001b[1m}\u001b[0m_\u001b[1m{\u001b[0m\u001b[1;36m-12.76\u001b[0m\u001b[1m}\u001b[0m$\u001b[1m}\u001b[0m\u001b[1m}\u001b[0m & \u001b[1;36m210\u001b[0m & \n",
       "\u001b[1;36m32.25\u001b[0m\u001b[1m{\u001b[0m\\raisebox\u001b[1m{\u001b[0m\u001b[1;36m0.\u001b[0m5ex\u001b[1m}\u001b[0m\u001b[1m{\u001b[0m\\tiny$^\u001b[1m{\u001b[0m+\u001b[1;36m31.61\u001b[0m\u001b[1m}\u001b[0m_\u001b[1m{\u001b[0m\u001b[1;36m-31.58\u001b[0m\u001b[1m}\u001b[0m$\u001b[1m}\u001b[0m\u001b[1m}\u001b[0m & -- & Y \\\\ \n"
      ]
     },
     "metadata": {},
     "output_type": "display_data"
    },
    {
     "data": {
      "text/html": [
       "<pre style=\"white-space:pre;overflow-x:auto;line-height:normal;font-family:Menlo,'DejaVu Sans Mono',consolas,'Courier New',monospace\"><span style=\"color: #008080; text-decoration-color: #008080; font-weight: bold\">2003</span>-<span style=\"color: #008080; text-decoration-color: #008080; font-weight: bold\">08</span>-18T<span style=\"color: #00ff00; text-decoration-color: #00ff00; font-weight: bold\">15:56:17</span> &amp; <span style=\"color: #008080; text-decoration-color: #008080; font-weight: bold\">260.31</span> &amp; <span style=\"color: #008080; text-decoration-color: #008080; font-weight: bold\">58.10</span> &amp; <span style=\"color: #008080; text-decoration-color: #008080; font-weight: bold\">454.26</span><span style=\"font-weight: bold\">{</span>\\raisebox<span style=\"font-weight: bold\">{</span><span style=\"color: #008080; text-decoration-color: #008080; font-weight: bold\">0.</span>5ex<span style=\"font-weight: bold\">}{</span>\\tiny$^<span style=\"font-weight: bold\">{</span>+<span style=\"color: #008080; text-decoration-color: #008080; font-weight: bold\">23.97</span><span style=\"font-weight: bold\">}</span>_<span style=\"font-weight: bold\">{</span><span style=\"color: #008080; text-decoration-color: #008080; font-weight: bold\">-26.80</span><span style=\"font-weight: bold\">}</span>$<span style=\"font-weight: bold\">}}</span> &amp; <span style=\"color: #008080; text-decoration-color: #008080; font-weight: bold\">420</span> &amp; \n",
       "<span style=\"color: #008080; text-decoration-color: #008080; font-weight: bold\">33.12</span><span style=\"font-weight: bold\">{</span>\\raisebox<span style=\"font-weight: bold\">{</span><span style=\"color: #008080; text-decoration-color: #008080; font-weight: bold\">0.</span>5ex<span style=\"font-weight: bold\">}{</span>\\tiny$^<span style=\"font-weight: bold\">{</span>+<span style=\"color: #008080; text-decoration-color: #008080; font-weight: bold\">32.44</span><span style=\"font-weight: bold\">}</span>_<span style=\"font-weight: bold\">{</span><span style=\"color: #008080; text-decoration-color: #008080; font-weight: bold\">-32.41</span><span style=\"font-weight: bold\">}</span>$<span style=\"font-weight: bold\">}}</span> &amp; <span style=\"color: #008080; text-decoration-color: #008080; font-weight: bold\">32.62</span><span style=\"font-weight: bold\">{</span>\\raisebox<span style=\"font-weight: bold\">{</span><span style=\"color: #008080; text-decoration-color: #008080; font-weight: bold\">0.</span>5ex<span style=\"font-weight: bold\">}{</span>\\tiny$^<span style=\"font-weight: bold\">{</span>+<span style=\"color: #008080; text-decoration-color: #008080; font-weight: bold\">32.17</span><span style=\"font-weight: bold\">}</span>_<span style=\"font-weight: bold\">{</span><span style=\"color: #008080; text-decoration-color: #008080; font-weight: bold\">-32.12</span><span style=\"font-weight: bold\">}</span>$<span style=\"font-weight: bold\">}}</span> &amp; Y \\\\ \n",
       "</pre>\n"
      ],
      "text/plain": [
       "\u001b[1;36m2003\u001b[0m-\u001b[1;36m08\u001b[0m-18T\u001b[1;92m15:56:17\u001b[0m & \u001b[1;36m260.31\u001b[0m & \u001b[1;36m58.10\u001b[0m & \u001b[1;36m454.26\u001b[0m\u001b[1m{\u001b[0m\\raisebox\u001b[1m{\u001b[0m\u001b[1;36m0.\u001b[0m5ex\u001b[1m}\u001b[0m\u001b[1m{\u001b[0m\\tiny$^\u001b[1m{\u001b[0m+\u001b[1;36m23.97\u001b[0m\u001b[1m}\u001b[0m_\u001b[1m{\u001b[0m\u001b[1;36m-26.80\u001b[0m\u001b[1m}\u001b[0m$\u001b[1m}\u001b[0m\u001b[1m}\u001b[0m & \u001b[1;36m420\u001b[0m & \n",
       "\u001b[1;36m33.12\u001b[0m\u001b[1m{\u001b[0m\\raisebox\u001b[1m{\u001b[0m\u001b[1;36m0.\u001b[0m5ex\u001b[1m}\u001b[0m\u001b[1m{\u001b[0m\\tiny$^\u001b[1m{\u001b[0m+\u001b[1;36m32.44\u001b[0m\u001b[1m}\u001b[0m_\u001b[1m{\u001b[0m\u001b[1;36m-32.41\u001b[0m\u001b[1m}\u001b[0m$\u001b[1m}\u001b[0m\u001b[1m}\u001b[0m & \u001b[1;36m32.62\u001b[0m\u001b[1m{\u001b[0m\\raisebox\u001b[1m{\u001b[0m\u001b[1;36m0.\u001b[0m5ex\u001b[1m}\u001b[0m\u001b[1m{\u001b[0m\\tiny$^\u001b[1m{\u001b[0m+\u001b[1;36m32.17\u001b[0m\u001b[1m}\u001b[0m_\u001b[1m{\u001b[0m\u001b[1;36m-32.12\u001b[0m\u001b[1m}\u001b[0m$\u001b[1m}\u001b[0m\u001b[1m}\u001b[0m & Y \\\\ \n"
      ]
     },
     "metadata": {},
     "output_type": "display_data"
    },
    {
     "data": {
      "text/html": [
       "<pre style=\"white-space:pre;overflow-x:auto;line-height:normal;font-family:Menlo,'DejaVu Sans Mono',consolas,'Courier New',monospace\"><span style=\"color: #008080; text-decoration-color: #008080; font-weight: bold\">2003</span>-<span style=\"color: #008080; text-decoration-color: #008080; font-weight: bold\">08</span>-19T<span style=\"color: #00ff00; text-decoration-color: #00ff00; font-weight: bold\">13:19:18</span> &amp; <span style=\"color: #008080; text-decoration-color: #008080; font-weight: bold\">258.74</span> &amp; <span style=\"color: #008080; text-decoration-color: #008080; font-weight: bold\">58.86</span> &amp; <span style=\"color: #008080; text-decoration-color: #008080; font-weight: bold\">470.71</span><span style=\"font-weight: bold\">{</span>\\raisebox<span style=\"font-weight: bold\">{</span><span style=\"color: #008080; text-decoration-color: #008080; font-weight: bold\">0.</span>5ex<span style=\"font-weight: bold\">}{</span>\\tiny$^<span style=\"font-weight: bold\">{</span>+<span style=\"color: #008080; text-decoration-color: #008080; font-weight: bold\">3.12</span><span style=\"font-weight: bold\">}</span>_<span style=\"font-weight: bold\">{</span><span style=\"color: #008080; text-decoration-color: #008080; font-weight: bold\">-3.16</span><span style=\"font-weight: bold\">}</span>$<span style=\"font-weight: bold\">}}</span> &amp; <span style=\"color: #008080; text-decoration-color: #008080; font-weight: bold\">300</span> &amp; \n",
       "<span style=\"color: #008080; text-decoration-color: #008080; font-weight: bold\">33.66</span><span style=\"font-weight: bold\">{</span>\\raisebox<span style=\"font-weight: bold\">{</span><span style=\"color: #008080; text-decoration-color: #008080; font-weight: bold\">0.</span>5ex<span style=\"font-weight: bold\">}{</span>\\tiny$^<span style=\"font-weight: bold\">{</span>+<span style=\"color: #008080; text-decoration-color: #008080; font-weight: bold\">32.60</span><span style=\"font-weight: bold\">}</span>_<span style=\"font-weight: bold\">{</span><span style=\"color: #008080; text-decoration-color: #008080; font-weight: bold\">-32.59</span><span style=\"font-weight: bold\">}</span>$<span style=\"font-weight: bold\">}}</span> &amp; -- &amp; Y \\\\ \n",
       "</pre>\n"
      ],
      "text/plain": [
       "\u001b[1;36m2003\u001b[0m-\u001b[1;36m08\u001b[0m-19T\u001b[1;92m13:19:18\u001b[0m & \u001b[1;36m258.74\u001b[0m & \u001b[1;36m58.86\u001b[0m & \u001b[1;36m470.71\u001b[0m\u001b[1m{\u001b[0m\\raisebox\u001b[1m{\u001b[0m\u001b[1;36m0.\u001b[0m5ex\u001b[1m}\u001b[0m\u001b[1m{\u001b[0m\\tiny$^\u001b[1m{\u001b[0m+\u001b[1;36m3.12\u001b[0m\u001b[1m}\u001b[0m_\u001b[1m{\u001b[0m\u001b[1;36m-3.16\u001b[0m\u001b[1m}\u001b[0m$\u001b[1m}\u001b[0m\u001b[1m}\u001b[0m & \u001b[1;36m300\u001b[0m & \n",
       "\u001b[1;36m33.66\u001b[0m\u001b[1m{\u001b[0m\\raisebox\u001b[1m{\u001b[0m\u001b[1;36m0.\u001b[0m5ex\u001b[1m}\u001b[0m\u001b[1m{\u001b[0m\\tiny$^\u001b[1m{\u001b[0m+\u001b[1;36m32.60\u001b[0m\u001b[1m}\u001b[0m_\u001b[1m{\u001b[0m\u001b[1;36m-32.59\u001b[0m\u001b[1m}\u001b[0m$\u001b[1m}\u001b[0m\u001b[1m}\u001b[0m & -- & Y \\\\ \n"
      ]
     },
     "metadata": {},
     "output_type": "display_data"
    },
    {
     "data": {
      "text/html": [
       "<pre style=\"white-space:pre;overflow-x:auto;line-height:normal;font-family:Menlo,'DejaVu Sans Mono',consolas,'Courier New',monospace\"><span style=\"color: #008080; text-decoration-color: #008080; font-weight: bold\">2003</span>-<span style=\"color: #008080; text-decoration-color: #008080; font-weight: bold\">08</span>-24T<span style=\"color: #00ff00; text-decoration-color: #00ff00; font-weight: bold\">21:35:41</span> &amp; <span style=\"color: #008080; text-decoration-color: #008080; font-weight: bold\">340.32</span> &amp; <span style=\"color: #008080; text-decoration-color: #008080; font-weight: bold\">12.17</span> &amp; <span style=\"color: #008080; text-decoration-color: #008080; font-weight: bold\">286.85</span><span style=\"font-weight: bold\">{</span>\\raisebox<span style=\"font-weight: bold\">{</span><span style=\"color: #008080; text-decoration-color: #008080; font-weight: bold\">0.</span>5ex<span style=\"font-weight: bold\">}{</span>\\tiny$^<span style=\"font-weight: bold\">{</span>+<span style=\"color: #008080; text-decoration-color: #008080; font-weight: bold\">9.24</span><span style=\"font-weight: bold\">}</span>_<span style=\"font-weight: bold\">{</span><span style=\"color: #008080; text-decoration-color: #008080; font-weight: bold\">-9.88</span><span style=\"font-weight: bold\">}</span>$<span style=\"font-weight: bold\">}}</span> &amp; <span style=\"color: #008080; text-decoration-color: #008080; font-weight: bold\">390</span> &amp; \n",
       "<span style=\"color: #008080; text-decoration-color: #008080; font-weight: bold\">33.10</span><span style=\"font-weight: bold\">{</span>\\raisebox<span style=\"font-weight: bold\">{</span><span style=\"color: #008080; text-decoration-color: #008080; font-weight: bold\">0.</span>5ex<span style=\"font-weight: bold\">}{</span>\\tiny$^<span style=\"font-weight: bold\">{</span>+<span style=\"color: #008080; text-decoration-color: #008080; font-weight: bold\">32.18</span><span style=\"font-weight: bold\">}</span>_<span style=\"font-weight: bold\">{</span><span style=\"color: #008080; text-decoration-color: #008080; font-weight: bold\">-32.16</span><span style=\"font-weight: bold\">}</span>$<span style=\"font-weight: bold\">}}</span> &amp; -- &amp; Y \\\\ \n",
       "</pre>\n"
      ],
      "text/plain": [
       "\u001b[1;36m2003\u001b[0m-\u001b[1;36m08\u001b[0m-24T\u001b[1;92m21:35:41\u001b[0m & \u001b[1;36m340.32\u001b[0m & \u001b[1;36m12.17\u001b[0m & \u001b[1;36m286.85\u001b[0m\u001b[1m{\u001b[0m\\raisebox\u001b[1m{\u001b[0m\u001b[1;36m0.\u001b[0m5ex\u001b[1m}\u001b[0m\u001b[1m{\u001b[0m\\tiny$^\u001b[1m{\u001b[0m+\u001b[1;36m9.24\u001b[0m\u001b[1m}\u001b[0m_\u001b[1m{\u001b[0m\u001b[1;36m-9.88\u001b[0m\u001b[1m}\u001b[0m$\u001b[1m}\u001b[0m\u001b[1m}\u001b[0m & \u001b[1;36m390\u001b[0m & \n",
       "\u001b[1;36m33.10\u001b[0m\u001b[1m{\u001b[0m\\raisebox\u001b[1m{\u001b[0m\u001b[1;36m0.\u001b[0m5ex\u001b[1m}\u001b[0m\u001b[1m{\u001b[0m\\tiny$^\u001b[1m{\u001b[0m+\u001b[1;36m32.18\u001b[0m\u001b[1m}\u001b[0m_\u001b[1m{\u001b[0m\u001b[1;36m-32.16\u001b[0m\u001b[1m}\u001b[0m$\u001b[1m}\u001b[0m\u001b[1m}\u001b[0m & -- & Y \\\\ \n"
      ]
     },
     "metadata": {},
     "output_type": "display_data"
    },
    {
     "data": {
      "text/html": [
       "<pre style=\"white-space:pre;overflow-x:auto;line-height:normal;font-family:Menlo,'DejaVu Sans Mono',consolas,'Courier New',monospace\"><span style=\"color: #008080; text-decoration-color: #008080; font-weight: bold\">2003</span>-<span style=\"color: #008080; text-decoration-color: #008080; font-weight: bold\">08</span>-25T<span style=\"color: #00ff00; text-decoration-color: #00ff00; font-weight: bold\">12:23:29</span> &amp; <span style=\"color: #008080; text-decoration-color: #008080; font-weight: bold\">350.76</span> &amp; <span style=\"color: #008080; text-decoration-color: #008080; font-weight: bold\">-0.02</span> &amp; <span style=\"color: #008080; text-decoration-color: #008080; font-weight: bold\">506.99</span><span style=\"font-weight: bold\">{</span>\\raisebox<span style=\"font-weight: bold\">{</span><span style=\"color: #008080; text-decoration-color: #008080; font-weight: bold\">0.</span>5ex<span style=\"font-weight: bold\">}{</span>\\tiny$^<span style=\"font-weight: bold\">{</span>+<span style=\"color: #008080; text-decoration-color: #008080; font-weight: bold\">64.96</span><span style=\"font-weight: bold\">}</span>_<span style=\"font-weight: bold\">{</span><span style=\"color: #008080; text-decoration-color: #008080; font-weight: bold\">-87.34</span><span style=\"font-weight: bold\">}</span>$<span style=\"font-weight: bold\">}}</span> &amp; <span style=\"color: #008080; text-decoration-color: #008080; font-weight: bold\">390</span> &amp; \n",
       "<span style=\"color: #008080; text-decoration-color: #008080; font-weight: bold\">33.52</span><span style=\"font-weight: bold\">{</span>\\raisebox<span style=\"font-weight: bold\">{</span><span style=\"color: #008080; text-decoration-color: #008080; font-weight: bold\">0.</span>5ex<span style=\"font-weight: bold\">}{</span>\\tiny$^<span style=\"font-weight: bold\">{</span>+<span style=\"color: #008080; text-decoration-color: #008080; font-weight: bold\">33.05</span><span style=\"font-weight: bold\">}</span>_<span style=\"font-weight: bold\">{</span><span style=\"color: #008080; text-decoration-color: #008080; font-weight: bold\">-33.06</span><span style=\"font-weight: bold\">}</span>$<span style=\"font-weight: bold\">}}</span> &amp; -- &amp; N \\\\ \n",
       "</pre>\n"
      ],
      "text/plain": [
       "\u001b[1;36m2003\u001b[0m-\u001b[1;36m08\u001b[0m-25T\u001b[1;92m12:23:29\u001b[0m & \u001b[1;36m350.76\u001b[0m & \u001b[1;36m-0.02\u001b[0m & \u001b[1;36m506.99\u001b[0m\u001b[1m{\u001b[0m\\raisebox\u001b[1m{\u001b[0m\u001b[1;36m0.\u001b[0m5ex\u001b[1m}\u001b[0m\u001b[1m{\u001b[0m\\tiny$^\u001b[1m{\u001b[0m+\u001b[1;36m64.96\u001b[0m\u001b[1m}\u001b[0m_\u001b[1m{\u001b[0m\u001b[1;36m-87.34\u001b[0m\u001b[1m}\u001b[0m$\u001b[1m}\u001b[0m\u001b[1m}\u001b[0m & \u001b[1;36m390\u001b[0m & \n",
       "\u001b[1;36m33.52\u001b[0m\u001b[1m{\u001b[0m\\raisebox\u001b[1m{\u001b[0m\u001b[1;36m0.\u001b[0m5ex\u001b[1m}\u001b[0m\u001b[1m{\u001b[0m\\tiny$^\u001b[1m{\u001b[0m+\u001b[1;36m33.05\u001b[0m\u001b[1m}\u001b[0m_\u001b[1m{\u001b[0m\u001b[1;36m-33.06\u001b[0m\u001b[1m}\u001b[0m$\u001b[1m}\u001b[0m\u001b[1m}\u001b[0m & -- & N \\\\ \n"
      ]
     },
     "metadata": {},
     "output_type": "display_data"
    },
    {
     "data": {
      "text/html": [
       "<pre style=\"white-space:pre;overflow-x:auto;line-height:normal;font-family:Menlo,'DejaVu Sans Mono',consolas,'Courier New',monospace\"><span style=\"color: #008080; text-decoration-color: #008080; font-weight: bold\">2003</span>-<span style=\"color: #008080; text-decoration-color: #008080; font-weight: bold\">09</span>-29T<span style=\"color: #00ff00; text-decoration-color: #00ff00; font-weight: bold\">14:10:49</span> &amp; <span style=\"color: #008080; text-decoration-color: #008080; font-weight: bold\">334.32</span> &amp; <span style=\"color: #008080; text-decoration-color: #008080; font-weight: bold\">0.37</span> &amp; <span style=\"color: #008080; text-decoration-color: #008080; font-weight: bold\">318.87</span><span style=\"font-weight: bold\">{</span>\\raisebox<span style=\"font-weight: bold\">{</span><span style=\"color: #008080; text-decoration-color: #008080; font-weight: bold\">0.</span>5ex<span style=\"font-weight: bold\">}{</span>\\tiny$^<span style=\"font-weight: bold\">{</span>+<span style=\"color: #008080; text-decoration-color: #008080; font-weight: bold\">2.12</span><span style=\"font-weight: bold\">}</span>_<span style=\"font-weight: bold\">{</span><span style=\"color: #008080; text-decoration-color: #008080; font-weight: bold\">-2.15</span><span style=\"font-weight: bold\">}</span>$<span style=\"font-weight: bold\">}}</span> &amp; <span style=\"color: #008080; text-decoration-color: #008080; font-weight: bold\">450</span> &amp; \n",
       "<span style=\"color: #008080; text-decoration-color: #008080; font-weight: bold\">32.96</span><span style=\"font-weight: bold\">{</span>\\raisebox<span style=\"font-weight: bold\">{</span><span style=\"color: #008080; text-decoration-color: #008080; font-weight: bold\">0.</span>5ex<span style=\"font-weight: bold\">}{</span>\\tiny$^<span style=\"font-weight: bold\">{</span>+<span style=\"color: #008080; text-decoration-color: #008080; font-weight: bold\">31.90</span><span style=\"font-weight: bold\">}</span>_<span style=\"font-weight: bold\">{</span><span style=\"color: #008080; text-decoration-color: #008080; font-weight: bold\">-31.89</span><span style=\"font-weight: bold\">}</span>$<span style=\"font-weight: bold\">}}</span> &amp; -- &amp; N \\\\ \n",
       "</pre>\n"
      ],
      "text/plain": [
       "\u001b[1;36m2003\u001b[0m-\u001b[1;36m09\u001b[0m-29T\u001b[1;92m14:10:49\u001b[0m & \u001b[1;36m334.32\u001b[0m & \u001b[1;36m0.37\u001b[0m & \u001b[1;36m318.87\u001b[0m\u001b[1m{\u001b[0m\\raisebox\u001b[1m{\u001b[0m\u001b[1;36m0.\u001b[0m5ex\u001b[1m}\u001b[0m\u001b[1m{\u001b[0m\\tiny$^\u001b[1m{\u001b[0m+\u001b[1;36m2.12\u001b[0m\u001b[1m}\u001b[0m_\u001b[1m{\u001b[0m\u001b[1;36m-2.15\u001b[0m\u001b[1m}\u001b[0m$\u001b[1m}\u001b[0m\u001b[1m}\u001b[0m & \u001b[1;36m450\u001b[0m & \n",
       "\u001b[1;36m32.96\u001b[0m\u001b[1m{\u001b[0m\\raisebox\u001b[1m{\u001b[0m\u001b[1;36m0.\u001b[0m5ex\u001b[1m}\u001b[0m\u001b[1m{\u001b[0m\\tiny$^\u001b[1m{\u001b[0m+\u001b[1;36m31.90\u001b[0m\u001b[1m}\u001b[0m_\u001b[1m{\u001b[0m\u001b[1;36m-31.89\u001b[0m\u001b[1m}\u001b[0m$\u001b[1m}\u001b[0m\u001b[1m}\u001b[0m & -- & N \\\\ \n"
      ]
     },
     "metadata": {},
     "output_type": "display_data"
    },
    {
     "data": {
      "text/html": [
       "<pre style=\"white-space:pre;overflow-x:auto;line-height:normal;font-family:Menlo,'DejaVu Sans Mono',consolas,'Courier New',monospace\"><span style=\"color: #008080; text-decoration-color: #008080; font-weight: bold\">2003</span>-<span style=\"color: #008080; text-decoration-color: #008080; font-weight: bold\">09</span>-30T<span style=\"color: #00ff00; text-decoration-color: #00ff00; font-weight: bold\">01:38:10</span> &amp; <span style=\"color: #008080; text-decoration-color: #008080; font-weight: bold\">11.24</span> &amp; <span style=\"color: #008080; text-decoration-color: #008080; font-weight: bold\">-43.40</span> &amp; <span style=\"color: #008080; text-decoration-color: #008080; font-weight: bold\">265.09</span><span style=\"font-weight: bold\">{</span>\\raisebox<span style=\"font-weight: bold\">{</span><span style=\"color: #008080; text-decoration-color: #008080; font-weight: bold\">0.</span>5ex<span style=\"font-weight: bold\">}{</span>\\tiny$^<span style=\"font-weight: bold\">{</span>+<span style=\"color: #008080; text-decoration-color: #008080; font-weight: bold\">1.27</span><span style=\"font-weight: bold\">}</span>_<span style=\"font-weight: bold\">{</span><span style=\"color: #008080; text-decoration-color: #008080; font-weight: bold\">-1.28</span><span style=\"font-weight: bold\">}</span>$<span style=\"font-weight: bold\">}}</span> &amp; <span style=\"color: #008080; text-decoration-color: #008080; font-weight: bold\">510</span> &amp; \n",
       "<span style=\"color: #008080; text-decoration-color: #008080; font-weight: bold\">32.62</span><span style=\"font-weight: bold\">{</span>\\raisebox<span style=\"font-weight: bold\">{</span><span style=\"color: #008080; text-decoration-color: #008080; font-weight: bold\">0.</span>5ex<span style=\"font-weight: bold\">}{</span>\\tiny$^<span style=\"font-weight: bold\">{</span>+<span style=\"color: #008080; text-decoration-color: #008080; font-weight: bold\">31.64</span><span style=\"font-weight: bold\">}</span>_<span style=\"font-weight: bold\">{</span><span style=\"color: #008080; text-decoration-color: #008080; font-weight: bold\">-31.63</span><span style=\"font-weight: bold\">}</span>$<span style=\"font-weight: bold\">}}</span> &amp; <span style=\"color: #008080; text-decoration-color: #008080; font-weight: bold\">31.55</span><span style=\"font-weight: bold\">{</span>\\raisebox<span style=\"font-weight: bold\">{</span><span style=\"color: #008080; text-decoration-color: #008080; font-weight: bold\">0.</span>5ex<span style=\"font-weight: bold\">}{</span>\\tiny$^<span style=\"font-weight: bold\">{</span>+<span style=\"color: #008080; text-decoration-color: #008080; font-weight: bold\">31.4</span><span style=\"font-weight: bold\">}</span>_<span style=\"font-weight: bold\">{</span><span style=\"color: #008080; text-decoration-color: #008080; font-weight: bold\">-31.39</span><span style=\"font-weight: bold\">}</span>$<span style=\"font-weight: bold\">}}</span> &amp; Y \\\\ \n",
       "</pre>\n"
      ],
      "text/plain": [
       "\u001b[1;36m2003\u001b[0m-\u001b[1;36m09\u001b[0m-30T\u001b[1;92m01:38:10\u001b[0m & \u001b[1;36m11.24\u001b[0m & \u001b[1;36m-43.40\u001b[0m & \u001b[1;36m265.09\u001b[0m\u001b[1m{\u001b[0m\\raisebox\u001b[1m{\u001b[0m\u001b[1;36m0.\u001b[0m5ex\u001b[1m}\u001b[0m\u001b[1m{\u001b[0m\\tiny$^\u001b[1m{\u001b[0m+\u001b[1;36m1.27\u001b[0m\u001b[1m}\u001b[0m_\u001b[1m{\u001b[0m\u001b[1;36m-1.28\u001b[0m\u001b[1m}\u001b[0m$\u001b[1m}\u001b[0m\u001b[1m}\u001b[0m & \u001b[1;36m510\u001b[0m & \n",
       "\u001b[1;36m32.62\u001b[0m\u001b[1m{\u001b[0m\\raisebox\u001b[1m{\u001b[0m\u001b[1;36m0.\u001b[0m5ex\u001b[1m}\u001b[0m\u001b[1m{\u001b[0m\\tiny$^\u001b[1m{\u001b[0m+\u001b[1;36m31.64\u001b[0m\u001b[1m}\u001b[0m_\u001b[1m{\u001b[0m\u001b[1;36m-31.63\u001b[0m\u001b[1m}\u001b[0m$\u001b[1m}\u001b[0m\u001b[1m}\u001b[0m & \u001b[1;36m31.55\u001b[0m\u001b[1m{\u001b[0m\\raisebox\u001b[1m{\u001b[0m\u001b[1;36m0.\u001b[0m5ex\u001b[1m}\u001b[0m\u001b[1m{\u001b[0m\\tiny$^\u001b[1m{\u001b[0m+\u001b[1;36m31.4\u001b[0m\u001b[1m}\u001b[0m_\u001b[1m{\u001b[0m\u001b[1;36m-31.39\u001b[0m\u001b[1m}\u001b[0m$\u001b[1m}\u001b[0m\u001b[1m}\u001b[0m & Y \\\\ \n"
      ]
     },
     "metadata": {},
     "output_type": "display_data"
    },
    {
     "data": {
      "text/html": [
       "<pre style=\"white-space:pre;overflow-x:auto;line-height:normal;font-family:Menlo,'DejaVu Sans Mono',consolas,'Courier New',monospace\"><span style=\"color: #008080; text-decoration-color: #008080; font-weight: bold\">2003</span>-<span style=\"color: #008080; text-decoration-color: #008080; font-weight: bold\">10</span>-11T<span style=\"color: #00ff00; text-decoration-color: #00ff00; font-weight: bold\">00:42:14</span> &amp; <span style=\"color: #008080; text-decoration-color: #008080; font-weight: bold\">21.13</span> &amp; <span style=\"color: #008080; text-decoration-color: #008080; font-weight: bold\">-33.92</span> &amp; <span style=\"color: #008080; text-decoration-color: #008080; font-weight: bold\">25.24</span><span style=\"font-weight: bold\">{</span>\\raisebox<span style=\"font-weight: bold\">{</span><span style=\"color: #008080; text-decoration-color: #008080; font-weight: bold\">0.</span>5ex<span style=\"font-weight: bold\">}{</span>\\tiny$^<span style=\"font-weight: bold\">{</span>+<span style=\"color: #008080; text-decoration-color: #008080; font-weight: bold\">0.01</span><span style=\"font-weight: bold\">}</span>_<span style=\"font-weight: bold\">{</span><span style=\"color: #008080; text-decoration-color: #008080; font-weight: bold\">-0.01</span><span style=\"font-weight: bold\">}</span>$<span style=\"font-weight: bold\">}}</span> &amp; <span style=\"color: #008080; text-decoration-color: #008080; font-weight: bold\">300</span> &amp; \n",
       "<span style=\"color: #008080; text-decoration-color: #008080; font-weight: bold\">30.52</span><span style=\"font-weight: bold\">{</span>\\raisebox<span style=\"font-weight: bold\">{</span><span style=\"color: #008080; text-decoration-color: #008080; font-weight: bold\">0.</span>5ex<span style=\"font-weight: bold\">}{</span>\\tiny$^<span style=\"font-weight: bold\">{</span>+<span style=\"color: #008080; text-decoration-color: #008080; font-weight: bold\">29.49</span><span style=\"font-weight: bold\">}</span>_<span style=\"font-weight: bold\">{</span><span style=\"color: #008080; text-decoration-color: #008080; font-weight: bold\">-29.49</span><span style=\"font-weight: bold\">}</span>$<span style=\"font-weight: bold\">}}</span> &amp; -- &amp; Y \\\\ \n",
       "</pre>\n"
      ],
      "text/plain": [
       "\u001b[1;36m2003\u001b[0m-\u001b[1;36m10\u001b[0m-11T\u001b[1;92m00:42:14\u001b[0m & \u001b[1;36m21.13\u001b[0m & \u001b[1;36m-33.92\u001b[0m & \u001b[1;36m25.24\u001b[0m\u001b[1m{\u001b[0m\\raisebox\u001b[1m{\u001b[0m\u001b[1;36m0.\u001b[0m5ex\u001b[1m}\u001b[0m\u001b[1m{\u001b[0m\\tiny$^\u001b[1m{\u001b[0m+\u001b[1;36m0.01\u001b[0m\u001b[1m}\u001b[0m_\u001b[1m{\u001b[0m\u001b[1;36m-0.01\u001b[0m\u001b[1m}\u001b[0m$\u001b[1m}\u001b[0m\u001b[1m}\u001b[0m & \u001b[1;36m300\u001b[0m & \n",
       "\u001b[1;36m30.52\u001b[0m\u001b[1m{\u001b[0m\\raisebox\u001b[1m{\u001b[0m\u001b[1;36m0.\u001b[0m5ex\u001b[1m}\u001b[0m\u001b[1m{\u001b[0m\\tiny$^\u001b[1m{\u001b[0m+\u001b[1;36m29.49\u001b[0m\u001b[1m}\u001b[0m_\u001b[1m{\u001b[0m\u001b[1;36m-29.49\u001b[0m\u001b[1m}\u001b[0m$\u001b[1m}\u001b[0m\u001b[1m}\u001b[0m & -- & Y \\\\ \n"
      ]
     },
     "metadata": {},
     "output_type": "display_data"
    },
    {
     "data": {
      "text/html": [
       "<pre style=\"white-space:pre;overflow-x:auto;line-height:normal;font-family:Menlo,'DejaVu Sans Mono',consolas,'Courier New',monospace\"><span style=\"color: #008080; text-decoration-color: #008080; font-weight: bold\">2003</span>-<span style=\"color: #008080; text-decoration-color: #008080; font-weight: bold\">10</span>-14T<span style=\"color: #00ff00; text-decoration-color: #00ff00; font-weight: bold\">22:25:10</span> &amp; <span style=\"color: #008080; text-decoration-color: #008080; font-weight: bold\">30.41</span> &amp; <span style=\"color: #008080; text-decoration-color: #008080; font-weight: bold\">-8.12</span> &amp; <span style=\"color: #008080; text-decoration-color: #008080; font-weight: bold\">88.53</span><span style=\"font-weight: bold\">{</span>\\raisebox<span style=\"font-weight: bold\">{</span><span style=\"color: #008080; text-decoration-color: #008080; font-weight: bold\">0.</span>5ex<span style=\"font-weight: bold\">}{</span>\\tiny$^<span style=\"font-weight: bold\">{</span>+<span style=\"color: #008080; text-decoration-color: #008080; font-weight: bold\">1.40</span><span style=\"font-weight: bold\">}</span>_<span style=\"font-weight: bold\">{</span><span style=\"color: #008080; text-decoration-color: #008080; font-weight: bold\">-1.44</span><span style=\"font-weight: bold\">}</span>$<span style=\"font-weight: bold\">}}</span> &amp; <span style=\"color: #008080; text-decoration-color: #008080; font-weight: bold\">450</span> &amp; \n",
       "<span style=\"color: #008080; text-decoration-color: #008080; font-weight: bold\">31.71</span><span style=\"font-weight: bold\">{</span>\\raisebox<span style=\"font-weight: bold\">{</span><span style=\"color: #008080; text-decoration-color: #008080; font-weight: bold\">0.</span>5ex<span style=\"font-weight: bold\">}{</span>\\tiny$^<span style=\"font-weight: bold\">{</span>+<span style=\"color: #008080; text-decoration-color: #008080; font-weight: bold\">30.79</span><span style=\"font-weight: bold\">}</span>_<span style=\"font-weight: bold\">{</span><span style=\"color: #008080; text-decoration-color: #008080; font-weight: bold\">-30.77</span><span style=\"font-weight: bold\">}</span>$<span style=\"font-weight: bold\">}}</span> &amp; -- &amp; N \\\\ \n",
       "</pre>\n"
      ],
      "text/plain": [
       "\u001b[1;36m2003\u001b[0m-\u001b[1;36m10\u001b[0m-14T\u001b[1;92m22:25:10\u001b[0m & \u001b[1;36m30.41\u001b[0m & \u001b[1;36m-8.12\u001b[0m & \u001b[1;36m88.53\u001b[0m\u001b[1m{\u001b[0m\\raisebox\u001b[1m{\u001b[0m\u001b[1;36m0.\u001b[0m5ex\u001b[1m}\u001b[0m\u001b[1m{\u001b[0m\\tiny$^\u001b[1m{\u001b[0m+\u001b[1;36m1.40\u001b[0m\u001b[1m}\u001b[0m_\u001b[1m{\u001b[0m\u001b[1;36m-1.44\u001b[0m\u001b[1m}\u001b[0m$\u001b[1m}\u001b[0m\u001b[1m}\u001b[0m & \u001b[1;36m450\u001b[0m & \n",
       "\u001b[1;36m31.71\u001b[0m\u001b[1m{\u001b[0m\\raisebox\u001b[1m{\u001b[0m\u001b[1;36m0.\u001b[0m5ex\u001b[1m}\u001b[0m\u001b[1m{\u001b[0m\\tiny$^\u001b[1m{\u001b[0m+\u001b[1;36m30.79\u001b[0m\u001b[1m}\u001b[0m_\u001b[1m{\u001b[0m\u001b[1;36m-30.77\u001b[0m\u001b[1m}\u001b[0m$\u001b[1m}\u001b[0m\u001b[1m}\u001b[0m & -- & N \\\\ \n"
      ]
     },
     "metadata": {},
     "output_type": "display_data"
    },
    {
     "data": {
      "text/html": [
       "<pre style=\"white-space:pre;overflow-x:auto;line-height:normal;font-family:Menlo,'DejaVu Sans Mono',consolas,'Courier New',monospace\"><span style=\"color: #008080; text-decoration-color: #008080; font-weight: bold\">2003</span>-<span style=\"color: #008080; text-decoration-color: #008080; font-weight: bold\">10</span>-15T<span style=\"color: #00ff00; text-decoration-color: #00ff00; font-weight: bold\">04:59:43</span> &amp; <span style=\"color: #008080; text-decoration-color: #008080; font-weight: bold\">29.40</span> &amp; <span style=\"color: #008080; text-decoration-color: #008080; font-weight: bold\">13.89</span> &amp; <span style=\"color: #008080; text-decoration-color: #008080; font-weight: bold\">285.58</span><span style=\"font-weight: bold\">{</span>\\raisebox<span style=\"font-weight: bold\">{</span><span style=\"color: #008080; text-decoration-color: #008080; font-weight: bold\">0.</span>5ex<span style=\"font-weight: bold\">}{</span>\\tiny$^<span style=\"font-weight: bold\">{</span>+<span style=\"color: #008080; text-decoration-color: #008080; font-weight: bold\">7.53</span><span style=\"font-weight: bold\">}</span>_<span style=\"font-weight: bold\">{</span><span style=\"color: #008080; text-decoration-color: #008080; font-weight: bold\">-7.95</span><span style=\"font-weight: bold\">}</span>$<span style=\"font-weight: bold\">}}</span> &amp; <span style=\"color: #008080; text-decoration-color: #008080; font-weight: bold\">270</span> &amp; \n",
       "<span style=\"color: #008080; text-decoration-color: #008080; font-weight: bold\">32.74</span><span style=\"font-weight: bold\">{</span>\\raisebox<span style=\"font-weight: bold\">{</span><span style=\"color: #008080; text-decoration-color: #008080; font-weight: bold\">0.</span>5ex<span style=\"font-weight: bold\">}{</span>\\tiny$^<span style=\"font-weight: bold\">{</span>+<span style=\"color: #008080; text-decoration-color: #008080; font-weight: bold\">31.87</span><span style=\"font-weight: bold\">}</span>_<span style=\"font-weight: bold\">{</span><span style=\"color: #008080; text-decoration-color: #008080; font-weight: bold\">-31.84</span><span style=\"font-weight: bold\">}</span>$<span style=\"font-weight: bold\">}}</span> &amp; <span style=\"color: #008080; text-decoration-color: #008080; font-weight: bold\">32.4</span><span style=\"font-weight: bold\">{</span>\\raisebox<span style=\"font-weight: bold\">{</span><span style=\"color: #008080; text-decoration-color: #008080; font-weight: bold\">0.</span>5ex<span style=\"font-weight: bold\">}{</span>\\tiny$^<span style=\"font-weight: bold\">{</span>+<span style=\"color: #008080; text-decoration-color: #008080; font-weight: bold\">31.69</span><span style=\"font-weight: bold\">}</span>_<span style=\"font-weight: bold\">{</span><span style=\"color: #008080; text-decoration-color: #008080; font-weight: bold\">-31.66</span><span style=\"font-weight: bold\">}</span>$<span style=\"font-weight: bold\">}}</span> &amp; Y \\\\ \n",
       "</pre>\n"
      ],
      "text/plain": [
       "\u001b[1;36m2003\u001b[0m-\u001b[1;36m10\u001b[0m-15T\u001b[1;92m04:59:43\u001b[0m & \u001b[1;36m29.40\u001b[0m & \u001b[1;36m13.89\u001b[0m & \u001b[1;36m285.58\u001b[0m\u001b[1m{\u001b[0m\\raisebox\u001b[1m{\u001b[0m\u001b[1;36m0.\u001b[0m5ex\u001b[1m}\u001b[0m\u001b[1m{\u001b[0m\\tiny$^\u001b[1m{\u001b[0m+\u001b[1;36m7.53\u001b[0m\u001b[1m}\u001b[0m_\u001b[1m{\u001b[0m\u001b[1;36m-7.95\u001b[0m\u001b[1m}\u001b[0m$\u001b[1m}\u001b[0m\u001b[1m}\u001b[0m & \u001b[1;36m270\u001b[0m & \n",
       "\u001b[1;36m32.74\u001b[0m\u001b[1m{\u001b[0m\\raisebox\u001b[1m{\u001b[0m\u001b[1;36m0.\u001b[0m5ex\u001b[1m}\u001b[0m\u001b[1m{\u001b[0m\\tiny$^\u001b[1m{\u001b[0m+\u001b[1;36m31.87\u001b[0m\u001b[1m}\u001b[0m_\u001b[1m{\u001b[0m\u001b[1;36m-31.84\u001b[0m\u001b[1m}\u001b[0m$\u001b[1m}\u001b[0m\u001b[1m}\u001b[0m & \u001b[1;36m32.4\u001b[0m\u001b[1m{\u001b[0m\\raisebox\u001b[1m{\u001b[0m\u001b[1;36m0.\u001b[0m5ex\u001b[1m}\u001b[0m\u001b[1m{\u001b[0m\\tiny$^\u001b[1m{\u001b[0m+\u001b[1;36m31.69\u001b[0m\u001b[1m}\u001b[0m_\u001b[1m{\u001b[0m\u001b[1;36m-31.66\u001b[0m\u001b[1m}\u001b[0m$\u001b[1m}\u001b[0m\u001b[1m}\u001b[0m & Y \\\\ \n"
      ]
     },
     "metadata": {},
     "output_type": "display_data"
    },
    {
     "data": {
      "text/html": [
       "<pre style=\"white-space:pre;overflow-x:auto;line-height:normal;font-family:Menlo,'DejaVu Sans Mono',consolas,'Courier New',monospace\"><span style=\"color: #008080; text-decoration-color: #008080; font-weight: bold\">2003</span>-<span style=\"color: #008080; text-decoration-color: #008080; font-weight: bold\">11</span>-25T<span style=\"color: #00ff00; text-decoration-color: #00ff00; font-weight: bold\">22:53:12</span> &amp; <span style=\"color: #008080; text-decoration-color: #008080; font-weight: bold\">41.63</span> &amp; <span style=\"color: #008080; text-decoration-color: #008080; font-weight: bold\">-7.35</span> &amp; <span style=\"color: #008080; text-decoration-color: #008080; font-weight: bold\">120.16</span><span style=\"font-weight: bold\">{</span>\\raisebox<span style=\"font-weight: bold\">{</span><span style=\"color: #008080; text-decoration-color: #008080; font-weight: bold\">0.</span>5ex<span style=\"font-weight: bold\">}{</span>\\tiny$^<span style=\"font-weight: bold\">{</span>+<span style=\"color: #008080; text-decoration-color: #008080; font-weight: bold\">0.23</span><span style=\"font-weight: bold\">}</span>_<span style=\"font-weight: bold\">{</span><span style=\"color: #008080; text-decoration-color: #008080; font-weight: bold\">-0.23</span><span style=\"font-weight: bold\">}</span>$<span style=\"font-weight: bold\">}}</span> &amp; <span style=\"color: #008080; text-decoration-color: #008080; font-weight: bold\">480</span> &amp; \n",
       "<span style=\"color: #008080; text-decoration-color: #008080; font-weight: bold\">33.01</span><span style=\"font-weight: bold\">{</span>\\raisebox<span style=\"font-weight: bold\">{</span><span style=\"color: #008080; text-decoration-color: #008080; font-weight: bold\">0.</span>5ex<span style=\"font-weight: bold\">}{</span>\\tiny$^<span style=\"font-weight: bold\">{</span>+<span style=\"color: #008080; text-decoration-color: #008080; font-weight: bold\">31.63</span><span style=\"font-weight: bold\">}</span>_<span style=\"font-weight: bold\">{</span><span style=\"color: #008080; text-decoration-color: #008080; font-weight: bold\">-31.62</span><span style=\"font-weight: bold\">}</span>$<span style=\"font-weight: bold\">}}</span> &amp; <span style=\"color: #008080; text-decoration-color: #008080; font-weight: bold\">32.48</span><span style=\"font-weight: bold\">{</span>\\raisebox<span style=\"font-weight: bold\">{</span><span style=\"color: #008080; text-decoration-color: #008080; font-weight: bold\">0.</span>5ex<span style=\"font-weight: bold\">}{</span>\\tiny$^<span style=\"font-weight: bold\">{</span>+<span style=\"color: #008080; text-decoration-color: #008080; font-weight: bold\">31.19</span><span style=\"font-weight: bold\">}</span>_<span style=\"font-weight: bold\">{</span><span style=\"color: #008080; text-decoration-color: #008080; font-weight: bold\">-31.19</span><span style=\"font-weight: bold\">}</span>$<span style=\"font-weight: bold\">}}</span> &amp; Y \\\\ \n",
       "</pre>\n"
      ],
      "text/plain": [
       "\u001b[1;36m2003\u001b[0m-\u001b[1;36m11\u001b[0m-25T\u001b[1;92m22:53:12\u001b[0m & \u001b[1;36m41.63\u001b[0m & \u001b[1;36m-7.35\u001b[0m & \u001b[1;36m120.16\u001b[0m\u001b[1m{\u001b[0m\\raisebox\u001b[1m{\u001b[0m\u001b[1;36m0.\u001b[0m5ex\u001b[1m}\u001b[0m\u001b[1m{\u001b[0m\\tiny$^\u001b[1m{\u001b[0m+\u001b[1;36m0.23\u001b[0m\u001b[1m}\u001b[0m_\u001b[1m{\u001b[0m\u001b[1;36m-0.23\u001b[0m\u001b[1m}\u001b[0m$\u001b[1m}\u001b[0m\u001b[1m}\u001b[0m & \u001b[1;36m480\u001b[0m & \n",
       "\u001b[1;36m33.01\u001b[0m\u001b[1m{\u001b[0m\\raisebox\u001b[1m{\u001b[0m\u001b[1;36m0.\u001b[0m5ex\u001b[1m}\u001b[0m\u001b[1m{\u001b[0m\\tiny$^\u001b[1m{\u001b[0m+\u001b[1;36m31.63\u001b[0m\u001b[1m}\u001b[0m_\u001b[1m{\u001b[0m\u001b[1;36m-31.62\u001b[0m\u001b[1m}\u001b[0m$\u001b[1m}\u001b[0m\u001b[1m}\u001b[0m & \u001b[1;36m32.48\u001b[0m\u001b[1m{\u001b[0m\\raisebox\u001b[1m{\u001b[0m\u001b[1;36m0.\u001b[0m5ex\u001b[1m}\u001b[0m\u001b[1m{\u001b[0m\\tiny$^\u001b[1m{\u001b[0m+\u001b[1;36m31.19\u001b[0m\u001b[1m}\u001b[0m_\u001b[1m{\u001b[0m\u001b[1;36m-31.19\u001b[0m\u001b[1m}\u001b[0m$\u001b[1m}\u001b[0m\u001b[1m}\u001b[0m & Y \\\\ \n"
      ]
     },
     "metadata": {},
     "output_type": "display_data"
    },
    {
     "data": {
      "text/html": [
       "<pre style=\"white-space:pre;overflow-x:auto;line-height:normal;font-family:Menlo,'DejaVu Sans Mono',consolas,'Courier New',monospace\"><span style=\"color: #008080; text-decoration-color: #008080; font-weight: bold\">2003</span>-<span style=\"color: #008080; text-decoration-color: #008080; font-weight: bold\">12</span>-04T<span style=\"color: #00ff00; text-decoration-color: #00ff00; font-weight: bold\">05:47:55</span> &amp; <span style=\"color: #008080; text-decoration-color: #008080; font-weight: bold\">52.04</span> &amp; <span style=\"color: #008080; text-decoration-color: #008080; font-weight: bold\">-28.62</span> &amp; <span style=\"color: #008080; text-decoration-color: #008080; font-weight: bold\">281.01</span><span style=\"font-weight: bold\">{</span>\\raisebox<span style=\"font-weight: bold\">{</span><span style=\"color: #008080; text-decoration-color: #008080; font-weight: bold\">0.</span>5ex<span style=\"font-weight: bold\">}{</span>\\tiny$^<span style=\"font-weight: bold\">{</span>+<span style=\"color: #008080; text-decoration-color: #008080; font-weight: bold\">31.97</span><span style=\"font-weight: bold\">}</span>_<span style=\"font-weight: bold\">{</span><span style=\"color: #008080; text-decoration-color: #008080; font-weight: bold\">-41.39</span><span style=\"font-weight: bold\">}</span>$<span style=\"font-weight: bold\">}}</span> &amp; <span style=\"color: #008080; text-decoration-color: #008080; font-weight: bold\">360</span> &amp; \n",
       "<span style=\"color: #008080; text-decoration-color: #008080; font-weight: bold\">33.20</span><span style=\"font-weight: bold\">{</span>\\raisebox<span style=\"font-weight: bold\">{</span><span style=\"color: #008080; text-decoration-color: #008080; font-weight: bold\">0.</span>5ex<span style=\"font-weight: bold\">}{</span>\\tiny$^<span style=\"font-weight: bold\">{</span>+<span style=\"color: #008080; text-decoration-color: #008080; font-weight: bold\">32.66</span><span style=\"font-weight: bold\">}</span>_<span style=\"font-weight: bold\">{</span><span style=\"color: #008080; text-decoration-color: #008080; font-weight: bold\">-32.68</span><span style=\"font-weight: bold\">}</span>$<span style=\"font-weight: bold\">}}</span> &amp; -- &amp; Y \\\\ \n",
       "</pre>\n"
      ],
      "text/plain": [
       "\u001b[1;36m2003\u001b[0m-\u001b[1;36m12\u001b[0m-04T\u001b[1;92m05:47:55\u001b[0m & \u001b[1;36m52.04\u001b[0m & \u001b[1;36m-28.62\u001b[0m & \u001b[1;36m281.01\u001b[0m\u001b[1m{\u001b[0m\\raisebox\u001b[1m{\u001b[0m\u001b[1;36m0.\u001b[0m5ex\u001b[1m}\u001b[0m\u001b[1m{\u001b[0m\\tiny$^\u001b[1m{\u001b[0m+\u001b[1;36m31.97\u001b[0m\u001b[1m}\u001b[0m_\u001b[1m{\u001b[0m\u001b[1;36m-41.39\u001b[0m\u001b[1m}\u001b[0m$\u001b[1m}\u001b[0m\u001b[1m}\u001b[0m & \u001b[1;36m360\u001b[0m & \n",
       "\u001b[1;36m33.20\u001b[0m\u001b[1m{\u001b[0m\\raisebox\u001b[1m{\u001b[0m\u001b[1;36m0.\u001b[0m5ex\u001b[1m}\u001b[0m\u001b[1m{\u001b[0m\\tiny$^\u001b[1m{\u001b[0m+\u001b[1;36m32.66\u001b[0m\u001b[1m}\u001b[0m_\u001b[1m{\u001b[0m\u001b[1;36m-32.68\u001b[0m\u001b[1m}\u001b[0m$\u001b[1m}\u001b[0m\u001b[1m}\u001b[0m & -- & Y \\\\ \n"
      ]
     },
     "metadata": {},
     "output_type": "display_data"
    },
    {
     "data": {
      "text/html": [
       "<pre style=\"white-space:pre;overflow-x:auto;line-height:normal;font-family:Menlo,'DejaVu Sans Mono',consolas,'Courier New',monospace\"><span style=\"color: #008080; text-decoration-color: #008080; font-weight: bold\">2003</span>-<span style=\"color: #008080; text-decoration-color: #008080; font-weight: bold\">12</span>-05T<span style=\"color: #00ff00; text-decoration-color: #00ff00; font-weight: bold\">04:48:35</span> &amp; <span style=\"color: #008080; text-decoration-color: #008080; font-weight: bold\">52.11</span> &amp; <span style=\"color: #008080; text-decoration-color: #008080; font-weight: bold\">-28.21</span> &amp; <span style=\"color: #008080; text-decoration-color: #008080; font-weight: bold\">510.33</span><span style=\"font-weight: bold\">{</span>\\raisebox<span style=\"font-weight: bold\">{</span><span style=\"color: #008080; text-decoration-color: #008080; font-weight: bold\">0.</span>5ex<span style=\"font-weight: bold\">}{</span>\\tiny$^<span style=\"font-weight: bold\">{</span>+<span style=\"color: #008080; text-decoration-color: #008080; font-weight: bold\">12.07</span><span style=\"font-weight: bold\">}</span>_<span style=\"font-weight: bold\">{</span><span style=\"color: #008080; text-decoration-color: #008080; font-weight: bold\">-12.67</span><span style=\"font-weight: bold\">}</span>$<span style=\"font-weight: bold\">}}</span> &amp; <span style=\"color: #008080; text-decoration-color: #008080; font-weight: bold\">510</span> &amp; \n",
       "<span style=\"color: #008080; text-decoration-color: #008080; font-weight: bold\">33.76</span><span style=\"font-weight: bold\">{</span>\\raisebox<span style=\"font-weight: bold\">{</span><span style=\"color: #008080; text-decoration-color: #008080; font-weight: bold\">0.</span>5ex<span style=\"font-weight: bold\">}{</span>\\tiny$^<span style=\"font-weight: bold\">{</span>+<span style=\"color: #008080; text-decoration-color: #008080; font-weight: bold\">32.69</span><span style=\"font-weight: bold\">}</span>_<span style=\"font-weight: bold\">{</span><span style=\"color: #008080; text-decoration-color: #008080; font-weight: bold\">-32.67</span><span style=\"font-weight: bold\">}</span>$<span style=\"font-weight: bold\">}}</span> &amp; <span style=\"color: #008080; text-decoration-color: #008080; font-weight: bold\">33.25</span><span style=\"font-weight: bold\">{</span>\\raisebox<span style=\"font-weight: bold\">{</span><span style=\"color: #008080; text-decoration-color: #008080; font-weight: bold\">0.</span>5ex<span style=\"font-weight: bold\">}{</span>\\tiny$^<span style=\"font-weight: bold\">{</span>+<span style=\"color: #008080; text-decoration-color: #008080; font-weight: bold\">32.4</span><span style=\"font-weight: bold\">}</span>_<span style=\"font-weight: bold\">{</span><span style=\"color: #008080; text-decoration-color: #008080; font-weight: bold\">-32.37</span><span style=\"font-weight: bold\">}</span>$<span style=\"font-weight: bold\">}}</span> &amp; Y \\\\ \n",
       "</pre>\n"
      ],
      "text/plain": [
       "\u001b[1;36m2003\u001b[0m-\u001b[1;36m12\u001b[0m-05T\u001b[1;92m04:48:35\u001b[0m & \u001b[1;36m52.11\u001b[0m & \u001b[1;36m-28.21\u001b[0m & \u001b[1;36m510.33\u001b[0m\u001b[1m{\u001b[0m\\raisebox\u001b[1m{\u001b[0m\u001b[1;36m0.\u001b[0m5ex\u001b[1m}\u001b[0m\u001b[1m{\u001b[0m\\tiny$^\u001b[1m{\u001b[0m+\u001b[1;36m12.07\u001b[0m\u001b[1m}\u001b[0m_\u001b[1m{\u001b[0m\u001b[1;36m-12.67\u001b[0m\u001b[1m}\u001b[0m$\u001b[1m}\u001b[0m\u001b[1m}\u001b[0m & \u001b[1;36m510\u001b[0m & \n",
       "\u001b[1;36m33.76\u001b[0m\u001b[1m{\u001b[0m\\raisebox\u001b[1m{\u001b[0m\u001b[1;36m0.\u001b[0m5ex\u001b[1m}\u001b[0m\u001b[1m{\u001b[0m\\tiny$^\u001b[1m{\u001b[0m+\u001b[1;36m32.69\u001b[0m\u001b[1m}\u001b[0m_\u001b[1m{\u001b[0m\u001b[1;36m-32.67\u001b[0m\u001b[1m}\u001b[0m$\u001b[1m}\u001b[0m\u001b[1m}\u001b[0m & \u001b[1;36m33.25\u001b[0m\u001b[1m{\u001b[0m\\raisebox\u001b[1m{\u001b[0m\u001b[1;36m0.\u001b[0m5ex\u001b[1m}\u001b[0m\u001b[1m{\u001b[0m\\tiny$^\u001b[1m{\u001b[0m+\u001b[1;36m32.4\u001b[0m\u001b[1m}\u001b[0m_\u001b[1m{\u001b[0m\u001b[1;36m-32.37\u001b[0m\u001b[1m}\u001b[0m$\u001b[1m}\u001b[0m\u001b[1m}\u001b[0m & Y \\\\ \n"
      ]
     },
     "metadata": {},
     "output_type": "display_data"
    },
    {
     "data": {
      "text/html": [
       "<pre style=\"white-space:pre;overflow-x:auto;line-height:normal;font-family:Menlo,'DejaVu Sans Mono',consolas,'Courier New',monospace\"><span style=\"color: #008080; text-decoration-color: #008080; font-weight: bold\">2003</span>-<span style=\"color: #008080; text-decoration-color: #008080; font-weight: bold\">12</span>-05T<span style=\"color: #00ff00; text-decoration-color: #00ff00; font-weight: bold\">04:48:35</span> &amp; <span style=\"color: #008080; text-decoration-color: #008080; font-weight: bold\">52.11</span> &amp; <span style=\"color: #008080; text-decoration-color: #008080; font-weight: bold\">-28.21</span> &amp; <span style=\"color: #008080; text-decoration-color: #008080; font-weight: bold\">510.33</span><span style=\"font-weight: bold\">{</span>\\raisebox<span style=\"font-weight: bold\">{</span><span style=\"color: #008080; text-decoration-color: #008080; font-weight: bold\">0.</span>5ex<span style=\"font-weight: bold\">}{</span>\\tiny$^<span style=\"font-weight: bold\">{</span>+<span style=\"color: #008080; text-decoration-color: #008080; font-weight: bold\">12.07</span><span style=\"font-weight: bold\">}</span>_<span style=\"font-weight: bold\">{</span><span style=\"color: #008080; text-decoration-color: #008080; font-weight: bold\">-12.67</span><span style=\"font-weight: bold\">}</span>$<span style=\"font-weight: bold\">}}</span> &amp; <span style=\"color: #008080; text-decoration-color: #008080; font-weight: bold\">600</span> &amp; \n",
       "<span style=\"color: #008080; text-decoration-color: #008080; font-weight: bold\">33.21</span><span style=\"font-weight: bold\">{</span>\\raisebox<span style=\"font-weight: bold\">{</span><span style=\"color: #008080; text-decoration-color: #008080; font-weight: bold\">0.</span>5ex<span style=\"font-weight: bold\">}{</span>\\tiny$^<span style=\"font-weight: bold\">{</span>+<span style=\"color: #008080; text-decoration-color: #008080; font-weight: bold\">32.37</span><span style=\"font-weight: bold\">}</span>_<span style=\"font-weight: bold\">{</span><span style=\"color: #008080; text-decoration-color: #008080; font-weight: bold\">-32.34</span><span style=\"font-weight: bold\">}</span>$<span style=\"font-weight: bold\">}}</span> &amp; -- &amp; Y \\\\ \n",
       "</pre>\n"
      ],
      "text/plain": [
       "\u001b[1;36m2003\u001b[0m-\u001b[1;36m12\u001b[0m-05T\u001b[1;92m04:48:35\u001b[0m & \u001b[1;36m52.11\u001b[0m & \u001b[1;36m-28.21\u001b[0m & \u001b[1;36m510.33\u001b[0m\u001b[1m{\u001b[0m\\raisebox\u001b[1m{\u001b[0m\u001b[1;36m0.\u001b[0m5ex\u001b[1m}\u001b[0m\u001b[1m{\u001b[0m\\tiny$^\u001b[1m{\u001b[0m+\u001b[1;36m12.07\u001b[0m\u001b[1m}\u001b[0m_\u001b[1m{\u001b[0m\u001b[1;36m-12.67\u001b[0m\u001b[1m}\u001b[0m$\u001b[1m}\u001b[0m\u001b[1m}\u001b[0m & \u001b[1;36m600\u001b[0m & \n",
       "\u001b[1;36m33.21\u001b[0m\u001b[1m{\u001b[0m\\raisebox\u001b[1m{\u001b[0m\u001b[1;36m0.\u001b[0m5ex\u001b[1m}\u001b[0m\u001b[1m{\u001b[0m\\tiny$^\u001b[1m{\u001b[0m+\u001b[1;36m32.37\u001b[0m\u001b[1m}\u001b[0m_\u001b[1m{\u001b[0m\u001b[1;36m-32.34\u001b[0m\u001b[1m}\u001b[0m$\u001b[1m}\u001b[0m\u001b[1m}\u001b[0m & -- & Y \\\\ \n"
      ]
     },
     "metadata": {},
     "output_type": "display_data"
    },
    {
     "data": {
      "text/html": [
       "<pre style=\"white-space:pre;overflow-x:auto;line-height:normal;font-family:Menlo,'DejaVu Sans Mono',consolas,'Courier New',monospace\"><span style=\"color: #008080; text-decoration-color: #008080; font-weight: bold\">2003</span>-<span style=\"color: #008080; text-decoration-color: #008080; font-weight: bold\">12</span>-09T<span style=\"color: #00ff00; text-decoration-color: #00ff00; font-weight: bold\">18:56:26</span> &amp; <span style=\"color: #008080; text-decoration-color: #008080; font-weight: bold\">36.28</span> &amp; <span style=\"color: #008080; text-decoration-color: #008080; font-weight: bold\">-4.48</span> &amp; <span style=\"color: #008080; text-decoration-color: #008080; font-weight: bold\">187.79</span><span style=\"font-weight: bold\">{</span>\\raisebox<span style=\"font-weight: bold\">{</span><span style=\"color: #008080; text-decoration-color: #008080; font-weight: bold\">0.</span>5ex<span style=\"font-weight: bold\">}{</span>\\tiny$^<span style=\"font-weight: bold\">{</span>+<span style=\"color: #008080; text-decoration-color: #008080; font-weight: bold\">3.62</span><span style=\"font-weight: bold\">}</span>_<span style=\"font-weight: bold\">{</span><span style=\"color: #008080; text-decoration-color: #008080; font-weight: bold\">-3.76</span><span style=\"font-weight: bold\">}</span>$<span style=\"font-weight: bold\">}}</span> &amp; <span style=\"color: #008080; text-decoration-color: #008080; font-weight: bold\">270</span> &amp; \n",
       "<span style=\"color: #008080; text-decoration-color: #008080; font-weight: bold\">32.12</span><span style=\"font-weight: bold\">{</span>\\raisebox<span style=\"font-weight: bold\">{</span><span style=\"color: #008080; text-decoration-color: #008080; font-weight: bold\">0.</span>5ex<span style=\"font-weight: bold\">}{</span>\\tiny$^<span style=\"font-weight: bold\">{</span>+<span style=\"color: #008080; text-decoration-color: #008080; font-weight: bold\">31.33</span><span style=\"font-weight: bold\">}</span>_<span style=\"font-weight: bold\">{</span><span style=\"color: #008080; text-decoration-color: #008080; font-weight: bold\">-31.30</span><span style=\"font-weight: bold\">}</span>$<span style=\"font-weight: bold\">}}</span> &amp; -- &amp; Y \\\\ \n",
       "</pre>\n"
      ],
      "text/plain": [
       "\u001b[1;36m2003\u001b[0m-\u001b[1;36m12\u001b[0m-09T\u001b[1;92m18:56:26\u001b[0m & \u001b[1;36m36.28\u001b[0m & \u001b[1;36m-4.48\u001b[0m & \u001b[1;36m187.79\u001b[0m\u001b[1m{\u001b[0m\\raisebox\u001b[1m{\u001b[0m\u001b[1;36m0.\u001b[0m5ex\u001b[1m}\u001b[0m\u001b[1m{\u001b[0m\\tiny$^\u001b[1m{\u001b[0m+\u001b[1;36m3.62\u001b[0m\u001b[1m}\u001b[0m_\u001b[1m{\u001b[0m\u001b[1;36m-3.76\u001b[0m\u001b[1m}\u001b[0m$\u001b[1m}\u001b[0m\u001b[1m}\u001b[0m & \u001b[1;36m270\u001b[0m & \n",
       "\u001b[1;36m32.12\u001b[0m\u001b[1m{\u001b[0m\\raisebox\u001b[1m{\u001b[0m\u001b[1;36m0.\u001b[0m5ex\u001b[1m}\u001b[0m\u001b[1m{\u001b[0m\\tiny$^\u001b[1m{\u001b[0m+\u001b[1;36m31.33\u001b[0m\u001b[1m}\u001b[0m_\u001b[1m{\u001b[0m\u001b[1;36m-31.30\u001b[0m\u001b[1m}\u001b[0m$\u001b[1m}\u001b[0m\u001b[1m}\u001b[0m & -- & Y \\\\ \n"
      ]
     },
     "metadata": {},
     "output_type": "display_data"
    },
    {
     "data": {
      "text/html": [
       "<pre style=\"white-space:pre;overflow-x:auto;line-height:normal;font-family:Menlo,'DejaVu Sans Mono',consolas,'Courier New',monospace\"><span style=\"color: #008080; text-decoration-color: #008080; font-weight: bold\">2004</span>-<span style=\"color: #008080; text-decoration-color: #008080; font-weight: bold\">01</span>-11T<span style=\"color: #00ff00; text-decoration-color: #00ff00; font-weight: bold\">17:52:55</span> &amp; <span style=\"color: #008080; text-decoration-color: #008080; font-weight: bold\">119.86</span> &amp; <span style=\"color: #008080; text-decoration-color: #008080; font-weight: bold\">46.64</span> &amp; <span style=\"color: #008080; text-decoration-color: #008080; font-weight: bold\">177.09</span><span style=\"font-weight: bold\">{</span>\\raisebox<span style=\"font-weight: bold\">{</span><span style=\"color: #008080; text-decoration-color: #008080; font-weight: bold\">0.</span>5ex<span style=\"font-weight: bold\">}{</span>\\tiny$^<span style=\"font-weight: bold\">{</span>+<span style=\"color: #008080; text-decoration-color: #008080; font-weight: bold\">3.95</span><span style=\"font-weight: bold\">}</span>_<span style=\"font-weight: bold\">{</span><span style=\"color: #008080; text-decoration-color: #008080; font-weight: bold\">-4.13</span><span style=\"font-weight: bold\">}</span>$<span style=\"font-weight: bold\">}}</span> &amp; <span style=\"color: #008080; text-decoration-color: #008080; font-weight: bold\">660</span> &amp; \n",
       "<span style=\"color: #008080; text-decoration-color: #008080; font-weight: bold\">32.87</span><span style=\"font-weight: bold\">{</span>\\raisebox<span style=\"font-weight: bold\">{</span><span style=\"color: #008080; text-decoration-color: #008080; font-weight: bold\">0.</span>5ex<span style=\"font-weight: bold\">}{</span>\\tiny$^<span style=\"font-weight: bold\">{</span>+<span style=\"color: #008080; text-decoration-color: #008080; font-weight: bold\">31.83</span><span style=\"font-weight: bold\">}</span>_<span style=\"font-weight: bold\">{</span><span style=\"color: #008080; text-decoration-color: #008080; font-weight: bold\">-31.82</span><span style=\"font-weight: bold\">}</span>$<span style=\"font-weight: bold\">}}</span> &amp; <span style=\"color: #008080; text-decoration-color: #008080; font-weight: bold\">32.37</span><span style=\"font-weight: bold\">{</span>\\raisebox<span style=\"font-weight: bold\">{</span><span style=\"color: #008080; text-decoration-color: #008080; font-weight: bold\">0.</span>5ex<span style=\"font-weight: bold\">}{</span>\\tiny$^<span style=\"font-weight: bold\">{</span>+<span style=\"color: #008080; text-decoration-color: #008080; font-weight: bold\">31.57</span><span style=\"font-weight: bold\">}</span>_<span style=\"font-weight: bold\">{</span><span style=\"color: #008080; text-decoration-color: #008080; font-weight: bold\">-31.55</span><span style=\"font-weight: bold\">}</span>$<span style=\"font-weight: bold\">}}</span> &amp; N \\\\ \n",
       "</pre>\n"
      ],
      "text/plain": [
       "\u001b[1;36m2004\u001b[0m-\u001b[1;36m01\u001b[0m-11T\u001b[1;92m17:52:55\u001b[0m & \u001b[1;36m119.86\u001b[0m & \u001b[1;36m46.64\u001b[0m & \u001b[1;36m177.09\u001b[0m\u001b[1m{\u001b[0m\\raisebox\u001b[1m{\u001b[0m\u001b[1;36m0.\u001b[0m5ex\u001b[1m}\u001b[0m\u001b[1m{\u001b[0m\\tiny$^\u001b[1m{\u001b[0m+\u001b[1;36m3.95\u001b[0m\u001b[1m}\u001b[0m_\u001b[1m{\u001b[0m\u001b[1;36m-4.13\u001b[0m\u001b[1m}\u001b[0m$\u001b[1m}\u001b[0m\u001b[1m}\u001b[0m & \u001b[1;36m660\u001b[0m & \n",
       "\u001b[1;36m32.87\u001b[0m\u001b[1m{\u001b[0m\\raisebox\u001b[1m{\u001b[0m\u001b[1;36m0.\u001b[0m5ex\u001b[1m}\u001b[0m\u001b[1m{\u001b[0m\\tiny$^\u001b[1m{\u001b[0m+\u001b[1;36m31.83\u001b[0m\u001b[1m}\u001b[0m_\u001b[1m{\u001b[0m\u001b[1;36m-31.82\u001b[0m\u001b[1m}\u001b[0m$\u001b[1m}\u001b[0m\u001b[1m}\u001b[0m & \u001b[1;36m32.37\u001b[0m\u001b[1m{\u001b[0m\\raisebox\u001b[1m{\u001b[0m\u001b[1;36m0.\u001b[0m5ex\u001b[1m}\u001b[0m\u001b[1m{\u001b[0m\\tiny$^\u001b[1m{\u001b[0m+\u001b[1;36m31.57\u001b[0m\u001b[1m}\u001b[0m_\u001b[1m{\u001b[0m\u001b[1;36m-31.55\u001b[0m\u001b[1m}\u001b[0m$\u001b[1m}\u001b[0m\u001b[1m}\u001b[0m & N \\\\ \n"
      ]
     },
     "metadata": {},
     "output_type": "display_data"
    },
    {
     "data": {
      "text/html": [
       "<pre style=\"white-space:pre;overflow-x:auto;line-height:normal;font-family:Menlo,'DejaVu Sans Mono',consolas,'Courier New',monospace\">\\bottomrule\n",
       "</pre>\n"
      ],
      "text/plain": [
       "\\bottomrule\n"
      ]
     },
     "metadata": {},
     "output_type": "display_data"
    },
    {
     "data": {
      "text/html": [
       "<pre style=\"white-space:pre;overflow-x:auto;line-height:normal;font-family:Menlo,'DejaVu Sans Mono',consolas,'Courier New',monospace\">\\end<span style=\"font-weight: bold\">{</span>tabular<span style=\"font-weight: bold\">}</span>\n",
       "</pre>\n"
      ],
      "text/plain": [
       "\\end\u001b[1m{\u001b[0mtabular\u001b[1m}\u001b[0m\n"
      ]
     },
     "metadata": {},
     "output_type": "display_data"
    }
   ],
   "source": [
    "complete_flags = (flare_table.loc[flare_table['energy_NUV']!='--'].iloc[:20].replace(np.nan,'--')['right_censored'].values |\n",
    "                  flare_table.loc[flare_table['energy_NUV']!='--'].iloc[:20].replace(np.nan,'--')['left_censored'].values)\n",
    "print(\"\\\\begin{tabular}{lrrrrrrr}\")\n",
    "print(\"\\\\toprule\")\n",
    "print(\"       Datetime (ISO) &     RA &    Dec &  distance &  dur. &  NUV energy & FUV energy  & complete \\\\\\\\\")\n",
    "print(\"                      &  (deg) &  (deg) &   (pc)    &  (s)  & (log10 erg) & (log10 erg) & flare    \\\\\\\\\")\n",
    "print(\"\\\\midrule\")\n",
    "for i,r in enumerate(t.split('\\n')[4:-3]):\n",
    "    m = [n.strip() for n in r.split('&')]\n",
    "    nuv_energy = m[7]+\"{\\\\raisebox{0.5ex}{\\\\tiny$^{+\"+m[9]+\"}_{-\"+m[8]+\"}$}} & \"\n",
    "    if m[7]=='--':\n",
    "        nuv_energy = \"-- & \"\n",
    "    fuv_energy = m[10]+\"{\\\\raisebox{0.5ex}{\\\\tiny$^{+\"+str(m[12]).replace(' \\\\\\\\','')+\"}_{-\"+m[11]+\"}$}} & \"\n",
    "    if m[10]=='--':\n",
    "        fuv_energy = \"-- & \"\n",
    "    print(f\"{m[0]} & {m[1]} & {m[2]} & \" +\n",
    "          m[3]+\"{\\\\raisebox{0.5ex}{\\\\tiny$^{+\"+m[5]+\"}_{\"+m[4]+\"}$}} & \" +\n",
    "          f\"{m[6]} & \" +\n",
    "          nuv_energy +\n",
    "          fuv_energy +\n",
    "          {0:'Y',1:'N'}[complete_flags[i]]+\" \\\\\\\\ \")\n",
    "print(\"\\\\bottomrule\")\n",
    "print(\"\\\\end{tabular}\")"
   ]
  },
  {
   "cell_type": "code",
   "execution_count": 7,
   "id": "1bec25f4",
   "metadata": {},
   "outputs": [
    {
     "data": {
      "image/png": "[encoded data removed]",
      "text/plain": [
       "<Figure size 640x480 with 1 Axes>"
      ]
     },
     "metadata": {},
     "output_type": "display_data"
    },
    {
     "data": {
      "image/png": "[encoded data removed]",
      "text/plain": [
       "<Figure size 640x480 with 1 Axes>"
      ]
     },
     "metadata": {},
     "output_type": "display_data"
    }
   ],
   "source": [
    "uncensored = flare_table.loc[(flare_table['peak_cps_NUV']!='--') &\n",
    "                             (flare_table['right_censored']==0) &\n",
    "                             (flare_table['left_censored']==0) &\n",
    "                             (flare_table['qa_flag_nuv']==0)]\n",
    "plt.plot(uncensored['duration'],uncensored['peak_cps_NUV'],'kx',alpha=0.4)\n",
    "plt.semilogy()\n",
    "\n",
    "plt.figure()\n",
    "plt.hist(uncensored['duration'],bins=20);"
   ]
  },
  {
   "cell_type": "code",
   "execution_count": 8,
   "id": "a9445507",
   "metadata": {},
   "outputs": [
    {
     "data": {
      "text/html": [
       "<div>\n",
       "<style scoped>\n",
       "    .dataframe tbody tr th:only-of-type {\n",
       "        vertical-align: middle;\n",
       "    }\n",
       "\n",
       "    .dataframe tbody tr th {\n",
       "        vertical-align: top;\n",
       "    }\n",
       "\n",
       "    .dataframe thead th {\n",
       "        text-align: right;\n",
       "    }\n",
       "</style>\n",
       "<table border=\"1\" class=\"dataframe\">\n",
       "  <thead>\n",
       "    <tr style=\"text-align: right;\">\n",
       "      <th></th>\n",
       "      <th>eclipse</th>\n",
       "      <th>obj_id</th>\n",
       "      <th>ra</th>\n",
       "      <th>dec</th>\n",
       "      <th>simbad_n_match</th>\n",
       "      <th>simbad_otype</th>\n",
       "      <th>simbad_main_id</th>\n",
       "      <th>simbad_distance</th>\n",
       "      <th>simbad_distance_err_2</th>\n",
       "      <th>simbad_distance_err_1</th>\n",
       "      <th>...</th>\n",
       "      <th>peak_flux_FUV</th>\n",
       "      <th>peak_flux_err_FUV</th>\n",
       "      <th>peak_mag_FUV</th>\n",
       "      <th>peak_t0_FUV</th>\n",
       "      <th>quiescence_cps_FUV</th>\n",
       "      <th>quiescence_cps_err_FUV</th>\n",
       "      <th>quiescence_flux_FUV</th>\n",
       "      <th>quiescence_flux_err_FUV</th>\n",
       "      <th>quiescence_mag_FUV</th>\n",
       "      <th>quiescence_mag_err_FUV</th>\n",
       "    </tr>\n",
       "  </thead>\n",
       "  <tbody>\n",
       "    <tr>\n",
       "      <th>1</th>\n",
       "      <td>1413</td>\n",
       "      <td>1953301413.0</td>\n",
       "      <td>311.565113</td>\n",
       "      <td>-4.930670</td>\n",
       "      <td>0</td>\n",
       "      <td>Low-Mass*</td>\n",
       "      <td>2MASS J20461427-0456025</td>\n",
       "      <td>817.8621084485156</td>\n",
       "      <td>65.98240829734561</td>\n",
       "      <td>-78.67724834533783</td>\n",
       "      <td>...</td>\n",
       "      <td>0.0</td>\n",
       "      <td>0.0</td>\n",
       "      <td>19.973362</td>\n",
       "      <td>743928496</td>\n",
       "      <td>0.324898</td>\n",
       "      <td>0.013665</td>\n",
       "      <td>0.0</td>\n",
       "      <td>0.0</td>\n",
       "      <td>16.830945</td>\n",
       "      <td>0.016733</td>\n",
       "    </tr>\n",
       "    <tr>\n",
       "      <th>2</th>\n",
       "      <td>1420</td>\n",
       "      <td>1468701420.0</td>\n",
       "      <td>315.935391</td>\n",
       "      <td>-7.379244</td>\n",
       "      <td>1</td>\n",
       "      <td>Low-Mass*</td>\n",
       "      <td>2MASS J21034437-0722434</td>\n",
       "      <td>484.8719937936385</td>\n",
       "      <td>67.54455660357485</td>\n",
       "      <td>-93.63083686476938</td>\n",
       "      <td>...</td>\n",
       "      <td>0.0</td>\n",
       "      <td>0.0</td>\n",
       "      <td>21.433751</td>\n",
       "      <td>743970140</td>\n",
       "      <td>0.288181</td>\n",
       "      <td>0.014946</td>\n",
       "      <td>0.0</td>\n",
       "      <td>0.0</td>\n",
       "      <td>17.607328</td>\n",
       "      <td>0.021929</td>\n",
       "    </tr>\n",
       "    <tr>\n",
       "      <th>3</th>\n",
       "      <td>1422</td>\n",
       "      <td>1479501422.0</td>\n",
       "      <td>343.352654</td>\n",
       "      <td>-39.793072</td>\n",
       "      <td>0</td>\n",
       "      <td>Galaxy</td>\n",
       "      <td>LEDA 2794348</td>\n",
       "      <td>--</td>\n",
       "      <td>--</td>\n",
       "      <td>--</td>\n",
       "      <td>...</td>\n",
       "      <td>--</td>\n",
       "      <td>--</td>\n",
       "      <td>--</td>\n",
       "      <td>--</td>\n",
       "      <td>--</td>\n",
       "      <td>--</td>\n",
       "      <td>--</td>\n",
       "      <td>--</td>\n",
       "      <td>--</td>\n",
       "      <td>--</td>\n",
       "    </tr>\n",
       "    <tr>\n",
       "      <th>4</th>\n",
       "      <td>1534</td>\n",
       "      <td>1091701534.0</td>\n",
       "      <td>259.445075</td>\n",
       "      <td>59.689607</td>\n",
       "      <td>1</td>\n",
       "      <td>Star</td>\n",
       "      <td>2MASS J17174656+5941240</td>\n",
       "      <td>129.1522446660123</td>\n",
       "      <td>2.0260592582583</td>\n",
       "      <td>-2.091685349043644</td>\n",
       "      <td>...</td>\n",
       "      <td>0.0</td>\n",
       "      <td>0.0</td>\n",
       "      <td>20.625874</td>\n",
       "      <td>744644285</td>\n",
       "      <td>0.169849</td>\n",
       "      <td>0.010239</td>\n",
       "      <td>0.0</td>\n",
       "      <td>0.0</td>\n",
       "      <td>18.349073</td>\n",
       "      <td>0.029758</td>\n",
       "    </tr>\n",
       "    <tr>\n",
       "      <th>4</th>\n",
       "      <td>1534</td>\n",
       "      <td>1091701534.0</td>\n",
       "      <td>259.445075</td>\n",
       "      <td>59.689607</td>\n",
       "      <td>1</td>\n",
       "      <td>Star</td>\n",
       "      <td>2MASS J17174656+5941240</td>\n",
       "      <td>129.1522446660123</td>\n",
       "      <td>2.0260592582583</td>\n",
       "      <td>-2.091685349043644</td>\n",
       "      <td>...</td>\n",
       "      <td>0.0</td>\n",
       "      <td>0.0</td>\n",
       "      <td>21.789698</td>\n",
       "      <td>744644165</td>\n",
       "      <td>0.169849</td>\n",
       "      <td>0.010239</td>\n",
       "      <td>0.0</td>\n",
       "      <td>0.0</td>\n",
       "      <td>18.349073</td>\n",
       "      <td>0.029758</td>\n",
       "    </tr>\n",
       "    <tr>\n",
       "      <th>...</th>\n",
       "      <td>...</td>\n",
       "      <td>...</td>\n",
       "      <td>...</td>\n",
       "      <td>...</td>\n",
       "      <td>...</td>\n",
       "      <td>...</td>\n",
       "      <td>...</td>\n",
       "      <td>...</td>\n",
       "      <td>...</td>\n",
       "      <td>...</td>\n",
       "      <td>...</td>\n",
       "      <td>...</td>\n",
       "      <td>...</td>\n",
       "      <td>...</td>\n",
       "      <td>...</td>\n",
       "      <td>...</td>\n",
       "      <td>...</td>\n",
       "      <td>...</td>\n",
       "      <td>...</td>\n",
       "      <td>...</td>\n",
       "      <td>...</td>\n",
       "    </tr>\n",
       "    <tr>\n",
       "      <th>2049</th>\n",
       "      <td>46434</td>\n",
       "      <td>--</td>\n",
       "      <td>83.025278</td>\n",
       "      <td>-26.766145</td>\n",
       "      <td>0</td>\n",
       "      <td>WhiteDwarf_Candidate</td>\n",
       "      <td>Gaia DR3 2908651564812569216</td>\n",
       "      <td>1067.5776662752216</td>\n",
       "      <td>290.57689773814593</td>\n",
       "      <td>-637.7429747665781</td>\n",
       "      <td>...</td>\n",
       "      <td>--</td>\n",
       "      <td>--</td>\n",
       "      <td>--</td>\n",
       "      <td>--</td>\n",
       "      <td>--</td>\n",
       "      <td>--</td>\n",
       "      <td>--</td>\n",
       "      <td>--</td>\n",
       "      <td>--</td>\n",
       "      <td>--</td>\n",
       "    </tr>\n",
       "    <tr>\n",
       "      <th>2050</th>\n",
       "      <td>46438</td>\n",
       "      <td>--</td>\n",
       "      <td>91.025539</td>\n",
       "      <td>39.641683</td>\n",
       "      <td>1</td>\n",
       "      <td>X</td>\n",
       "      <td>1RXS J060407.5+393836</td>\n",
       "      <td>--</td>\n",
       "      <td>--</td>\n",
       "      <td>--</td>\n",
       "      <td>...</td>\n",
       "      <td>--</td>\n",
       "      <td>--</td>\n",
       "      <td>--</td>\n",
       "      <td>--</td>\n",
       "      <td>--</td>\n",
       "      <td>--</td>\n",
       "      <td>--</td>\n",
       "      <td>--</td>\n",
       "      <td>--</td>\n",
       "      <td>--</td>\n",
       "    </tr>\n",
       "    <tr>\n",
       "      <th>2051</th>\n",
       "      <td>46560</td>\n",
       "      <td>--</td>\n",
       "      <td>115.557791</td>\n",
       "      <td>40.030106</td>\n",
       "      <td>1</td>\n",
       "      <td>HighPM*</td>\n",
       "      <td>2MASS J07421381+4001505</td>\n",
       "      <td>46.142062181042995</td>\n",
       "      <td>0.03255209477141108</td>\n",
       "      <td>-0.032598089078341275</td>\n",
       "      <td>...</td>\n",
       "      <td>--</td>\n",
       "      <td>--</td>\n",
       "      <td>--</td>\n",
       "      <td>--</td>\n",
       "      <td>--</td>\n",
       "      <td>--</td>\n",
       "      <td>--</td>\n",
       "      <td>--</td>\n",
       "      <td>--</td>\n",
       "      <td>--</td>\n",
       "    </tr>\n",
       "    <tr>\n",
       "      <th>2057</th>\n",
       "      <td>46767</td>\n",
       "      <td>--</td>\n",
       "      <td>188.178706</td>\n",
       "      <td>-34.410847</td>\n",
       "      <td>0</td>\n",
       "      <td>--</td>\n",
       "      <td>--</td>\n",
       "      <td>--</td>\n",
       "      <td>--</td>\n",
       "      <td>--</td>\n",
       "      <td>...</td>\n",
       "      <td>--</td>\n",
       "      <td>--</td>\n",
       "      <td>--</td>\n",
       "      <td>--</td>\n",
       "      <td>--</td>\n",
       "      <td>--</td>\n",
       "      <td>--</td>\n",
       "      <td>--</td>\n",
       "      <td>--</td>\n",
       "      <td>--</td>\n",
       "    </tr>\n",
       "    <tr>\n",
       "      <th>2063</th>\n",
       "      <td>46828</td>\n",
       "      <td>--</td>\n",
       "      <td>183.710681</td>\n",
       "      <td>-32.431776</td>\n",
       "      <td>0</td>\n",
       "      <td>--</td>\n",
       "      <td>--</td>\n",
       "      <td>--</td>\n",
       "      <td>--</td>\n",
       "      <td>--</td>\n",
       "      <td>...</td>\n",
       "      <td>--</td>\n",
       "      <td>--</td>\n",
       "      <td>--</td>\n",
       "      <td>--</td>\n",
       "      <td>--</td>\n",
       "      <td>--</td>\n",
       "      <td>--</td>\n",
       "      <td>--</td>\n",
       "      <td>--</td>\n",
       "      <td>--</td>\n",
       "    </tr>\n",
       "  </tbody>\n",
       "</table>\n",
       "<p>1104 rows × 125 columns</p>\n",
       "</div>"
      ],
      "text/plain": [
       "      eclipse        obj_id          ra        dec  simbad_n_match  \\\n",
       "1        1413  1953301413.0  311.565113  -4.930670               0   \n",
       "2        1420  1468701420.0  315.935391  -7.379244               1   \n",
       "3        1422  1479501422.0  343.352654 -39.793072               0   \n",
       "4        1534  1091701534.0  259.445075  59.689607               1   \n",
       "4        1534  1091701534.0  259.445075  59.689607               1   \n",
       "...       ...           ...         ...        ...             ...   \n",
       "2049    46434            --   83.025278 -26.766145               0   \n",
       "2050    46438            --   91.025539  39.641683               1   \n",
       "2051    46560            --  115.557791  40.030106               1   \n",
       "2057    46767            --  188.178706 -34.410847               0   \n",
       "2063    46828            --  183.710681 -32.431776               0   \n",
       "\n",
       "              simbad_otype                simbad_main_id     simbad_distance  \\\n",
       "1                Low-Mass*       2MASS J20461427-0456025   817.8621084485156   \n",
       "2                Low-Mass*       2MASS J21034437-0722434   484.8719937936385   \n",
       "3                   Galaxy                  LEDA 2794348                  --   \n",
       "4                     Star       2MASS J17174656+5941240   129.1522446660123   \n",
       "4                     Star       2MASS J17174656+5941240   129.1522446660123   \n",
       "...                    ...                           ...                 ...   \n",
       "2049  WhiteDwarf_Candidate  Gaia DR3 2908651564812569216  1067.5776662752216   \n",
       "2050                     X         1RXS J060407.5+393836                  --   \n",
       "2051               HighPM*       2MASS J07421381+4001505  46.142062181042995   \n",
       "2057                    --                            --                  --   \n",
       "2063                    --                            --                  --   \n",
       "\n",
       "     simbad_distance_err_2  simbad_distance_err_1  ... peak_flux_FUV  \\\n",
       "1        65.98240829734561     -78.67724834533783  ...           0.0   \n",
       "2        67.54455660357485     -93.63083686476938  ...           0.0   \n",
       "3                       --                     --  ...            --   \n",
       "4          2.0260592582583     -2.091685349043644  ...           0.0   \n",
       "4          2.0260592582583     -2.091685349043644  ...           0.0   \n",
       "...                    ...                    ...  ...           ...   \n",
       "2049    290.57689773814593     -637.7429747665781  ...            --   \n",
       "2050                    --                     --  ...            --   \n",
       "2051   0.03255209477141108  -0.032598089078341275  ...            --   \n",
       "2057                    --                     --  ...            --   \n",
       "2063                    --                     --  ...            --   \n",
       "\n",
       "     peak_flux_err_FUV peak_mag_FUV  peak_t0_FUV quiescence_cps_FUV  \\\n",
       "1                  0.0    19.973362    743928496           0.324898   \n",
       "2                  0.0    21.433751    743970140           0.288181   \n",
       "3                   --           --           --                 --   \n",
       "4                  0.0    20.625874    744644285           0.169849   \n",
       "4                  0.0    21.789698    744644165           0.169849   \n",
       "...                ...          ...          ...                ...   \n",
       "2049                --           --           --                 --   \n",
       "2050                --           --           --                 --   \n",
       "2051                --           --           --                 --   \n",
       "2057                --           --           --                 --   \n",
       "2063                --           --           --                 --   \n",
       "\n",
       "      quiescence_cps_err_FUV quiescence_flux_FUV  quiescence_flux_err_FUV  \\\n",
       "1                   0.013665                 0.0                      0.0   \n",
       "2                   0.014946                 0.0                      0.0   \n",
       "3                         --                  --                       --   \n",
       "4                   0.010239                 0.0                      0.0   \n",
       "4                   0.010239                 0.0                      0.0   \n",
       "...                      ...                 ...                      ...   \n",
       "2049                      --                  --                       --   \n",
       "2050                      --                  --                       --   \n",
       "2051                      --                  --                       --   \n",
       "2057                      --                  --                       --   \n",
       "2063                      --                  --                       --   \n",
       "\n",
       "     quiescence_mag_FUV quiescence_mag_err_FUV  \n",
       "1             16.830945               0.016733  \n",
       "2             17.607328               0.021929  \n",
       "3                    --                     --  \n",
       "4             18.349073               0.029758  \n",
       "4             18.349073               0.029758  \n",
       "...                 ...                    ...  \n",
       "2049                 --                     --  \n",
       "2050                 --                     --  \n",
       "2051                 --                     --  \n",
       "2057                 --                     --  \n",
       "2063                 --                     --  \n",
       "\n",
       "[1104 rows x 125 columns]"
      ]
     },
     "execution_count": 8,
     "metadata": {},
     "output_type": "execute_result"
    }
   ],
   "source": [
    "flare_table.loc[(flare_table['qa_flag_nuv']==0) &\n",
    "                (flare_table['qa_flag_fuv']==0)]"
   ]
  },
  {
   "cell_type": "code",
   "execution_count": 9,
   "id": "8c17734e",
   "metadata": {},
   "outputs": [
    {
     "data": {
      "text/html": [
       "<pre style=\"white-space:pre;overflow-x:auto;line-height:normal;font-family:Menlo,'DejaVu Sans Mono',consolas,'Courier New',monospace\">There are <span style=\"color: #008080; text-decoration-color: #008080; font-weight: bold\">1128</span> candidate flares identified across <span style=\"color: #008080; text-decoration-color: #008080; font-weight: bold\">1010</span> visits,\n",
       "</pre>\n"
      ],
      "text/plain": [
       "There are \u001b[1;36m1128\u001b[0m candidate flares identified across \u001b[1;36m1010\u001b[0m visits,\n"
      ]
     },
     "metadata": {},
     "output_type": "display_data"
    },
    {
     "data": {
      "text/html": [
       "<pre style=\"white-space:pre;overflow-x:auto;line-height:normal;font-family:Menlo,'DejaVu Sans Mono',consolas,'Courier New',monospace\"> on <span style=\"color: #008080; text-decoration-color: #008080; font-weight: bold\">883</span> unique sources \n",
       "</pre>\n"
      ],
      "text/plain": [
       " on \u001b[1;36m883\u001b[0m unique sources \n"
      ]
     },
     "metadata": {},
     "output_type": "display_data"
    },
    {
     "ename": "KeyError",
     "evalue": "'quiescence_NUV'",
     "output_type": "error",
     "traceback": [
      "\u001b[0;31m---------------------------------------------------------------------------\u001b[0m",
      "\u001b[0;31mKeyError\u001b[0m                                  Traceback (most recent call last)",
      "File \u001b[0;32m~/mambaforge/envs/gfcat/lib/python3.9/site-packages/pandas/core/indexes/base.py:3803\u001b[0m, in \u001b[0;36mIndex.get_loc\u001b[0;34m(self, key, method, tolerance)\u001b[0m\n\u001b[1;32m   3802\u001b[0m \u001b[38;5;28;01mtry\u001b[39;00m:\n\u001b[0;32m-> 3803\u001b[0m     \u001b[38;5;28;01mreturn\u001b[39;00m \u001b[38;5;28;43mself\u001b[39;49m\u001b[38;5;241;43m.\u001b[39;49m\u001b[43m_engine\u001b[49m\u001b[38;5;241;43m.\u001b[39;49m\u001b[43mget_loc\u001b[49m\u001b[43m(\u001b[49m\u001b[43mcasted_key\u001b[49m\u001b[43m)\u001b[49m\n\u001b[1;32m   3804\u001b[0m \u001b[38;5;28;01mexcept\u001b[39;00m \u001b[38;5;167;01mKeyError\u001b[39;00m \u001b[38;5;28;01mas\u001b[39;00m err:\n",
      "File \u001b[0;32m~/mambaforge/envs/gfcat/lib/python3.9/site-packages/pandas/_libs/index.pyx:138\u001b[0m, in \u001b[0;36mpandas._libs.index.IndexEngine.get_loc\u001b[0;34m()\u001b[0m\n",
      "File \u001b[0;32m~/mambaforge/envs/gfcat/lib/python3.9/site-packages/pandas/_libs/index.pyx:165\u001b[0m, in \u001b[0;36mpandas._libs.index.IndexEngine.get_loc\u001b[0;34m()\u001b[0m\n",
      "File \u001b[0;32mpandas/_libs/hashtable_class_helper.pxi:5745\u001b[0m, in \u001b[0;36mpandas._libs.hashtable.PyObjectHashTable.get_item\u001b[0;34m()\u001b[0m\n",
      "File \u001b[0;32mpandas/_libs/hashtable_class_helper.pxi:5753\u001b[0m, in \u001b[0;36mpandas._libs.hashtable.PyObjectHashTable.get_item\u001b[0;34m()\u001b[0m\n",
      "\u001b[0;31mKeyError\u001b[0m: 'quiescence_NUV'",
      "\nThe above exception was the direct cause of the following exception:\n",
      "\u001b[0;31mKeyError\u001b[0m                                  Traceback (most recent call last)",
      "Cell \u001b[0;32mIn[9], line 5\u001b[0m\n\u001b[1;32m      3\u001b[0m \u001b[38;5;28mprint\u001b[39m(\u001b[38;5;124mf\u001b[39m\u001b[38;5;124m\"\u001b[39m\u001b[38;5;124mThere are \u001b[39m\u001b[38;5;132;01m{\u001b[39;00m\u001b[38;5;28mlen\u001b[39m(flare_table)\u001b[38;5;132;01m}\u001b[39;00m\u001b[38;5;124m candidate flares identified across \u001b[39m\u001b[38;5;132;01m{\u001b[39;00m\u001b[38;5;28mlen\u001b[39m(np\u001b[38;5;241m.\u001b[39munique(flare_table\u001b[38;5;241m.\u001b[39meclipse))\u001b[38;5;132;01m}\u001b[39;00m\u001b[38;5;124m visits,\u001b[39m\u001b[38;5;124m\"\u001b[39m)\n\u001b[1;32m      4\u001b[0m \u001b[38;5;28mprint\u001b[39m(\u001b[38;5;124mf\u001b[39m\u001b[38;5;124m\"\u001b[39m\u001b[38;5;124m on \u001b[39m\u001b[38;5;132;01m{\u001b[39;00m\u001b[38;5;28mlen\u001b[39m(\u001b[38;5;28mset\u001b[39m(labels))\u001b[38;5;132;01m}\u001b[39;00m\u001b[38;5;124m unique sources \u001b[39m\u001b[38;5;124m\"\u001b[39m)\n\u001b[0;32m----> 5\u001b[0m \u001b[38;5;28mprint\u001b[39m(\u001b[38;5;124mf\u001b[39m\u001b[38;5;124m\"\u001b[39m\u001b[38;5;124mof which \u001b[39m\u001b[38;5;132;01m{\u001b[39;00m\u001b[38;5;28mlen\u001b[39m(flare_table\u001b[38;5;241m.\u001b[39mloc[(\u001b[43mflare_table\u001b[49m\u001b[43m[\u001b[49m\u001b[38;5;124;43m'\u001b[39;49m\u001b[38;5;124;43mquiescence_NUV\u001b[39;49m\u001b[38;5;124;43m'\u001b[39;49m\u001b[43m]\u001b[49m\u001b[38;5;241m!=\u001b[39m\u001b[38;5;124m'\u001b[39m\u001b[38;5;124m--\u001b[39m\u001b[38;5;124m'\u001b[39m)\u001b[38;5;250m \u001b[39m\u001b[38;5;241m&\u001b[39m\u001b[38;5;250m \u001b[39m(flare_table[\u001b[38;5;124m'\u001b[39m\u001b[38;5;124mquiescence_FUV\u001b[39m\u001b[38;5;124m'\u001b[39m]\u001b[38;5;241m!=\u001b[39m\u001b[38;5;124m'\u001b[39m\u001b[38;5;124m--\u001b[39m\u001b[38;5;124m'\u001b[39m)])\u001b[38;5;132;01m}\u001b[39;00m\u001b[38;5;124m were observed in both bands.\u001b[39m\u001b[38;5;124m\"\u001b[39m)\n\u001b[1;32m      6\u001b[0m \u001b[38;5;28mprint\u001b[39m(\u001b[38;5;124mf\u001b[39m\u001b[38;5;124m\"\u001b[39m\u001b[38;5;124mNUV band encompassed energies were computed for \u001b[39m\u001b[38;5;132;01m{\u001b[39;00m\u001b[38;5;28mlen\u001b[39m(flare_table\u001b[38;5;241m.\u001b[39mloc[flare_table[\u001b[38;5;124m'\u001b[39m\u001b[38;5;124menergy_NUV\u001b[39m\u001b[38;5;124m'\u001b[39m]\u001b[38;5;241m!=\u001b[39m\u001b[38;5;124m'\u001b[39m\u001b[38;5;124m--\u001b[39m\u001b[38;5;124m'\u001b[39m])\u001b[38;5;132;01m}\u001b[39;00m\u001b[38;5;124m of the candidate flare events.\u001b[39m\u001b[38;5;124m\"\u001b[39m)\n",
      "File \u001b[0;32m~/mambaforge/envs/gfcat/lib/python3.9/site-packages/pandas/core/frame.py:3805\u001b[0m, in \u001b[0;36mDataFrame.__getitem__\u001b[0;34m(self, key)\u001b[0m\n\u001b[1;32m   3803\u001b[0m \u001b[38;5;28;01mif\u001b[39;00m \u001b[38;5;28mself\u001b[39m\u001b[38;5;241m.\u001b[39mcolumns\u001b[38;5;241m.\u001b[39mnlevels \u001b[38;5;241m>\u001b[39m \u001b[38;5;241m1\u001b[39m:\n\u001b[1;32m   3804\u001b[0m     \u001b[38;5;28;01mreturn\u001b[39;00m \u001b[38;5;28mself\u001b[39m\u001b[38;5;241m.\u001b[39m_getitem_multilevel(key)\n\u001b[0;32m-> 3805\u001b[0m indexer \u001b[38;5;241m=\u001b[39m \u001b[38;5;28;43mself\u001b[39;49m\u001b[38;5;241;43m.\u001b[39;49m\u001b[43mcolumns\u001b[49m\u001b[38;5;241;43m.\u001b[39;49m\u001b[43mget_loc\u001b[49m\u001b[43m(\u001b[49m\u001b[43mkey\u001b[49m\u001b[43m)\u001b[49m\n\u001b[1;32m   3806\u001b[0m \u001b[38;5;28;01mif\u001b[39;00m is_integer(indexer):\n\u001b[1;32m   3807\u001b[0m     indexer \u001b[38;5;241m=\u001b[39m [indexer]\n",
      "File \u001b[0;32m~/mambaforge/envs/gfcat/lib/python3.9/site-packages/pandas/core/indexes/base.py:3805\u001b[0m, in \u001b[0;36mIndex.get_loc\u001b[0;34m(self, key, method, tolerance)\u001b[0m\n\u001b[1;32m   3803\u001b[0m     \u001b[38;5;28;01mreturn\u001b[39;00m \u001b[38;5;28mself\u001b[39m\u001b[38;5;241m.\u001b[39m_engine\u001b[38;5;241m.\u001b[39mget_loc(casted_key)\n\u001b[1;32m   3804\u001b[0m \u001b[38;5;28;01mexcept\u001b[39;00m \u001b[38;5;167;01mKeyError\u001b[39;00m \u001b[38;5;28;01mas\u001b[39;00m err:\n\u001b[0;32m-> 3805\u001b[0m     \u001b[38;5;28;01mraise\u001b[39;00m \u001b[38;5;167;01mKeyError\u001b[39;00m(key) \u001b[38;5;28;01mfrom\u001b[39;00m \u001b[38;5;21;01merr\u001b[39;00m\n\u001b[1;32m   3806\u001b[0m \u001b[38;5;28;01mexcept\u001b[39;00m \u001b[38;5;167;01mTypeError\u001b[39;00m:\n\u001b[1;32m   3807\u001b[0m     \u001b[38;5;66;03m# If we have a listlike key, _check_indexing_error will raise\u001b[39;00m\n\u001b[1;32m   3808\u001b[0m     \u001b[38;5;66;03m#  InvalidIndexError. Otherwise we fall through and re-raise\u001b[39;00m\n\u001b[1;32m   3809\u001b[0m     \u001b[38;5;66;03m#  the TypeError.\u001b[39;00m\n\u001b[1;32m   3810\u001b[0m     \u001b[38;5;28mself\u001b[39m\u001b[38;5;241m.\u001b[39m_check_indexing_error(key)\n",
      "\u001b[0;31mKeyError\u001b[0m: 'quiescence_NUV'"
     ]
    }
   ],
   "source": [
    "pos = list(zip(flare_table['ra'].values,flare_table['dec'].values))\n",
    "labels = DBSCAN(eps=17.5/60/60,min_samples=1).fit(pos).labels_\n",
    "print(f\"There are {len(flare_table)} candidate flares identified across {len(np.unique(flare_table.eclipse))} visits,\")\n",
    "print(f\" on {len(set(labels))} unique sources \")\n",
    "print(f\"of which {len(flare_table.loc[(flare_table['quiescence_NUV']!='--') & (flare_table['quiescence_FUV']!='--')])} were observed in both bands.\")\n",
    "print(f\"NUV band encompassed energies were computed for {len(flare_table.loc[flare_table['energy_NUV']!='--'])} of the candidate flare events.\")\n"
   ]
  },
  {
   "cell_type": "code",
   "execution_count": null,
   "id": "94c36907",
   "metadata": {},
   "outputs": [],
   "source": [
    "plt.plot(np.array(flare_table.loc[(flare_table['qa_flag_nuv']==0) &\n",
    "                                  (flare_table['qa_flag_fuv']==0)]['ratio_min'].replace('--',np.nan),\n",
    "                  dtype=float),\n",
    "         np.array(flare_table.loc[(flare_table['qa_flag_nuv']==0) &\n",
    "                                  (flare_table['qa_flag_fuv']==0)]['ratio_max'].replace('--',np.nan),\n",
    "                  dtype=float),'k.',alpha=0.25)\n",
    "#plt.plot(flare_table['ratio_min'],flare_table['ratio_max'],'kx');\n",
    "plt.xlim([0,1])\n",
    "plt.xlabel('minimum FUV / NUV flux ratio')\n",
    "plt.ylim([0,5])\n",
    "plt.ylabel('maximum FUV / NUV flux ratio')\n",
    "plt.savefig('flare_ratios_dist.png',dpi=150)\n",
    "plt.savefig('flare_ratios_dist.pdf',dpi=150)"
   ]
  },
  {
   "cell_type": "code",
   "execution_count": null,
   "id": "681b7a87",
   "metadata": {
    "scrolled": false
   },
   "outputs": [],
   "source": [
    "gs = gridspec.GridSpec(nrows=2, ncols=4)\n",
    "fig = plt.figure(figsize=(10,5))\n",
    "ax = fig.add_subplot(gs[:,:2])\n",
    "flares_all = flare_table.loc[(flare_table['energy_NUV']!='--') &\n",
    "                             (flare_table['qa_flag_nuv']==0)]\n",
    "flares_complete = flare_table.loc[(flare_table['energy_NUV']!='--') &\n",
    "                                  (flare_table['left_censored']==0) &\n",
    "                                  (flare_table['right_censored']==0) &\n",
    "                                  (flare_table['qa_flag_nuv']==0)]\n",
    "ax.hist(flares_all['energy_NUV'],bins=50,label=f\"total flares\\n(n={len(flares_all)})\",color='k',alpha=0.7)\n",
    "ax.hist(flares_complete['energy_NUV'],bins=50,label=f\"complete flares\\n(n={len(flares_complete)})\",color='y',alpha=0.7)\n",
    "ax.set_yticks([])\n",
    "ax.set_xlabel('NUV encompassed flare energies as log10(ergs)')\n",
    "ax.legend()\n",
    "\n",
    "ax = fig.add_subplot(gs[:,2:])\n",
    "flares_all = flare_table.loc[(flare_table['energy_FUV']!='--') &\n",
    "                             (flare_table['qa_flag_fuv']==0)]\n",
    "flares_complete = flare_table.loc[(flare_table['energy_FUV']!='--') &\n",
    "                                  (flare_table['left_censored']==0) &\n",
    "                                  (flare_table['right_censored']==0) &\n",
    "                                  (flare_table['qa_flag_fuv']==0)]\n",
    "ax.hist(flares_all['energy_FUV'],bins=50,label=f\"total flares\\n(n={len(flares_all)})\",color='k',alpha=0.7)\n",
    "ax.hist(flares_complete['energy_FUV'],bins=50,label=f\"complete flares\\n(n={len(flares_complete)})\",color='y',alpha=0.7)\n",
    "ax.set_yticks([])\n",
    "ax.set_xlabel('FUV encompassed flare energies as log10(ergs)')\n",
    "ax.legend()\n",
    "plt.tight_layout()\n",
    "plt.savefig('flare_energy_dist.png',dpi=150)\n",
    "plt.savefig('flare_energy_dist.pdf',dpi=150)"
   ]
  },
  {
   "cell_type": "code",
   "execution_count": null,
   "id": "44c63b1f",
   "metadata": {},
   "outputs": [],
   "source": [
    "print('Flare energy detection limits are basically determined by stellar distance.')\n",
    "d = np.array(flares_all['distance'].values,dtype=float)\n",
    "d_err = (np.array(flares_all['distance'].values,dtype=float),\n",
    "         np.array(flares_all['distance'].values,dtype=float))\n",
    "print(f\"The range of stellar distances is {min(d)} to {max(d)} parsecs.\")\n",
    "flares_all = flare_table.loc[(flare_table['energy_NUV']!='--') &\n",
    "                             (flare_table['qa_flag_nuv']==0)]\n",
    "e = flares_all['energy_NUV'].values\n",
    "print(f\"The range of flare energies is {min(e)} to {max(e)}.\")\n",
    "plt.figure()\n",
    "plt.plot(np.array(flares_all['distance'].values,dtype=float),e,'k.')\n",
    "plt.semilogx();"
   ]
  },
  {
   "cell_type": "code",
   "execution_count": null,
   "id": "aed2dc83",
   "metadata": {},
   "outputs": [],
   "source": [
    "flares_all[flares_all['energy_NUV']>35].sort_values('energy_NUV')[['eclipse','ra','dec','energy_NUV','energy_err_1_NUV','energy_err_2_NUV','simbad_otype','simbad_main_id','gaia_match_offset','gaia_n_match','simbad_distance','gaia_distance','gaia_distance_err_1','gaia_distance_err_2','gaia_parallax_over_err']]"
   ]
  },
  {
   "cell_type": "code",
   "execution_count": null,
   "id": "79a8fede",
   "metadata": {},
   "outputs": [],
   "source": [
    "plt.hist(np.array(flares_all['ratio_at_nuv_max'].replace('--',np.nan).values,dtype='float'),bins=200)\n",
    "plt.xlim([0,3])"
   ]
  },
  {
   "cell_type": "code",
   "execution_count": null,
   "id": "c55d7541",
   "metadata": {},
   "outputs": [],
   "source": [
    "flares_all"
   ]
  },
  {
   "cell_type": "markdown",
   "id": "9a2d7327",
   "metadata": {},
   "source": [
    "## Eclipses"
   ]
  },
  {
   "cell_type": "code",
   "execution_count": null,
   "id": "bde0d33f",
   "metadata": {},
   "outputs": [],
   "source": [
    "eix = pd.read_csv('eclipse_targets_by_index.csv',index_col=None).ix.values\n",
    "etbl = tbl.loc[eix]\n",
    "etbl.replace(np.nan, '--', inplace=True)\n",
    "etbl.to_csv('gfcat_eclipse_table.csv',index=None)\n",
    "etbl"
   ]
  },
  {
   "cell_type": "code",
   "execution_count": null,
   "id": "7934ec04",
   "metadata": {},
   "outputs": [],
   "source": [
    "print(etbl.replace('--',np.nan).astype(\n",
    "    {'mag_min_NUV':float,'mag_max_NUV':float,'mag_min_err_NUV':float,'mag_max_err_NUV':float}).round(\n",
    "    {'ra':2,'dec':2,'mag_min_NUV':2,'mag_max_NUV':2,'mag_min_err_NUV':2,'mag_max_err_NUV':2}).iloc[-20:][\n",
    "    ['datetime_iso','ra','dec','simbad_otype','mag_min_NUV','mag_max_NUV','mag_min_err_NUV','mag_max_err_NUV']].to_latex(index=False))"
   ]
  },
  {
   "cell_type": "code",
   "execution_count": null,
   "id": "a01568a6",
   "metadata": {},
   "outputs": [],
   "source": []
  }
 ],
 "metadata": {
  "kernelspec": {
   "display_name": "Python 3 (ipykernel)",
   "language": "python",
   "name": "python3"
  },
  "language_info": {
   "codemirror_mode": {
    "name": "ipython",
    "version": 3
   },
   "file_extension": ".py",
   "mimetype": "text/x-python",
   "name": "python",
   "nbconvert_exporter": "python",
   "pygments_lexer": "ipython3",
   "version": "3.9.15"
  }
 },
 "nbformat": 4,
 "nbformat_minor": 5
}
