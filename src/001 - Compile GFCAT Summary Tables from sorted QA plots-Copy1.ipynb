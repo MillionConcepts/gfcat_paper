{
 "cells": [
  {
   "cell_type": "code",
   "execution_count": 1,
   "id": "132cb6e5",
   "metadata": {},
   "outputs": [],
   "source": [
    "%matplotlib inline\n",
    "import matplotlib.pyplot as plt\n",
    "import numpy as np\n",
    "import pyarrow.parquet as pq\n",
    "import pandas as pd\n",
    "from rich import print\n",
    "import warnings\n",
    "import datetime\n",
    "from astropy.time import Time\n",
    "import os"
   ]
  },
  {
   "cell_type": "code",
   "execution_count": 2,
   "id": "618804d9",
   "metadata": {},
   "outputs": [],
   "source": [
    "def counts2mag(cps, band):\n",
    "    scale = 18.82 if band == 'FUV' else 20.08\n",
    "    with np.errstate(invalid='ignore'):\n",
    "        with warnings.catch_warnings():\n",
    "            warnings.simplefilter(\"ignore\")\n",
    "            mag = -2.5 * np.log10(cps) + scale\n",
    "    return mag"
   ]
  },
  {
   "cell_type": "code",
   "execution_count": 3,
   "id": "f627eeae",
   "metadata": {},
   "outputs": [],
   "source": [
    "def angularSeparation(ra1, dec1, ra2, dec2):\n",
    "\n",
    "    d2r = np.pi/180.\n",
    "    ra2deg = 1./d2r\n",
    "\n",
    "    d1 = dec1*d2r\n",
    "    d2 = dec2*d2r\n",
    "\n",
    "    r1 = ra1*d2r\n",
    "    r2 = ra2*d2r\n",
    "\n",
    "    a = np.sin((d2-d1)/2.)**2.+np.cos(d1)*np.cos(d2)*np.sin((r2-r1)/2.)**2.\n",
    "    r = 2*np.arcsin(np.sqrt(a))\n",
    "\n",
    "    return r*ra2deg"
   ]
  },
  {
   "cell_type": "code",
   "execution_count": 4,
   "id": "aa811175",
   "metadata": {},
   "outputs": [],
   "source": [
    "header_data = pd.read_csv('../ref/mislike_image_header_table.csv')\n",
    "catalog_filename = '../ref/catalog_nd_daostarfinder.parquet'\n",
    "catalog_file = pq.ParquetFile(catalog_filename)"
   ]
  },
  {
   "cell_type": "code",
   "execution_count": 5,
   "id": "ecb9527f",
   "metadata": {},
   "outputs": [],
   "source": [
    "def make_target_table(objid_list,morphology=''):\n",
    "    table = pd.DataFrame()\n",
    "    for objid in objid_list:\n",
    "        eclipse = int(str(objid)[-5:])\n",
    "        this_star = pq.read_table(catalog_filename,filters =\n",
    "                                  [('eclipse','=',eclipse),\n",
    "                                   ('obj_id','=',objid)]).to_pandas()\n",
    "        this_star['morphology'] = morphology\n",
    "        table = pd.concat([table,this_star[[\"eclipse\",\"obj_id\",\"ra\",\"dec\",\"morphology\"]]])\n",
    "    return table"
   ]
  },
  {
   "cell_type": "code",
   "execution_count": 6,
   "id": "86defa77",
   "metadata": {},
   "outputs": [
    {
     "data": {
      "text/html": [
       "<pre style=\"white-space:pre;overflow-x:auto;line-height:normal;font-family:Menlo,'DejaVu Sans Mono',consolas,'Courier New',monospace\"><span style=\"color: #008080; text-decoration-color: #008080; font-weight: bold\">865</span> sources found in general search\n",
       "</pre>\n"
      ],
      "text/plain": [
       "\u001b[1;36m865\u001b[0m sources found in general search\n"
      ]
     },
     "metadata": {},
     "output_type": "display_data"
    },
    {
     "data": {
      "text/html": [
       "<pre style=\"white-space:pre;overflow-x:auto;line-height:normal;font-family:Menlo,'DejaVu Sans Mono',consolas,'Courier New',monospace\"><span style=\"color: #008080; text-decoration-color: #008080; font-weight: bold\">654</span> sources found in targeted search\n",
       "</pre>\n"
      ],
      "text/plain": [
       "\u001b[1;36m654\u001b[0m sources found in targeted search\n"
      ]
     },
     "metadata": {},
     "output_type": "display_data"
    },
    {
     "data": {
      "text/html": [
       "<pre style=\"white-space:pre;overflow-x:auto;line-height:normal;font-family:Menlo,'DejaVu Sans Mono',consolas,'Courier New',monospace\"><span style=\"color: #008080; text-decoration-color: #008080; font-weight: bold\">281</span> sources found in matched FUV targets\n",
       "</pre>\n"
      ],
      "text/plain": [
       "\u001b[1;36m281\u001b[0m sources found in matched FUV targets\n"
      ]
     },
     "metadata": {},
     "output_type": "display_data"
    }
   ],
   "source": [
    "gfcat_corpus = pd.DataFrame()\n",
    "path = \"/Users/cm/GFCAT/gfcat/test_gifs/sorted/\"\n",
    "for d in ['flare','eclipse','trend','unk variable']:\n",
    "    targets = []\n",
    "    for fn in os.listdir(f\"{path}{d}/\"):\n",
    "        try:\n",
    "            targets+=[int(fn.split('-')[1])]\n",
    "        except IndexError:\n",
    "            continue\n",
    "    table = make_target_table(targets,morphology=d.upper()[0])\n",
    "    gfcat_corpus = pd.concat([gfcat_corpus,table])\n",
    "print(f'{len(gfcat_corpus)} sources found in general search')\n",
    "\n",
    "gfcat_targeted = pd.DataFrame()\n",
    "path = \"/Users/cm/GFCAT/gfcat/test_known_jpg/sorted/\"\n",
    "for d in ['flare','eclipse','trend','unk variable']:\n",
    "    targets = []\n",
    "    for fn in os.listdir(f\"{path}{d}/\"):\n",
    "        try:\n",
    "            targets+=[int(fn.split('-')[1])]\n",
    "        except IndexError:\n",
    "            continue\n",
    "    table = make_target_table(targets,morphology=d.upper()[0])\n",
    "    gfcat_targeted = pd.concat([gfcat_targeted,table])\n",
    "print(f'{len(gfcat_targeted)} sources found in targeted search')\n",
    "\n",
    "gfcat_fuv_matched = pd.DataFrame()\n",
    "path = \"/Users/cm/GFCAT/gfcat/test_fuv_matched/sorted/\"\n",
    "for d in ['flare','eclipse','trend','unk variable']:\n",
    "    targets = []\n",
    "    for fn in os.listdir(f\"{path}{d}/\"):\n",
    "        try:\n",
    "            targets+=[int(fn.split('-')[1])]\n",
    "        except IndexError:\n",
    "            continue\n",
    "    table = make_target_table(targets,morphology=d.upper()[0])\n",
    "    gfcat_fuv_matched = pd.concat([gfcat_fuv_matched,table])\n",
    "print(f'{len(gfcat_fuv_matched)} sources found in matched FUV targets')\n",
    "\n"
   ]
  },
  {
   "cell_type": "code",
   "execution_count": 7,
   "id": "0d72d06c",
   "metadata": {
    "scrolled": false
   },
   "outputs": [],
   "source": [
    "def make_variable_target_table(obj_ids):\n",
    "    variable_table = pd.DataFrame()\n",
    "    for obj_id in obj_ids:\n",
    "        eclipse = int(str(obj_id)[-5:])\n",
    "        #obj_id = int(objid)\n",
    "        this_star = pq.read_table(catalog_filename,filters =\n",
    "                                  [('eclipse','=',eclipse),\n",
    "                                   ('obj_id','=',obj_id)]).to_pandas()\n",
    "        expt = header_data.loc[header_data['ECLIPSE']==eclipse].loc[header_data['BAND']=='NUV']['EXPT_0']\n",
    "        cps = this_star[\"aperture_sum_n_12_8\"].tolist()[0]/expt.tolist()[0]\n",
    "        cps_err = np.sqrt(this_star[\"aperture_sum_n_12_8\"].tolist()[0])/expt.tolist()[0]\n",
    "        mag = counts2mag(cps,'NUV')\n",
    "        mag_err_1 = mag-counts2mag(cps+cps_err,'NUV')\n",
    "        mag_err_2 = counts2mag(cps-cps_err,'NUV')-mag # this one is always larger\n",
    "        this_star['cps'] = cps\n",
    "        this_star['cps_err'] = cps_err\n",
    "        this_star['NUVmag'] = mag\n",
    "        this_star['NUVmag_err_1'] = mag_err_1\n",
    "        this_star['NUVmag_err_2'] = mag_err_2\n",
    "        variable_table = pd.concat([variable_table,\n",
    "                                 this_star[\n",
    "                                    [\"obj_id\",\"ra\",\"dec\",\"eclipse\",\"NUVmag\",\"NUVmag_err_1\",\"NUVmag_err_2\",]]])\n",
    "    return variable_table\n"
   ]
  },
  {
   "cell_type": "code",
   "execution_count": 8,
   "id": "bdeaae18",
   "metadata": {},
   "outputs": [],
   "source": [
    "# define manually adjusted source positions\n",
    "mpt = \"\"\"06882 99999906882 310.03898  -0.86965 F \n",
    "15112 99999915112 173.68275  45.53918 F\n",
    "29166 99999929166 355.72871   1.65753 F\n",
    "29390 99999929390  10.92245 -42.34763 U\n",
    "29643 99999929643  53.06506 -29.51007 U\n",
    "43201 99999943201 217.15856  57.75332 U\n",
    "03858 99999903858 135.96049  52.35710 F\n",
    "04028 99999904028 189.00277  62.49956 F\n",
    "07940 99999907940   6.43415  17.08139 F\n",
    "09709 99999909709 164.46273  -3.76613 U\n",
    "13533 99999913533  16.65372  45.38989 F\n",
    "13656 99999913656  24.76303 -17.94913 F\n",
    "16497 99999916497 219.53099  33.10083 F\n",
    "18081 99999918081 358.46939 -10.54433 F\n",
    "18380 99999918380   7.70821 -71.84528 F\n",
    "18753 99999918753  51.26207 -17.21407 F\n",
    "23505 99999923505  13.11492   0.09855 F\n",
    "26488 99999926488 212.80185   6.83090 F\n",
    "28619 99999928619 326.15289   0.70565 F\n",
    "30122 99999930122  53.00912 -27.04739 F\n",
    "30668 99999930668 133.73297   2.57409 F\n",
    "31274 99999931274 120.70829  36.45803 F\n",
    "36705 99999936705 146.54298  15.54300 F\n",
    "40521 99999940521  29.19705  -0.35408 F\n",
    "40930 99999940930  70.63517  18.43965 F\n",
    "42499 99999942499 165.10157  12.73207 F\n",
    "43238 99999943238 243.41123  54.66503 F\n",
    "43828 99999943828 338.34099 -60.93026 F\n",
    "44684 99999944684 308.13204   7.97132 F\n",
    "45629 99999945629 160.64052  76.02885 F\"\"\"\n",
    "\n",
    "gfcat_adjusted = pd.DataFrame(\n",
    "    {'eclipse':np.array(np.array([t.split() for t in mpt.split('\\n')])[:,0],dtype='int'),\n",
    "     'obj_id':np.array(np.array([t.split() for t in mpt.split('\\n')])[:,1],dtype='int64'),\n",
    "     'ra':np.array(np.array([t.split() for t in mpt.split('\\n')])[:,2],dtype='float'),\n",
    "     'dec':np.array(np.array([t.split() for t in mpt.split('\\n')])[:,3],dtype='float'),\n",
    "     'morphology':np.array(np.array([t.split() for t in mpt.split('\\n')])[:,4],dtype='str')})"
   ]
  },
  {
   "cell_type": "code",
   "execution_count": 9,
   "id": "27ffd130",
   "metadata": {},
   "outputs": [],
   "source": [
    "# compile both targeted and untargeted sources\n",
    "#gfcat_draft = pd.concat([make_variable_target_table(gfcat_corpus['obj_id'].values),\n",
    "#                         make_variable_target_table(gfcat_targeted['obj_id'].values),\n",
    "#                         make_variable_target_table(gfcat_fuv_matched['obj_id'].values),\n",
    "#                         gfcat_adjusted])\n",
    "#print(len(gfcat_draft))"
   ]
  },
  {
   "cell_type": "code",
   "execution_count": 31,
   "id": "4300a517",
   "metadata": {},
   "outputs": [
    {
     "data": {
      "text/html": [
       "<div>\n",
       "<style scoped>\n",
       "    .dataframe tbody tr th:only-of-type {\n",
       "        vertical-align: middle;\n",
       "    }\n",
       "\n",
       "    .dataframe tbody tr th {\n",
       "        vertical-align: top;\n",
       "    }\n",
       "\n",
       "    .dataframe thead th {\n",
       "        text-align: right;\n",
       "    }\n",
       "</style>\n",
       "<table border=\"1\" class=\"dataframe\">\n",
       "  <thead>\n",
       "    <tr style=\"text-align: right;\">\n",
       "      <th></th>\n",
       "      <th>eclipse</th>\n",
       "      <th>obj_id</th>\n",
       "      <th>ra</th>\n",
       "      <th>dec</th>\n",
       "      <th>morphology</th>\n",
       "    </tr>\n",
       "  </thead>\n",
       "  <tbody>\n",
       "    <tr>\n",
       "      <th>823</th>\n",
       "      <td>15133</td>\n",
       "      <td>9.999992e+10</td>\n",
       "      <td>204.17073</td>\n",
       "      <td>51.91460</td>\n",
       "      <td>E</td>\n",
       "    </tr>\n",
       "    <tr>\n",
       "      <th>824</th>\n",
       "      <td>4276</td>\n",
       "      <td>9.999990e+10</td>\n",
       "      <td>149.84515</td>\n",
       "      <td>2.96435</td>\n",
       "      <td>F</td>\n",
       "    </tr>\n",
       "    <tr>\n",
       "      <th>825</th>\n",
       "      <td>24237</td>\n",
       "      <td>9.999992e+10</td>\n",
       "      <td>358.90042</td>\n",
       "      <td>0.69566</td>\n",
       "      <td>F</td>\n",
       "    </tr>\n",
       "    <tr>\n",
       "      <th>826</th>\n",
       "      <td>21750</td>\n",
       "      <td>9.999992e+10</td>\n",
       "      <td>202.73628</td>\n",
       "      <td>65.71721</td>\n",
       "      <td>U</td>\n",
       "    </tr>\n",
       "    <tr>\n",
       "      <th>827</th>\n",
       "      <td>9939</td>\n",
       "      <td>9.999991e+10</td>\n",
       "      <td>215.08597</td>\n",
       "      <td>52.26377</td>\n",
       "      <td>E</td>\n",
       "    </tr>\n",
       "    <tr>\n",
       "      <th>828</th>\n",
       "      <td>7471</td>\n",
       "      <td>9.999991e+10</td>\n",
       "      <td>346.70626</td>\n",
       "      <td>-0.61413</td>\n",
       "      <td>T</td>\n",
       "    </tr>\n",
       "    <tr>\n",
       "      <th>829</th>\n",
       "      <td>7545</td>\n",
       "      <td>9.999991e+10</td>\n",
       "      <td>21.95165</td>\n",
       "      <td>-28.89494</td>\n",
       "      <td>F</td>\n",
       "    </tr>\n",
       "    <tr>\n",
       "      <th>830</th>\n",
       "      <td>30574</td>\n",
       "      <td>9.999993e+10</td>\n",
       "      <td>127.88794</td>\n",
       "      <td>32.46371</td>\n",
       "      <td>U</td>\n",
       "    </tr>\n",
       "    <tr>\n",
       "      <th>831</th>\n",
       "      <td>28449</td>\n",
       "      <td>9.999993e+10</td>\n",
       "      <td>351.76689</td>\n",
       "      <td>7.36030</td>\n",
       "      <td>T</td>\n",
       "    </tr>\n",
       "    <tr>\n",
       "      <th>832</th>\n",
       "      <td>15251</td>\n",
       "      <td>9.999992e+10</td>\n",
       "      <td>194.85851</td>\n",
       "      <td>27.35632</td>\n",
       "      <td>U</td>\n",
       "    </tr>\n",
       "    <tr>\n",
       "      <th>833</th>\n",
       "      <td>23279</td>\n",
       "      <td>9.999992e+10</td>\n",
       "      <td>4.65498</td>\n",
       "      <td>16.34135</td>\n",
       "      <td>F</td>\n",
       "    </tr>\n",
       "    <tr>\n",
       "      <th>834</th>\n",
       "      <td>38424</td>\n",
       "      <td>9.999994e+10</td>\n",
       "      <td>269.38236</td>\n",
       "      <td>-68.54370</td>\n",
       "      <td>U</td>\n",
       "    </tr>\n",
       "  </tbody>\n",
       "</table>\n",
       "</div>"
      ],
      "text/plain": [
       "     eclipse        obj_id         ra       dec morphology\n",
       "823    15133  9.999992e+10  204.17073  51.91460          E\n",
       "824     4276  9.999990e+10  149.84515   2.96435          F\n",
       "825    24237  9.999992e+10  358.90042   0.69566          F\n",
       "826    21750  9.999992e+10  202.73628  65.71721          U\n",
       "827     9939  9.999991e+10  215.08597  52.26377          E\n",
       "828     7471  9.999991e+10  346.70626  -0.61413          T\n",
       "829     7545  9.999991e+10   21.95165 -28.89494          F\n",
       "830    30574  9.999993e+10  127.88794  32.46371          U\n",
       "831    28449  9.999993e+10  351.76689   7.36030          T\n",
       "832    15251  9.999992e+10  194.85851  27.35632          U\n",
       "833    23279  9.999992e+10    4.65498  16.34135          F\n",
       "834    38424  9.999994e+10  269.38236 -68.54370          U"
      ]
     },
     "execution_count": 31,
     "metadata": {},
     "output_type": "execute_result"
    }
   ],
   "source": [
    "gfcat_old_finds = pd.read_csv('missing_gfcat_visits_221217.csv',index_col=None)\n",
    "gfcat_old_finds.iloc[-12:]"
   ]
  },
  {
   "cell_type": "code",
   "execution_count": 32,
   "id": "234fadd0",
   "metadata": {},
   "outputs": [
    {
     "data": {
      "text/html": [
       "<pre style=\"white-space:pre;overflow-x:auto;line-height:normal;font-family:Menlo,'DejaVu Sans Mono',consolas,'Courier New',monospace\">Starting with <span style=\"color: #008080; text-decoration-color: #008080; font-weight: bold\">1842</span> identified variable source-visits\n",
       "</pre>\n"
      ],
      "text/plain": [
       "Starting with \u001b[1;36m1842\u001b[0m identified variable source-visits\n"
      ]
     },
     "metadata": {},
     "output_type": "display_data"
    }
   ],
   "source": [
    "gfcat_combined = pd.concat([gfcat_corpus,gfcat_targeted,gfcat_adjusted,gfcat_fuv_matched,\n",
    "                            gfcat_old_finds.iloc[-12:]]) # just the repointed ones\n",
    "print(f\"Starting with {len(gfcat_combined)} identified variable source-visits\")\n",
    "gfcat_combined.to_csv('/Users/cm/Downloads/temp.csv')"
   ]
  },
  {
   "cell_type": "code",
   "execution_count": 33,
   "id": "9ed84174",
   "metadata": {},
   "outputs": [
    {
     "data": {
      "text/html": [
       "<div>\n",
       "<style scoped>\n",
       "    .dataframe tbody tr th:only-of-type {\n",
       "        vertical-align: middle;\n",
       "    }\n",
       "\n",
       "    .dataframe tbody tr th {\n",
       "        vertical-align: top;\n",
       "    }\n",
       "\n",
       "    .dataframe thead th {\n",
       "        text-align: right;\n",
       "    }\n",
       "</style>\n",
       "<table border=\"1\" class=\"dataframe\">\n",
       "  <thead>\n",
       "    <tr style=\"text-align: right;\">\n",
       "      <th></th>\n",
       "      <th>index</th>\n",
       "      <th>eclipse</th>\n",
       "      <th>obj_id</th>\n",
       "      <th>ra</th>\n",
       "      <th>dec</th>\n",
       "      <th>morphology</th>\n",
       "    </tr>\n",
       "  </thead>\n",
       "  <tbody>\n",
       "    <tr>\n",
       "      <th>0</th>\n",
       "      <td>0</td>\n",
       "      <td>26808</td>\n",
       "      <td>2.072681e+07</td>\n",
       "      <td>185.750875</td>\n",
       "      <td>29.544538</td>\n",
       "      <td>T</td>\n",
       "    </tr>\n",
       "    <tr>\n",
       "      <th>1</th>\n",
       "      <td>0</td>\n",
       "      <td>21378</td>\n",
       "      <td>3.912138e+07</td>\n",
       "      <td>204.877337</td>\n",
       "      <td>30.654018</td>\n",
       "      <td>U</td>\n",
       "    </tr>\n",
       "    <tr>\n",
       "      <th>2</th>\n",
       "      <td>0</td>\n",
       "      <td>26045</td>\n",
       "      <td>4.102604e+07</td>\n",
       "      <td>149.468637</td>\n",
       "      <td>2.338955</td>\n",
       "      <td>U</td>\n",
       "    </tr>\n",
       "    <tr>\n",
       "      <th>3</th>\n",
       "      <td>0</td>\n",
       "      <td>23102</td>\n",
       "      <td>4.272310e+07</td>\n",
       "      <td>257.253864</td>\n",
       "      <td>58.873073</td>\n",
       "      <td>F</td>\n",
       "    </tr>\n",
       "    <tr>\n",
       "      <th>4</th>\n",
       "      <td>0</td>\n",
       "      <td>17070</td>\n",
       "      <td>4.461707e+07</td>\n",
       "      <td>247.108147</td>\n",
       "      <td>40.861124</td>\n",
       "      <td>F</td>\n",
       "    </tr>\n",
       "    <tr>\n",
       "      <th>...</th>\n",
       "      <td>...</td>\n",
       "      <td>...</td>\n",
       "      <td>...</td>\n",
       "      <td>...</td>\n",
       "      <td>...</td>\n",
       "      <td>...</td>\n",
       "    </tr>\n",
       "    <tr>\n",
       "      <th>1541</th>\n",
       "      <td>5</td>\n",
       "      <td>43201</td>\n",
       "      <td>9.999994e+10</td>\n",
       "      <td>217.158560</td>\n",
       "      <td>57.753320</td>\n",
       "      <td>U</td>\n",
       "    </tr>\n",
       "    <tr>\n",
       "      <th>1542</th>\n",
       "      <td>26</td>\n",
       "      <td>43238</td>\n",
       "      <td>9.999994e+10</td>\n",
       "      <td>243.411230</td>\n",
       "      <td>54.665030</td>\n",
       "      <td>F</td>\n",
       "    </tr>\n",
       "    <tr>\n",
       "      <th>1543</th>\n",
       "      <td>27</td>\n",
       "      <td>43828</td>\n",
       "      <td>9.999994e+10</td>\n",
       "      <td>338.340990</td>\n",
       "      <td>-60.930260</td>\n",
       "      <td>F</td>\n",
       "    </tr>\n",
       "    <tr>\n",
       "      <th>1544</th>\n",
       "      <td>28</td>\n",
       "      <td>44684</td>\n",
       "      <td>9.999994e+10</td>\n",
       "      <td>308.132040</td>\n",
       "      <td>7.971320</td>\n",
       "      <td>F</td>\n",
       "    </tr>\n",
       "    <tr>\n",
       "      <th>1545</th>\n",
       "      <td>29</td>\n",
       "      <td>45629</td>\n",
       "      <td>9.999995e+10</td>\n",
       "      <td>160.640520</td>\n",
       "      <td>76.028850</td>\n",
       "      <td>F</td>\n",
       "    </tr>\n",
       "  </tbody>\n",
       "</table>\n",
       "<p>1546 rows × 6 columns</p>\n",
       "</div>"
      ],
      "text/plain": [
       "      index  eclipse        obj_id          ra        dec morphology\n",
       "0         0    26808  2.072681e+07  185.750875  29.544538          T\n",
       "1         0    21378  3.912138e+07  204.877337  30.654018          U\n",
       "2         0    26045  4.102604e+07  149.468637   2.338955          U\n",
       "3         0    23102  4.272310e+07  257.253864  58.873073          F\n",
       "4         0    17070  4.461707e+07  247.108147  40.861124          F\n",
       "...     ...      ...           ...         ...        ...        ...\n",
       "1541      5    43201  9.999994e+10  217.158560  57.753320          U\n",
       "1542     26    43238  9.999994e+10  243.411230  54.665030          F\n",
       "1543     27    43828  9.999994e+10  338.340990 -60.930260          F\n",
       "1544     28    44684  9.999994e+10  308.132040   7.971320          F\n",
       "1545     29    45629  9.999995e+10  160.640520  76.028850          F\n",
       "\n",
       "[1546 rows x 6 columns]"
      ]
     },
     "execution_count": 33,
     "metadata": {},
     "output_type": "execute_result"
    }
   ],
   "source": [
    "un,ix=np.unique(gfcat_combined['obj_id'],return_index=True)\n",
    "gfcat_visits = gfcat_combined.iloc[ix].reset_index()\n",
    "gfcat_visits"
   ]
  },
  {
   "cell_type": "code",
   "execution_count": 40,
   "id": "a2b094cc",
   "metadata": {
    "scrolled": false
   },
   "outputs": [],
   "source": [
    "for e in np.unique(gfcat_combined.iloc[ix]['eclipse']):\n",
    "    visits = gfcat_visits[gfcat_visits['eclipse']==e]\n",
    "    # the following judgements to drop were made during manual reviews\n",
    "    #if e in [1754,46775,2101,3094,4274,6042,6079,6435,6536,6745,\n",
    "    #         7261,7315,7471,7541,8042,8226,8634,8645,8839,8845,9055,\n",
    "    #         9427,9461,9756,9939,1038,10678,10726,14098,14102,15731,\n",
    "    #         15883,16508,16530,16561,16642,16853,16940,17099,17126,\n",
    "    #         17168,17228,17264,18124,18897,18905,18984,19013,19139,\n",
    "    #         19579,19591,19618,21232,22111,22598,23828,26770,26808,\n",
    "    #         27753,28248,28449,28445,28483,28638,28648,29072,29105,\n",
    "    #         29126,29127,29166,29184,29643,30520,30521,30668,31178,\n",
    "    #         31334,32012,32260,32294,32986,33020,33820,33994,33998,]:\n",
    "    #    gfcat_visits.drop(visits.index[:],inplace=True)\n",
    "    #if e in [7601,18674,19643,]:\n",
    "    #    gfcat_visits.drop(visits.index[1],inplace=True)\n",
    "    #if e in [16121,16654,16848,18620,24845]:\n",
    "    #    gfcat_visits.drop(visits.index[0],inplace=True)\n",
    "    #if e in [23279]:\n",
    "    #    gfcat_visits.drop(visits.index[1:],inplace=True)\n",
    "    if len(visits)==2:\n",
    "        d = angularSeparation(visits['ra'].values.mean(),\n",
    "                              visits['dec'].values.mean(),\n",
    "                              visits['ra'].values,visits['dec'].values)\n",
    "        if e==4276: # repointed and then both bands were very non-linear\n",
    "            gfcat_visits.drop(visits.index[:],inplace=True)\n",
    "        if e==7784:\n",
    "            gfcat_visits.drop(visits.index[0],inplace=True)\n",
    "        if e==21750: # drop the repointed one\n",
    "            gfcat_visits.drop(visits.index[1],inplace=True)\n",
    "        if e==27109:\n",
    "            pass # This is an actual binary system in which both sources are resolvable and flare!\n",
    "        if e==46828: # keep the better one\n",
    "            gfcat_visits.drop(visits.index[0],inplace=True)\n",
    "        if all(d<12.5/60/60):\n",
    "            adj_test = [obj_id.startswith('999999') for obj_id in visits['obj_id'].astype('str').values]\n",
    "            if any(adj_test):\n",
    "                # drop the non-adjusted one, which will always be the first one by index because\n",
    "                # of how we constructed the table => ugly shortcut; don't be like me\n",
    "                gfcat_visits.drop(visits.index[0],inplace=True)\n",
    "            elif e==9625:\n",
    "                gfcat_visits.drop(visits.index[0],inplace=True)\n",
    "            elif e==19732:\n",
    "                gfcat_visits.drop(visits.index[0],inplace=True)\n",
    "            elif e==22274:\n",
    "                gfcat_visits.drop(visits.index[0],inplace=True)\n",
    "            elif e==27109:\n",
    "                pass # two flaring stars in the same visit right next to each other!\n",
    "            elif e==35599:\n",
    "                gfcat_visits.drop(visits.index[1],inplace=True)\n",
    "            else:\n",
    "                print(visits)\n",
    "                #raise\n",
    "# This results in 5 probably duplicates. I'm going to run these all the way through QA plot generation\n",
    "# and then screen them manually. There are probably also other sources with unique obj_id that are basically\n",
    "# the same source, and those will also be obvious during QA and I can filter them as well.\n",
    "\n",
    "# Now add back the variable sources found in previous iterations of the project for completeness\n",
    "gfcat_visits = pd.concat([gfcat_visits,gfcat_old_finds.iloc[:-12]])"
   ]
  },
  {
   "cell_type": "code",
   "execution_count": 41,
   "id": "aaa620e3",
   "metadata": {},
   "outputs": [
    {
     "data": {
      "text/html": [
       "<div>\n",
       "<style scoped>\n",
       "    .dataframe tbody tr th:only-of-type {\n",
       "        vertical-align: middle;\n",
       "    }\n",
       "\n",
       "    .dataframe tbody tr th {\n",
       "        vertical-align: top;\n",
       "    }\n",
       "\n",
       "    .dataframe thead th {\n",
       "        text-align: right;\n",
       "    }\n",
       "</style>\n",
       "<table border=\"1\" class=\"dataframe\">\n",
       "  <thead>\n",
       "    <tr style=\"text-align: right;\">\n",
       "      <th></th>\n",
       "      <th>index</th>\n",
       "      <th>eclipse</th>\n",
       "      <th>obj_id</th>\n",
       "      <th>ra</th>\n",
       "      <th>dec</th>\n",
       "      <th>morphology</th>\n",
       "    </tr>\n",
       "  </thead>\n",
       "  <tbody>\n",
       "    <tr>\n",
       "      <th>0</th>\n",
       "      <td>0.0</td>\n",
       "      <td>26808</td>\n",
       "      <td>20726808.0</td>\n",
       "      <td>185.750875</td>\n",
       "      <td>29.544538</td>\n",
       "      <td>T</td>\n",
       "    </tr>\n",
       "    <tr>\n",
       "      <th>1</th>\n",
       "      <td>0.0</td>\n",
       "      <td>21378</td>\n",
       "      <td>39121378.0</td>\n",
       "      <td>204.877337</td>\n",
       "      <td>30.654018</td>\n",
       "      <td>U</td>\n",
       "    </tr>\n",
       "    <tr>\n",
       "      <th>2</th>\n",
       "      <td>0.0</td>\n",
       "      <td>26045</td>\n",
       "      <td>41026045.0</td>\n",
       "      <td>149.468637</td>\n",
       "      <td>2.338955</td>\n",
       "      <td>U</td>\n",
       "    </tr>\n",
       "    <tr>\n",
       "      <th>3</th>\n",
       "      <td>0.0</td>\n",
       "      <td>23102</td>\n",
       "      <td>42723102.0</td>\n",
       "      <td>257.253864</td>\n",
       "      <td>58.873073</td>\n",
       "      <td>F</td>\n",
       "    </tr>\n",
       "    <tr>\n",
       "      <th>4</th>\n",
       "      <td>0.0</td>\n",
       "      <td>17070</td>\n",
       "      <td>44617070.0</td>\n",
       "      <td>247.108147</td>\n",
       "      <td>40.861124</td>\n",
       "      <td>F</td>\n",
       "    </tr>\n",
       "    <tr>\n",
       "      <th>...</th>\n",
       "      <td>...</td>\n",
       "      <td>...</td>\n",
       "      <td>...</td>\n",
       "      <td>...</td>\n",
       "      <td>...</td>\n",
       "      <td>...</td>\n",
       "    </tr>\n",
       "    <tr>\n",
       "      <th>818</th>\n",
       "      <td>NaN</td>\n",
       "      <td>46807</td>\n",
       "      <td>NaN</td>\n",
       "      <td>183.176317</td>\n",
       "      <td>-26.926904</td>\n",
       "      <td>U</td>\n",
       "    </tr>\n",
       "    <tr>\n",
       "      <th>819</th>\n",
       "      <td>NaN</td>\n",
       "      <td>46818</td>\n",
       "      <td>NaN</td>\n",
       "      <td>184.069175</td>\n",
       "      <td>-30.364380</td>\n",
       "      <td>U</td>\n",
       "    </tr>\n",
       "    <tr>\n",
       "      <th>820</th>\n",
       "      <td>NaN</td>\n",
       "      <td>46828</td>\n",
       "      <td>NaN</td>\n",
       "      <td>183.710681</td>\n",
       "      <td>-32.431776</td>\n",
       "      <td>F</td>\n",
       "    </tr>\n",
       "    <tr>\n",
       "      <th>821</th>\n",
       "      <td>NaN</td>\n",
       "      <td>46828</td>\n",
       "      <td>NaN</td>\n",
       "      <td>183.706376</td>\n",
       "      <td>-32.431746</td>\n",
       "      <td>F</td>\n",
       "    </tr>\n",
       "    <tr>\n",
       "      <th>822</th>\n",
       "      <td>NaN</td>\n",
       "      <td>46832</td>\n",
       "      <td>NaN</td>\n",
       "      <td>184.133959</td>\n",
       "      <td>-33.856107</td>\n",
       "      <td>U</td>\n",
       "    </tr>\n",
       "  </tbody>\n",
       "</table>\n",
       "<p>2353 rows × 6 columns</p>\n",
       "</div>"
      ],
      "text/plain": [
       "     index  eclipse      obj_id          ra        dec morphology\n",
       "0      0.0    26808  20726808.0  185.750875  29.544538          T\n",
       "1      0.0    21378  39121378.0  204.877337  30.654018          U\n",
       "2      0.0    26045  41026045.0  149.468637   2.338955          U\n",
       "3      0.0    23102  42723102.0  257.253864  58.873073          F\n",
       "4      0.0    17070  44617070.0  247.108147  40.861124          F\n",
       "..     ...      ...         ...         ...        ...        ...\n",
       "818    NaN    46807         NaN  183.176317 -26.926904          U\n",
       "819    NaN    46818         NaN  184.069175 -30.364380          U\n",
       "820    NaN    46828         NaN  183.710681 -32.431776          F\n",
       "821    NaN    46828         NaN  183.706376 -32.431746          F\n",
       "822    NaN    46832         NaN  184.133959 -33.856107          U\n",
       "\n",
       "[2353 rows x 6 columns]"
      ]
     },
     "execution_count": 41,
     "metadata": {},
     "output_type": "execute_result"
    }
   ],
   "source": [
    "gfcat_visits"
   ]
  },
  {
   "cell_type": "code",
   "execution_count": 42,
   "id": "429aac5c",
   "metadata": {},
   "outputs": [],
   "source": [
    "gfcat_visits[['eclipse','obj_id','ra','dec','morphology']].to_csv(\n",
    "    'gfcat_visit_table_positions.csv',index=None)"
   ]
  },
  {
   "cell_type": "code",
   "execution_count": 67,
   "id": "312e8bff",
   "metadata": {},
   "outputs": [
    {
     "data": {
      "text/html": [
       "<pre style=\"white-space:pre;overflow-x:auto;line-height:normal;font-family:Menlo,'DejaVu Sans Mono',consolas,'Courier New',monospace\"><span style=\"font-weight: bold\">[</span><span style=\"color: #008080; text-decoration-color: #008080; font-weight: bold\">0.00379558</span> <span style=\"color: #008080; text-decoration-color: #008080; font-weight: bold\">0.00379559</span><span style=\"font-weight: bold\">]</span>\n",
       "</pre>\n"
      ],
      "text/plain": [
       "\u001b[1m[\u001b[0m\u001b[1;36m0.00379558\u001b[0m \u001b[1;36m0.00379559\u001b[0m\u001b[1m]\u001b[0m\n"
      ]
     },
     "metadata": {},
     "output_type": "display_data"
    },
    {
     "data": {
      "text/html": [
       "<pre style=\"white-space:pre;overflow-x:auto;line-height:normal;font-family:Menlo,'DejaVu Sans Mono',consolas,'Courier New',monospace\">      index  eclipse        obj_id          ra       dec morphology\n",
       "<span style=\"color: #008080; text-decoration-color: #008080; font-weight: bold\">1003</span>    <span style=\"color: #008080; text-decoration-color: #008080; font-weight: bold\">0.0</span>     <span style=\"color: #008080; text-decoration-color: #008080; font-weight: bold\">7784</span>  <span style=\"color: #008080; text-decoration-color: #008080; font-weight: bold\">1.243108e+09</span>  <span style=\"color: #008080; text-decoration-color: #008080; font-weight: bold\">352.933228</span> <span style=\"color: #008080; text-decoration-color: #008080; font-weight: bold\">-2.750752</span>          F\n",
       "<span style=\"color: #008080; text-decoration-color: #008080; font-weight: bold\">1008</span>    <span style=\"color: #008080; text-decoration-color: #008080; font-weight: bold\">0.0</span>     <span style=\"color: #008080; text-decoration-color: #008080; font-weight: bold\">7784</span>  <span style=\"color: #008080; text-decoration-color: #008080; font-weight: bold\">1.248908e+09</span>  <span style=\"color: #008080; text-decoration-color: #008080; font-weight: bold\">352.937941</span> <span style=\"color: #008080; text-decoration-color: #008080; font-weight: bold\">-2.744797</span>          F\n",
       "</pre>\n"
      ],
      "text/plain": [
       "      index  eclipse        obj_id          ra       dec morphology\n",
       "\u001b[1;36m1003\u001b[0m    \u001b[1;36m0.0\u001b[0m     \u001b[1;36m7784\u001b[0m  \u001b[1;36m1.243108e+09\u001b[0m  \u001b[1;36m352.933228\u001b[0m \u001b[1;36m-2.750752\u001b[0m          F\n",
       "\u001b[1;36m1008\u001b[0m    \u001b[1;36m0.0\u001b[0m     \u001b[1;36m7784\u001b[0m  \u001b[1;36m1.248908e+09\u001b[0m  \u001b[1;36m352.937941\u001b[0m \u001b[1;36m-2.744797\u001b[0m          F\n"
      ]
     },
     "metadata": {},
     "output_type": "display_data"
    },
    {
     "data": {
      "text/html": [
       "<pre style=\"white-space:pre;overflow-x:auto;line-height:normal;font-family:Menlo,'DejaVu Sans Mono',consolas,'Courier New',monospace\">\n",
       "</pre>\n"
      ],
      "text/plain": [
       "\n"
      ]
     },
     "metadata": {},
     "output_type": "display_data"
    },
    {
     "data": {
      "text/html": [
       "<pre style=\"white-space:pre;overflow-x:auto;line-height:normal;font-family:Menlo,'DejaVu Sans Mono',consolas,'Courier New',monospace\"><span style=\"font-weight: bold\">[</span><span style=\"color: #008080; text-decoration-color: #008080; font-weight: bold\">0.00350909</span> <span style=\"color: #008080; text-decoration-color: #008080; font-weight: bold\">0.00350891</span><span style=\"font-weight: bold\">]</span>\n",
       "</pre>\n"
      ],
      "text/plain": [
       "\u001b[1m[\u001b[0m\u001b[1;36m0.00350909\u001b[0m \u001b[1;36m0.00350891\u001b[0m\u001b[1m]\u001b[0m\n"
      ]
     },
     "metadata": {},
     "output_type": "display_data"
    },
    {
     "data": {
      "text/html": [
       "<pre style=\"white-space:pre;overflow-x:auto;line-height:normal;font-family:Menlo,'DejaVu Sans Mono',consolas,'Courier New',monospace\">      index  eclipse        obj_id          ra        dec morphology\n",
       "<span style=\"color: #008080; text-decoration-color: #008080; font-weight: bold\">1338</span>    <span style=\"color: #008080; text-decoration-color: #008080; font-weight: bold\">0.0</span>    <span style=\"color: #008080; text-decoration-color: #008080; font-weight: bold\">21750</span>  <span style=\"color: #008080; text-decoration-color: #008080; font-weight: bold\">2.051922e+09</span>  <span style=\"color: #008080; text-decoration-color: #008080; font-weight: bold\">202.750646</span>  <span style=\"color: #008080; text-decoration-color: #008080; font-weight: bold\">65.713423</span>          U\n",
       "<span style=\"color: #008080; text-decoration-color: #008080; font-weight: bold\">1522</span>  <span style=\"color: #008080; text-decoration-color: #008080; font-weight: bold\">826.0</span>    <span style=\"color: #008080; text-decoration-color: #008080; font-weight: bold\">21750</span>  <span style=\"color: #008080; text-decoration-color: #008080; font-weight: bold\">9.999992e+10</span>  <span style=\"color: #008080; text-decoration-color: #008080; font-weight: bold\">202.736280</span>  <span style=\"color: #008080; text-decoration-color: #008080; font-weight: bold\">65.717210</span>          U\n",
       "</pre>\n"
      ],
      "text/plain": [
       "      index  eclipse        obj_id          ra        dec morphology\n",
       "\u001b[1;36m1338\u001b[0m    \u001b[1;36m0.0\u001b[0m    \u001b[1;36m21750\u001b[0m  \u001b[1;36m2.051922e+09\u001b[0m  \u001b[1;36m202.750646\u001b[0m  \u001b[1;36m65.713423\u001b[0m          U\n",
       "\u001b[1;36m1522\u001b[0m  \u001b[1;36m826.0\u001b[0m    \u001b[1;36m21750\u001b[0m  \u001b[1;36m9.999992e+10\u001b[0m  \u001b[1;36m202.736280\u001b[0m  \u001b[1;36m65.717210\u001b[0m          U\n"
      ]
     },
     "metadata": {},
     "output_type": "display_data"
    },
    {
     "data": {
      "text/html": [
       "<pre style=\"white-space:pre;overflow-x:auto;line-height:normal;font-family:Menlo,'DejaVu Sans Mono',consolas,'Courier New',monospace\">\n",
       "</pre>\n"
      ],
      "text/plain": [
       "\n"
      ]
     },
     "metadata": {},
     "output_type": "display_data"
    },
    {
     "data": {
      "text/html": [
       "<pre style=\"white-space:pre;overflow-x:auto;line-height:normal;font-family:Menlo,'DejaVu Sans Mono',consolas,'Courier New',monospace\"><span style=\"font-weight: bold\">[</span><span style=\"color: #008080; text-decoration-color: #008080; font-weight: bold\">0.00227928</span> <span style=\"color: #008080; text-decoration-color: #008080; font-weight: bold\">0.00227928</span><span style=\"font-weight: bold\">]</span>\n",
       "</pre>\n"
      ],
      "text/plain": [
       "\u001b[1m[\u001b[0m\u001b[1;36m0.00227928\u001b[0m \u001b[1;36m0.00227928\u001b[0m\u001b[1m]\u001b[0m\n"
      ]
     },
     "metadata": {},
     "output_type": "display_data"
    },
    {
     "data": {
      "text/html": [
       "<pre style=\"white-space:pre;overflow-x:auto;line-height:normal;font-family:Menlo,'DejaVu Sans Mono',consolas,'Courier New',monospace\">     index  eclipse       obj_id          ra        dec morphology\n",
       "<span style=\"color: #008080; text-decoration-color: #008080; font-weight: bold\">644</span>    <span style=\"color: #008080; text-decoration-color: #008080; font-weight: bold\">0.0</span>    <span style=\"color: #008080; text-decoration-color: #008080; font-weight: bold\">27109</span>  <span style=\"color: #008080; text-decoration-color: #008080; font-weight: bold\">814227109.0</span>  <span style=\"color: #008080; text-decoration-color: #008080; font-weight: bold\">259.970842</span>  <span style=\"color: #008080; text-decoration-color: #008080; font-weight: bold\">26.501225</span>          F\n",
       "<span style=\"color: #008080; text-decoration-color: #008080; font-weight: bold\">663</span>    <span style=\"color: #008080; text-decoration-color: #008080; font-weight: bold\">0.0</span>    <span style=\"color: #008080; text-decoration-color: #008080; font-weight: bold\">27109</span>  <span style=\"color: #008080; text-decoration-color: #008080; font-weight: bold\">825627109.0</span>  <span style=\"color: #008080; text-decoration-color: #008080; font-weight: bold\">259.975935</span>  <span style=\"color: #008080; text-decoration-color: #008080; font-weight: bold\">26.501314</span>          F\n",
       "</pre>\n"
      ],
      "text/plain": [
       "     index  eclipse       obj_id          ra        dec morphology\n",
       "\u001b[1;36m644\u001b[0m    \u001b[1;36m0.0\u001b[0m    \u001b[1;36m27109\u001b[0m  \u001b[1;36m814227109.0\u001b[0m  \u001b[1;36m259.970842\u001b[0m  \u001b[1;36m26.501225\u001b[0m          F\n",
       "\u001b[1;36m663\u001b[0m    \u001b[1;36m0.0\u001b[0m    \u001b[1;36m27109\u001b[0m  \u001b[1;36m825627109.0\u001b[0m  \u001b[1;36m259.975935\u001b[0m  \u001b[1;36m26.501314\u001b[0m          F\n"
      ]
     },
     "metadata": {},
     "output_type": "display_data"
    },
    {
     "data": {
      "text/html": [
       "<pre style=\"white-space:pre;overflow-x:auto;line-height:normal;font-family:Menlo,'DejaVu Sans Mono',consolas,'Courier New',monospace\">\n",
       "</pre>\n"
      ],
      "text/plain": [
       "\n"
      ]
     },
     "metadata": {},
     "output_type": "display_data"
    },
    {
     "data": {
      "text/html": [
       "<pre style=\"white-space:pre;overflow-x:auto;line-height:normal;font-family:Menlo,'DejaVu Sans Mono',consolas,'Courier New',monospace\"><span style=\"font-weight: bold\">[</span><span style=\"color: #008080; text-decoration-color: #008080; font-weight: bold\">0.00181668</span> <span style=\"color: #008080; text-decoration-color: #008080; font-weight: bold\">0.00181668</span><span style=\"font-weight: bold\">]</span>\n",
       "</pre>\n"
      ],
      "text/plain": [
       "\u001b[1m[\u001b[0m\u001b[1;36m0.00181668\u001b[0m \u001b[1;36m0.00181668\u001b[0m\u001b[1m]\u001b[0m\n"
      ]
     },
     "metadata": {},
     "output_type": "display_data"
    },
    {
     "data": {
      "text/html": [
       "<pre style=\"white-space:pre;overflow-x:auto;line-height:normal;font-family:Menlo,'DejaVu Sans Mono',consolas,'Courier New',monospace\">     index  eclipse  obj_id          ra        dec morphology\n",
       "<span style=\"color: #008080; text-decoration-color: #008080; font-weight: bold\">820</span>    NaN    <span style=\"color: #008080; text-decoration-color: #008080; font-weight: bold\">46828</span>     NaN  <span style=\"color: #008080; text-decoration-color: #008080; font-weight: bold\">183.710681</span> <span style=\"color: #008080; text-decoration-color: #008080; font-weight: bold\">-32.431776</span>          F\n",
       "<span style=\"color: #008080; text-decoration-color: #008080; font-weight: bold\">821</span>    NaN    <span style=\"color: #008080; text-decoration-color: #008080; font-weight: bold\">46828</span>     NaN  <span style=\"color: #008080; text-decoration-color: #008080; font-weight: bold\">183.706376</span> <span style=\"color: #008080; text-decoration-color: #008080; font-weight: bold\">-32.431746</span>          F\n",
       "</pre>\n"
      ],
      "text/plain": [
       "     index  eclipse  obj_id          ra        dec morphology\n",
       "\u001b[1;36m820\u001b[0m    NaN    \u001b[1;36m46828\u001b[0m     NaN  \u001b[1;36m183.710681\u001b[0m \u001b[1;36m-32.431776\u001b[0m          F\n",
       "\u001b[1;36m821\u001b[0m    NaN    \u001b[1;36m46828\u001b[0m     NaN  \u001b[1;36m183.706376\u001b[0m \u001b[1;36m-32.431746\u001b[0m          F\n"
      ]
     },
     "metadata": {},
     "output_type": "display_data"
    },
    {
     "data": {
      "text/html": [
       "<pre style=\"white-space:pre;overflow-x:auto;line-height:normal;font-family:Menlo,'DejaVu Sans Mono',consolas,'Courier New',monospace\">\n",
       "</pre>\n"
      ],
      "text/plain": [
       "\n"
      ]
     },
     "metadata": {},
     "output_type": "display_data"
    }
   ],
   "source": [
    "for e in np.unique(gfcat_visits['eclipse']):\n",
    "    f = gfcat_visits[gfcat_visits['eclipse']==e]\n",
    "    if len(f)>1:\n",
    "        d = angularSeparation(f['ra'].values.mean(),f['dec'].mean(),\n",
    "                              f['ra'].values,f['dec'].values)\n",
    "        if any(d<17.5/60/60):\n",
    "            print(d)\n",
    "            print(f)\n",
    "            print()"
   ]
  },
  {
   "cell_type": "code",
   "execution_count": null,
   "id": "3d0e6b61",
   "metadata": {},
   "outputs": [],
   "source": []
  }
 ],
 "metadata": {
  "kernelspec": {
   "display_name": "Python 3 (ipykernel)",
   "language": "python",
   "name": "python3"
  },
  "language_info": {
   "codemirror_mode": {
    "name": "ipython",
    "version": 3
   },
   "file_extension": ".py",
   "mimetype": "text/x-python",
   "name": "python",
   "nbconvert_exporter": "python",
   "pygments_lexer": "ipython3",
   "version": "3.9.15"
  }
 },
 "nbformat": 4,
 "nbformat_minor": 5
}
