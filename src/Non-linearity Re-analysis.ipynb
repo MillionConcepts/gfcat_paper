{
 "cells": [
  {
   "cell_type": "code",
   "execution_count": null,
   "id": "2caccef6",
   "metadata": {},
   "outputs": [],
   "source": [
    "%matplotlib inline\n",
    "import matplotlib.pyplot as plt"
   ]
  },
  {
   "cell_type": "code",
   "execution_count": null,
   "id": "02141154",
   "metadata": {},
   "outputs": [],
   "source": [
    "import numpy as np\n",
    "import pyarrow.parquet as pq\n",
    "import pandas as pd\n",
    "from sklearn.cluster import DBSCAN\n",
    "from lightcurve_interface_skeleton import load_lightcurve_records\n",
    "import os\n",
    "from scipy import signal, stats\n",
    "from rich import print"
   ]
  },
  {
   "cell_type": "code",
   "execution_count": null,
   "id": "78140aff",
   "metadata": {},
   "outputs": [],
   "source": [
    "np.random.seed(19470622) # the birthdate of Bruno Latour"
   ]
  },
  {
   "cell_type": "code",
   "execution_count": null,
   "id": "7361df49",
   "metadata": {},
   "outputs": [],
   "source": [
    "header_data = pd.read_csv('../ref/mislike_image_header_table.csv')"
   ]
  },
  {
   "cell_type": "code",
   "execution_count": null,
   "id": "fe6e2722",
   "metadata": {},
   "outputs": [],
   "source": [
    "catalog_filename = '../ref/catalog_nd_daostarfinder.parquet'\n",
    "catalog_file = pq.ParquetFile(catalog_filename)\n",
    "#catalog = parquet.read_table(catalog_fn)\n",
    "#catalog_file.read_row_group(1)"
   ]
  },
  {
   "cell_type": "code",
   "execution_count": null,
   "id": "3caa082f",
   "metadata": {
    "scrolled": false
   },
   "outputs": [],
   "source": [
    "def find_bright_stars(catalog_file,header_data,n_ecl=100):\n",
    "    targets=[]\n",
    "    scrambled_ecl = np.random.choice(len(header_data),size=len(header_data),replace=False)\n",
    "    #while len(np.unique(np.array(targets)[:,0]))<n_ecl:\n",
    "    for ix in np.random.choice(len(header_data),size=n_ecl,replace=False):\n",
    "        visit = header_data.iloc[ix]\n",
    "        eclipse = int(visit['ECLIPSE'])\n",
    "        #print(eclipse)\n",
    "        if visit['EXPTIME']<1500.0:\n",
    "            continue\n",
    "        bright_stars = pq.read_table(catalog_filename,filters =\n",
    "                                     [('aperture_sum_mask_n_51_2','=',0.0),\n",
    "                                      ('aperture_sum_edge_n_51_2','=',0.0),\n",
    "                                      ('aperture_sum_n_51_2','>',50000.0),\n",
    "                                      ('eclipse','=',eclipse)]).to_pandas()\n",
    "\n",
    "        cps = np.array(bright_stars['aperture_sum_n_51_2'])/visit['EXPTIME']\n",
    "        ix = np.where(cps>100)\n",
    "        if not len(cps[ix]):\n",
    "            #print(f'No bright stars in e{str(eclipse).zfill(5)}')\n",
    "            continue\n",
    "        X = list(zip(bright_stars['xcenter'].iloc[ix].tolist(),bright_stars['ycenter'].iloc[ix].tolist()))\n",
    "        db = DBSCAN(eps=40,min_samples=1).fit(X)\n",
    "        labels=db.labels_\n",
    "        for lbl in set(labels):\n",
    "            dbix = np.where(labels==lbl)[0]\n",
    "            brightest_ix = np.argmax(cps[ix][dbix])\n",
    "            star = bright_stars.iloc[ix].iloc[dbix].iloc[brightest_ix]\n",
    "            cps_12_8,cps_51_2 = (star['aperture_sum_n_12_8']/visit['EXPTIME'],\n",
    "                                 star['aperture_sum_n_51_2']/visit['EXPTIME'])\n",
    "            if cps_12_8<=100:\n",
    "                continue\n",
    "            # a huge discrepancy between aperture sizes probably means nearby bright stars / field\n",
    "            if cps_51_2-cps_12_8 > 50:\n",
    "                continue\n",
    "            #print(eclipse,int(star['obj_id']),cps_12_8,cps_51_2,cps_51_2-cps_12_8)\n",
    "            targets+=[[eclipse,int(star['obj_id'])]]\n",
    "    return targets\n",
    "\n",
    "%time targets = find_bright_stars(catalog_file,header_data,n_ecl=1000)\n",
    "#print(targets)\n",
    "print(len(np.unique(np.array(targets)[:,0])))"
   ]
  },
  {
   "cell_type": "code",
   "execution_count": null,
   "id": "5887b613",
   "metadata": {},
   "outputs": [],
   "source": [
    "def get_lc_summary_stats(lc):\n",
    "    ad = stats.anderson(lc['cps'])  # standard test of variability\n",
    "    return {\n",
    "        'mad':np.mean(np.abs(lc['cps'] - np.mean(lc['cps']))),\n",
    "        'start_cps':np.median(lc['cps'][:5]),\n",
    "        'end_cps':np.median(lc['cps'][-6:-1]), # exclude the last bin, which is often low-expt\n",
    "        'med_std':np.median(lc['cps_err']),\n",
    "        'ad_statistic':ad.statistic,\n",
    "        'ad_critical_val':ad.critical_values[2], # 5%\n",
    "        'xcenter':lc['xcenter'],\n",
    "        'ycenter':lc['ycenter'],\n",
    "    }"
   ]
  },
  {
   "cell_type": "code",
   "execution_count": null,
   "id": "4530ac8e",
   "metadata": {},
   "outputs": [],
   "source": [
    "datadir = '/home/ubuntu/datadir'\n",
    "for eclipse in np.unique(np.array(targets)[:,0]):\n",
    "    fn = f'{datadir}/e{str(eclipse).zfill(5)}-30-photom.parquet'\n",
    "    if os.path.exists(fn):\n",
    "        continue\n",
    "    cmd = f'aws s3 cp s3://dream-pool/e{str(eclipse).zfill(5)}/e{str(eclipse).zfill(5)}-30s-photom.parquet {datadir}/.'"
   ]
  },
  {
   "cell_type": "code",
   "execution_count": null,
   "id": "a00c7e97",
   "metadata": {},
   "outputs": [],
   "source": [
    "for eclipse in np.unique(np.array(targets)[:,0]):\n",
    "    fn = f'{datadir}/e{str(eclipse).zfill(5)}-30-photom.parquet'\n",
    "    aper_radius = 51.2\n",
    "    lightcurves = load_lightcurve_records(fn, 'NUV', apersize=aper_radius)\n",
    "    \n",
    "    variables = {}\n",
    "    for lc in lightcurves:\n",
    "        if lc['obj_id'] in obj_ids:\n",
    "            variables[lc['obj_id']] = lc\n",
    "    for obj_id in obj_ids:\n",
    "        if obj_id not in variables.keys():\n",
    "            print(f'{obj_id} not found in {eclipse} {band} unflagged lightcurves')\n",
    "            \n",
    "    bright_star_table = pd.DataFrame()\n",
    "    for k in variables.keys():\n",
    "        lc = variables[k]\n",
    "        print(k)\n",
    "        plt.figure(figsize=(12,1))\n",
    "        plt.errorbar(range(len(lc['cps'])),lc['cps'],\n",
    "                     yerr=lc['cps_err'],fmt='k-')\n",
    "        plt.xticks([])\n",
    "        summary_stats = get_lc_summary_stats(lc)\n",
    "        summary_stats['obj_id']=int(k)\n",
    "        summary_stats['eclipse']=int(str(k)[-5:])\n",
    "        bright_star_table = bright_star_table.append(pd.Series(summary_stats),ignore_index=True)\n",
    "bright_star_table = bright_star_table.astype({'obj_id':int,'eclipse':int})\n",
    "print(bright_star_table)"
   ]
  },
  {
   "cell_type": "code",
   "execution_count": null,
   "id": "b55165f0",
   "metadata": {},
   "outputs": [],
   "source": [
    "pd.Series(get_lc_summary_stats(lc))"
   ]
  },
  {
   "cell_type": "code",
   "execution_count": null,
   "id": "c60c266c",
   "metadata": {},
   "outputs": [],
   "source": [
    "bright_star_table.append(pd.Series(get_lc_summary_stats(lc)),ignore_index=True)\n"
   ]
  },
  {
   "cell_type": "code",
   "execution_count": null,
   "id": "22be8742",
   "metadata": {},
   "outputs": [],
   "source": []
  }
 ],
 "metadata": {
  "kernelspec": {
   "display_name": "Python 3 (ipykernel)",
   "language": "python",
   "name": "python3"
  },
  "language_info": {
   "codemirror_mode": {
    "name": "ipython",
    "version": 3
   },
   "file_extension": ".py",
   "mimetype": "text/x-python",
   "name": "python",
   "nbconvert_exporter": "python",
   "pygments_lexer": "ipython3",
   "version": "3.9.13"
  }
 },
 "nbformat": 4,
 "nbformat_minor": 5
}
