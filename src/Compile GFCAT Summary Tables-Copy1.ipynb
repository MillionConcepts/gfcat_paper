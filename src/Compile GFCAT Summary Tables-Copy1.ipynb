{
 "cells": [
  {
   "cell_type": "code",
   "execution_count": 1,
   "id": "132cb6e5",
   "metadata": {},
   "outputs": [],
   "source": [
    "%matplotlib inline\n",
    "import matplotlib.pyplot as plt\n",
    "import numpy as np\n",
    "import pyarrow.parquet as pq\n",
    "import pandas as pd\n",
    "from rich import print\n",
    "import warnings\n",
    "import datetime\n",
    "from astropy.time import Time\n",
    "import os"
   ]
  },
  {
   "cell_type": "code",
   "execution_count": 2,
   "id": "618804d9",
   "metadata": {},
   "outputs": [],
   "source": [
    "def counts2mag(cps, band):\n",
    "    scale = 18.82 if band == 'FUV' else 20.08\n",
    "    with np.errstate(invalid='ignore'):\n",
    "        with warnings.catch_warnings():\n",
    "            warnings.simplefilter(\"ignore\")\n",
    "            mag = -2.5 * np.log10(cps) + scale\n",
    "    return mag"
   ]
  },
  {
   "cell_type": "code",
   "execution_count": 3,
   "id": "f627eeae",
   "metadata": {},
   "outputs": [],
   "source": [
    "def angularSeparation(ra1, dec1, ra2, dec2):\n",
    "\n",
    "    d2r = np.pi/180.\n",
    "    ra2deg = 1./d2r\n",
    "\n",
    "    d1 = dec1*d2r\n",
    "    d2 = dec2*d2r\n",
    "\n",
    "    r1 = ra1*d2r\n",
    "    r2 = ra2*d2r\n",
    "\n",
    "    a = np.sin((d2-d1)/2.)**2.+np.cos(d1)*np.cos(d2)*np.sin((r2-r1)/2.)**2.\n",
    "    r = 2*np.arcsin(np.sqrt(a))\n",
    "\n",
    "    return r*ra2deg"
   ]
  },
  {
   "cell_type": "code",
   "execution_count": 4,
   "id": "aa811175",
   "metadata": {},
   "outputs": [],
   "source": [
    "header_data = pd.read_csv('../ref/mislike_image_header_table.csv')\n",
    "catalog_filename = '../ref/catalog_nd_daostarfinder.parquet'\n",
    "catalog_file = pq.ParquetFile(catalog_filename)"
   ]
  },
  {
   "cell_type": "code",
   "execution_count": 5,
   "id": "ecb9527f",
   "metadata": {},
   "outputs": [],
   "source": [
    "def make_target_table(objid_list,morphology=''):\n",
    "    table = pd.DataFrame()\n",
    "    for objid in objid_list:\n",
    "        eclipse = int(str(objid)[-5:])\n",
    "        this_star = pq.read_table(catalog_filename,filters =\n",
    "                                  [('eclipse','=',eclipse),\n",
    "                                   ('obj_id','=',objid)]).to_pandas()\n",
    "        this_star['morphology'] = morphology\n",
    "        table = pd.concat([table,this_star[[\"eclipse\",\"obj_id\",\"ra\",\"dec\",\"morphology\"]]])\n",
    "    return table"
   ]
  },
  {
   "cell_type": "code",
   "execution_count": 6,
   "id": "90b12f4d",
   "metadata": {
    "scrolled": true
   },
   "outputs": [
    {
     "data": {
      "text/plain": [
       "['marginal',\n",
       " '.DS_Store',\n",
       " 'eclipse',\n",
       " 'trend',\n",
       " 'moving',\n",
       " 'artifact',\n",
       " 'unk variable',\n",
       " 'flare']"
      ]
     },
     "execution_count": 6,
     "metadata": {},
     "output_type": "execute_result"
    }
   ],
   "source": [
    "os.listdir(\"/Users/cm/GFCAT/gfcat/test_known_jpg/sorted/\")"
   ]
  },
  {
   "cell_type": "code",
   "execution_count": 7,
   "id": "86defa77",
   "metadata": {},
   "outputs": [
    {
     "data": {
      "text/html": [
       "<pre style=\"white-space:pre;overflow-x:auto;line-height:normal;font-family:Menlo,'DejaVu Sans Mono',consolas,'Courier New',monospace\"><span style=\"color: #008080; text-decoration-color: #008080; font-weight: bold\">865</span> sources found in general search\n",
       "</pre>\n"
      ],
      "text/plain": [
       "\u001b[1;36m865\u001b[0m sources found in general search\n"
      ]
     },
     "metadata": {},
     "output_type": "display_data"
    },
    {
     "data": {
      "text/html": [
       "<pre style=\"white-space:pre;overflow-x:auto;line-height:normal;font-family:Menlo,'DejaVu Sans Mono',consolas,'Courier New',monospace\"><span style=\"color: #008080; text-decoration-color: #008080; font-weight: bold\">654</span> sources found in targeted search\n",
       "</pre>\n"
      ],
      "text/plain": [
       "\u001b[1;36m654\u001b[0m sources found in targeted search\n"
      ]
     },
     "metadata": {},
     "output_type": "display_data"
    },
    {
     "data": {
      "text/html": [
       "<pre style=\"white-space:pre;overflow-x:auto;line-height:normal;font-family:Menlo,'DejaVu Sans Mono',consolas,'Courier New',monospace\"><span style=\"color: #008080; text-decoration-color: #008080; font-weight: bold\">700</span> sources found in matched FUV targets\n",
       "</pre>\n"
      ],
      "text/plain": [
       "\u001b[1;36m700\u001b[0m sources found in matched FUV targets\n"
      ]
     },
     "metadata": {},
     "output_type": "display_data"
    }
   ],
   "source": [
    "gfcat_corpus = pd.DataFrame()\n",
    "path = \"/Users/cm/GFCAT/gfcat/test_gifs/sorted/\"\n",
    "for d in ['flare','eclipse','trend','unk variable']:\n",
    "    targets = []\n",
    "    for fn in os.listdir(f\"{path}{d}/\"):\n",
    "        try:\n",
    "            targets+=[int(fn.split('-')[1])]\n",
    "        except IndexError:\n",
    "            continue\n",
    "    table = make_target_table(targets,morphology=d.upper()[0])\n",
    "    gfcat_corpus = pd.concat([gfcat_corpus,table])\n",
    "print(f'{len(gfcat_corpus)} sources found in general search')\n",
    "\n",
    "gfcat_targeted = pd.DataFrame()\n",
    "path = \"/Users/cm/GFCAT/gfcat/test_known_jpg/sorted/\"\n",
    "for d in ['flare','eclipse','trend','unk variable']:\n",
    "    targets = []\n",
    "    for fn in os.listdir(f\"{path}{d}/\"):\n",
    "        try:\n",
    "            targets+=[int(fn.split('-')[1])]\n",
    "        except IndexError:\n",
    "            continue\n",
    "    table = make_target_table(targets,morphology=d.upper()[0])\n",
    "    gfcat_targeted = pd.concat([gfcat_targeted,table])\n",
    "print(f'{len(gfcat_targeted)} sources found in targeted search')\n",
    "\n",
    "gfcat_fuv_matched = pd.DataFrame()\n",
    "path = \"/Users/cm/GFCAT/gfcat/test_fuv_matched/sorted/\"\n",
    "for d in ['flare','eclipse','trend','unk variable']:\n",
    "    targets = []\n",
    "    for fn in os.listdir(f\"{path}{d}/\"):\n",
    "        try:\n",
    "            targets+=[int(fn.split('-')[1])]\n",
    "        except IndexError:\n",
    "            continue\n",
    "    table = make_target_table(targets,morphology=d.upper()[0])\n",
    "    gfcat_fuv_matched = pd.concat([gfcat_targeted,table])\n",
    "print(f'{len(gfcat_fuv_matched)} sources found in matched FUV targets')\n",
    "\n"
   ]
  },
  {
   "cell_type": "code",
   "execution_count": 8,
   "id": "0953115b",
   "metadata": {},
   "outputs": [
    {
     "data": {
      "text/html": [
       "<div>\n",
       "<style scoped>\n",
       "    .dataframe tbody tr th:only-of-type {\n",
       "        vertical-align: middle;\n",
       "    }\n",
       "\n",
       "    .dataframe tbody tr th {\n",
       "        vertical-align: top;\n",
       "    }\n",
       "\n",
       "    .dataframe thead th {\n",
       "        text-align: right;\n",
       "    }\n",
       "</style>\n",
       "<table border=\"1\" class=\"dataframe\">\n",
       "  <thead>\n",
       "    <tr style=\"text-align: right;\">\n",
       "      <th></th>\n",
       "      <th>eclipse</th>\n",
       "      <th>obj_id</th>\n",
       "      <th>ra</th>\n",
       "      <th>dec</th>\n",
       "      <th>morphology</th>\n",
       "    </tr>\n",
       "  </thead>\n",
       "  <tbody>\n",
       "    <tr>\n",
       "      <th>0</th>\n",
       "      <td>31935</td>\n",
       "      <td>1347831935</td>\n",
       "      <td>183.566840</td>\n",
       "      <td>0.622882</td>\n",
       "      <td>F</td>\n",
       "    </tr>\n",
       "    <tr>\n",
       "      <th>0</th>\n",
       "      <td>11464</td>\n",
       "      <td>686011464</td>\n",
       "      <td>257.718107</td>\n",
       "      <td>19.153082</td>\n",
       "      <td>F</td>\n",
       "    </tr>\n",
       "    <tr>\n",
       "      <th>0</th>\n",
       "      <td>9663</td>\n",
       "      <td>1047009663</td>\n",
       "      <td>130.122882</td>\n",
       "      <td>18.401443</td>\n",
       "      <td>F</td>\n",
       "    </tr>\n",
       "    <tr>\n",
       "      <th>0</th>\n",
       "      <td>26040</td>\n",
       "      <td>1268326040</td>\n",
       "      <td>150.140276</td>\n",
       "      <td>2.094871</td>\n",
       "      <td>F</td>\n",
       "    </tr>\n",
       "    <tr>\n",
       "      <th>0</th>\n",
       "      <td>44133</td>\n",
       "      <td>689244133</td>\n",
       "      <td>9.268403</td>\n",
       "      <td>42.410153</td>\n",
       "      <td>F</td>\n",
       "    </tr>\n",
       "    <tr>\n",
       "      <th>...</th>\n",
       "      <td>...</td>\n",
       "      <td>...</td>\n",
       "      <td>...</td>\n",
       "      <td>...</td>\n",
       "      <td>...</td>\n",
       "    </tr>\n",
       "    <tr>\n",
       "      <th>0</th>\n",
       "      <td>32024</td>\n",
       "      <td>117332024</td>\n",
       "      <td>143.211018</td>\n",
       "      <td>55.720802</td>\n",
       "      <td>U</td>\n",
       "    </tr>\n",
       "    <tr>\n",
       "      <th>0</th>\n",
       "      <td>9939</td>\n",
       "      <td>974009939</td>\n",
       "      <td>215.088422</td>\n",
       "      <td>52.259155</td>\n",
       "      <td>U</td>\n",
       "    </tr>\n",
       "    <tr>\n",
       "      <th>0</th>\n",
       "      <td>32012</td>\n",
       "      <td>1019532012</td>\n",
       "      <td>181.393826</td>\n",
       "      <td>51.930249</td>\n",
       "      <td>U</td>\n",
       "    </tr>\n",
       "    <tr>\n",
       "      <th>0</th>\n",
       "      <td>31950</td>\n",
       "      <td>1212831950</td>\n",
       "      <td>183.484340</td>\n",
       "      <td>2.008758</td>\n",
       "      <td>U</td>\n",
       "    </tr>\n",
       "    <tr>\n",
       "      <th>0</th>\n",
       "      <td>15251</td>\n",
       "      <td>2821115251</td>\n",
       "      <td>194.860447</td>\n",
       "      <td>27.359928</td>\n",
       "      <td>U</td>\n",
       "    </tr>\n",
       "  </tbody>\n",
       "</table>\n",
       "<p>700 rows × 5 columns</p>\n",
       "</div>"
      ],
      "text/plain": [
       "    eclipse      obj_id          ra        dec morphology\n",
       "0     31935  1347831935  183.566840   0.622882          F\n",
       "0     11464   686011464  257.718107  19.153082          F\n",
       "0      9663  1047009663  130.122882  18.401443          F\n",
       "0     26040  1268326040  150.140276   2.094871          F\n",
       "0     44133   689244133    9.268403  42.410153          F\n",
       "..      ...         ...         ...        ...        ...\n",
       "0     32024   117332024  143.211018  55.720802          U\n",
       "0      9939   974009939  215.088422  52.259155          U\n",
       "0     32012  1019532012  181.393826  51.930249          U\n",
       "0     31950  1212831950  183.484340   2.008758          U\n",
       "0     15251  2821115251  194.860447  27.359928          U\n",
       "\n",
       "[700 rows x 5 columns]"
      ]
     },
     "execution_count": 8,
     "metadata": {},
     "output_type": "execute_result"
    }
   ],
   "source": [
    "gfcat_fuv_matched"
   ]
  },
  {
   "cell_type": "code",
   "execution_count": 9,
   "id": "8374f025",
   "metadata": {},
   "outputs": [
    {
     "data": {
      "text/plain": [
       "[<matplotlib.lines.Line2D at 0x19fb88490>]"
      ]
     },
     "execution_count": 9,
     "metadata": {},
     "output_type": "execute_result"
    },
    {
     "data": {
      "image/png": "[encoded data removed]",
      "text/plain": [
       "<Figure size 1000x1000 with 1 Axes>"
      ]
     },
     "metadata": {},
     "output_type": "display_data"
    }
   ],
   "source": [
    "plt.figure(figsize=(10,10))\n",
    "plt.plot(gfcat_fuv_matched['ra'],gfcat_fuv_matched['dec'],'y.')\n",
    "plt.plot(gfcat_corpus['ra'],gfcat_corpus['dec'],'r.')\n",
    "plt.plot(gfcat_targeted['ra'],gfcat_targeted['dec'],'b.')\n"
   ]
  },
  {
   "cell_type": "code",
   "execution_count": 10,
   "id": "66d176c2",
   "metadata": {},
   "outputs": [
    {
     "data": {
      "text/html": [
       "<pre style=\"white-space:pre;overflow-x:auto;line-height:normal;font-family:Menlo,'DejaVu Sans Mono',consolas,'Courier New',monospace\"><span style=\"color: #008080; text-decoration-color: #008080; font-weight: bold\">165</span> of <span style=\"color: #008080; text-decoration-color: #008080; font-weight: bold\">654</span> targeted sources were found in general search.\n",
       "</pre>\n"
      ],
      "text/plain": [
       "\u001b[1;36m165\u001b[0m of \u001b[1;36m654\u001b[0m targeted sources were found in general search.\n"
      ]
     },
     "metadata": {},
     "output_type": "display_data"
    },
    {
     "data": {
      "text/html": [
       "<pre style=\"white-space:pre;overflow-x:auto;line-height:normal;font-family:Menlo,'DejaVu Sans Mono',consolas,'Courier New',monospace\"><span style=\"color: #008080; text-decoration-color: #008080; font-weight: bold\">426</span> of <span style=\"color: #008080; text-decoration-color: #008080; font-weight: bold\">865</span> general search sources were found in targeted search.\n",
       "</pre>\n"
      ],
      "text/plain": [
       "\u001b[1;36m426\u001b[0m of \u001b[1;36m865\u001b[0m general search sources were found in targeted search.\n"
      ]
     },
     "metadata": {},
     "output_type": "display_data"
    }
   ],
   "source": [
    "# crossmatch corpus to targeted\n",
    "n=0\n",
    "for target in gfcat_corpus.iterrows():\n",
    "    ra,dec = target[1]['ra'],target[1]['dec']\n",
    "    dist = angularSeparation(gfcat_targeted['ra'].values,gfcat_targeted['dec'].values,ra,dec)\n",
    "    if dist.min()<0.0005:\n",
    "        #print(ra,dec,dist.min())\n",
    "        n+=1\n",
    "print(f\"{n} of {len(gfcat_targeted)} targeted sources were found in general search.\")\n",
    "\n",
    "# crossmatch targeted to corpus\n",
    "n=0\n",
    "for target in gfcat_targeted.iterrows():\n",
    "    ra,dec = target[1]['ra'],target[1]['dec']\n",
    "    dist = angularSeparation(gfcat_corpus['ra'].values,gfcat_corpus['dec'].values,ra,dec)\n",
    "    if dist.min()<0.0005:\n",
    "        #print(ra,dec,dist.min())\n",
    "        n+=1\n",
    "print(f\"{n} of {len(gfcat_corpus)} general search sources were found in targeted search.\")\n"
   ]
  },
  {
   "cell_type": "code",
   "execution_count": 11,
   "id": "5f33a819",
   "metadata": {},
   "outputs": [
    {
     "data": {
      "text/html": [
       "<pre style=\"white-space:pre;overflow-x:auto;line-height:normal;font-family:Menlo,'DejaVu Sans Mono',consolas,'Courier New',monospace\"><span style=\"color: #008080; text-decoration-color: #008080; font-weight: bold\">179</span> corpus sources are repeated\n",
       "</pre>\n"
      ],
      "text/plain": [
       "\u001b[1;36m179\u001b[0m corpus sources are repeated\n"
      ]
     },
     "metadata": {},
     "output_type": "display_data"
    },
    {
     "data": {
      "text/html": [
       "<pre style=\"white-space:pre;overflow-x:auto;line-height:normal;font-family:Menlo,'DejaVu Sans Mono',consolas,'Courier New',monospace\"><span style=\"color: #008080; text-decoration-color: #008080; font-weight: bold\">508</span> targeted sources are repeated\n",
       "</pre>\n"
      ],
      "text/plain": [
       "\u001b[1;36m508\u001b[0m targeted sources are repeated\n"
      ]
     },
     "metadata": {},
     "output_type": "display_data"
    }
   ],
   "source": [
    "n=0\n",
    "for target in gfcat_corpus.iterrows():\n",
    "    ra,dec = target[1]['ra'],target[1]['dec']\n",
    "    dist = angularSeparation(gfcat_corpus['ra'].values,gfcat_corpus['dec'].values,ra,dec)\n",
    "    if any (np.sort(dist)[1:]<0.005):\n",
    "        #print(ra,dec,dist.min())\n",
    "        n+=1\n",
    "print(f\"{n} corpus sources are repeated\")\n",
    "\n",
    "\n",
    "n=0\n",
    "for target in gfcat_targeted.iterrows():\n",
    "    ra,dec = target[1]['ra'],target[1]['dec']\n",
    "    dist = angularSeparation(gfcat_targeted['ra'].values,gfcat_targeted['dec'].values,ra,dec)\n",
    "    if any (np.sort(dist)[1:]<0.005):\n",
    "        #print(ra,dec,dist.min())\n",
    "        n+=1\n",
    "print(f\"{n} targeted sources are repeated\")\n"
   ]
  },
  {
   "cell_type": "code",
   "execution_count": 12,
   "id": "0d72d06c",
   "metadata": {
    "scrolled": false
   },
   "outputs": [],
   "source": [
    "def make_variable_target_table(obj_ids):\n",
    "    variable_table = pd.DataFrame()\n",
    "    for obj_id in obj_ids:\n",
    "        eclipse = int(str(obj_id)[-5:])\n",
    "        #obj_id = int(objid)\n",
    "        this_star = pq.read_table(catalog_filename,filters =\n",
    "                                  [('eclipse','=',eclipse),\n",
    "                                   ('obj_id','=',obj_id)]).to_pandas()\n",
    "        expt = header_data.loc[header_data['ECLIPSE']==eclipse].loc[header_data['BAND']=='NUV']['EXPT_0']\n",
    "        cps = this_star[\"aperture_sum_n_12_8\"].tolist()[0]/expt.tolist()[0]\n",
    "        cps_err = np.sqrt(this_star[\"aperture_sum_n_12_8\"].tolist()[0])/expt.tolist()[0]\n",
    "        mag = counts2mag(cps,'NUV')\n",
    "        mag_err_1 = mag-counts2mag(cps+cps_err,'NUV')\n",
    "        mag_err_2 = counts2mag(cps-cps_err,'NUV')-mag # this one is always larger\n",
    "        this_star['cps'] = cps\n",
    "        this_star['cps_err'] = cps_err\n",
    "        this_star['NUVmag'] = mag\n",
    "        this_star['NUVmag_err_1'] = mag_err_1\n",
    "        this_star['NUVmag_err_2'] = mag_err_2\n",
    "        variable_table = pd.concat([variable_table,\n",
    "                                 this_star[\n",
    "                                    [\"obj_id\",\"ra\",\"dec\",\"eclipse\",\"NUVmag\",\"NUVmag_err_1\",\"NUVmag_err_2\",]]])\n",
    "    return variable_table\n"
   ]
  },
  {
   "cell_type": "code",
   "execution_count": 14,
   "id": "bdeaae18",
   "metadata": {},
   "outputs": [
    {
     "data": {
      "text/html": [
       "<div>\n",
       "<style scoped>\n",
       "    .dataframe tbody tr th:only-of-type {\n",
       "        vertical-align: middle;\n",
       "    }\n",
       "\n",
       "    .dataframe tbody tr th {\n",
       "        vertical-align: top;\n",
       "    }\n",
       "\n",
       "    .dataframe thead th {\n",
       "        text-align: right;\n",
       "    }\n",
       "</style>\n",
       "<table border=\"1\" class=\"dataframe\">\n",
       "  <thead>\n",
       "    <tr style=\"text-align: right;\">\n",
       "      <th></th>\n",
       "      <th>eclipse</th>\n",
       "      <th>ra</th>\n",
       "      <th>dec</th>\n",
       "      <th>morphology</th>\n",
       "    </tr>\n",
       "  </thead>\n",
       "  <tbody>\n",
       "    <tr>\n",
       "      <th>0</th>\n",
       "      <td>6882</td>\n",
       "      <td>310.03898</td>\n",
       "      <td>-0.86965</td>\n",
       "      <td>F</td>\n",
       "    </tr>\n",
       "    <tr>\n",
       "      <th>1</th>\n",
       "      <td>15112</td>\n",
       "      <td>173.68275</td>\n",
       "      <td>45.53918</td>\n",
       "      <td>F</td>\n",
       "    </tr>\n",
       "    <tr>\n",
       "      <th>2</th>\n",
       "      <td>29166</td>\n",
       "      <td>355.72871</td>\n",
       "      <td>1.65753</td>\n",
       "      <td>F</td>\n",
       "    </tr>\n",
       "    <tr>\n",
       "      <th>3</th>\n",
       "      <td>29390</td>\n",
       "      <td>10.92245</td>\n",
       "      <td>-42.34763</td>\n",
       "      <td>U</td>\n",
       "    </tr>\n",
       "    <tr>\n",
       "      <th>4</th>\n",
       "      <td>29643</td>\n",
       "      <td>53.06506</td>\n",
       "      <td>-29.51007</td>\n",
       "      <td>U</td>\n",
       "    </tr>\n",
       "    <tr>\n",
       "      <th>5</th>\n",
       "      <td>43201</td>\n",
       "      <td>217.15856</td>\n",
       "      <td>57.75332</td>\n",
       "      <td>U</td>\n",
       "    </tr>\n",
       "    <tr>\n",
       "      <th>6</th>\n",
       "      <td>3858</td>\n",
       "      <td>135.96049</td>\n",
       "      <td>52.35710</td>\n",
       "      <td>F</td>\n",
       "    </tr>\n",
       "    <tr>\n",
       "      <th>7</th>\n",
       "      <td>4028</td>\n",
       "      <td>189.00277</td>\n",
       "      <td>62.49956</td>\n",
       "      <td>F</td>\n",
       "    </tr>\n",
       "    <tr>\n",
       "      <th>8</th>\n",
       "      <td>7940</td>\n",
       "      <td>6.43415</td>\n",
       "      <td>17.08139</td>\n",
       "      <td>F</td>\n",
       "    </tr>\n",
       "    <tr>\n",
       "      <th>9</th>\n",
       "      <td>9709</td>\n",
       "      <td>164.46273</td>\n",
       "      <td>-3.76613</td>\n",
       "      <td>U</td>\n",
       "    </tr>\n",
       "    <tr>\n",
       "      <th>10</th>\n",
       "      <td>13533</td>\n",
       "      <td>16.65372</td>\n",
       "      <td>45.38989</td>\n",
       "      <td>F</td>\n",
       "    </tr>\n",
       "    <tr>\n",
       "      <th>11</th>\n",
       "      <td>13656</td>\n",
       "      <td>24.76303</td>\n",
       "      <td>-17.94913</td>\n",
       "      <td>F</td>\n",
       "    </tr>\n",
       "    <tr>\n",
       "      <th>12</th>\n",
       "      <td>16497</td>\n",
       "      <td>219.53099</td>\n",
       "      <td>33.10083</td>\n",
       "      <td>F</td>\n",
       "    </tr>\n",
       "    <tr>\n",
       "      <th>13</th>\n",
       "      <td>18081</td>\n",
       "      <td>358.46939</td>\n",
       "      <td>-10.54433</td>\n",
       "      <td>F</td>\n",
       "    </tr>\n",
       "    <tr>\n",
       "      <th>14</th>\n",
       "      <td>18380</td>\n",
       "      <td>7.70821</td>\n",
       "      <td>-71.84528</td>\n",
       "      <td>F</td>\n",
       "    </tr>\n",
       "    <tr>\n",
       "      <th>15</th>\n",
       "      <td>18753</td>\n",
       "      <td>51.26207</td>\n",
       "      <td>-17.21407</td>\n",
       "      <td>F</td>\n",
       "    </tr>\n",
       "    <tr>\n",
       "      <th>16</th>\n",
       "      <td>23505</td>\n",
       "      <td>13.11492</td>\n",
       "      <td>0.09855</td>\n",
       "      <td>F</td>\n",
       "    </tr>\n",
       "    <tr>\n",
       "      <th>17</th>\n",
       "      <td>26488</td>\n",
       "      <td>212.80185</td>\n",
       "      <td>6.83090</td>\n",
       "      <td>F</td>\n",
       "    </tr>\n",
       "    <tr>\n",
       "      <th>18</th>\n",
       "      <td>28619</td>\n",
       "      <td>326.15289</td>\n",
       "      <td>0.70565</td>\n",
       "      <td>F</td>\n",
       "    </tr>\n",
       "    <tr>\n",
       "      <th>19</th>\n",
       "      <td>30122</td>\n",
       "      <td>53.00912</td>\n",
       "      <td>-27.04739</td>\n",
       "      <td>F</td>\n",
       "    </tr>\n",
       "    <tr>\n",
       "      <th>20</th>\n",
       "      <td>30668</td>\n",
       "      <td>133.73297</td>\n",
       "      <td>2.57409</td>\n",
       "      <td>F</td>\n",
       "    </tr>\n",
       "    <tr>\n",
       "      <th>21</th>\n",
       "      <td>31274</td>\n",
       "      <td>120.70829</td>\n",
       "      <td>36.45803</td>\n",
       "      <td>F</td>\n",
       "    </tr>\n",
       "    <tr>\n",
       "      <th>22</th>\n",
       "      <td>36705</td>\n",
       "      <td>146.54298</td>\n",
       "      <td>15.54300</td>\n",
       "      <td>F</td>\n",
       "    </tr>\n",
       "    <tr>\n",
       "      <th>23</th>\n",
       "      <td>40521</td>\n",
       "      <td>29.19705</td>\n",
       "      <td>-0.35408</td>\n",
       "      <td>F</td>\n",
       "    </tr>\n",
       "    <tr>\n",
       "      <th>24</th>\n",
       "      <td>40930</td>\n",
       "      <td>70.63517</td>\n",
       "      <td>18.43965</td>\n",
       "      <td>F</td>\n",
       "    </tr>\n",
       "    <tr>\n",
       "      <th>25</th>\n",
       "      <td>42499</td>\n",
       "      <td>165.10157</td>\n",
       "      <td>12.73207</td>\n",
       "      <td>F</td>\n",
       "    </tr>\n",
       "    <tr>\n",
       "      <th>26</th>\n",
       "      <td>43238</td>\n",
       "      <td>243.41123</td>\n",
       "      <td>54.66503</td>\n",
       "      <td>F</td>\n",
       "    </tr>\n",
       "    <tr>\n",
       "      <th>27</th>\n",
       "      <td>43828</td>\n",
       "      <td>338.34099</td>\n",
       "      <td>-60.93026</td>\n",
       "      <td>F</td>\n",
       "    </tr>\n",
       "    <tr>\n",
       "      <th>28</th>\n",
       "      <td>44684</td>\n",
       "      <td>308.13204</td>\n",
       "      <td>7.97132</td>\n",
       "      <td>F</td>\n",
       "    </tr>\n",
       "    <tr>\n",
       "      <th>29</th>\n",
       "      <td>45629</td>\n",
       "      <td>160.64052</td>\n",
       "      <td>76.02885</td>\n",
       "      <td>F</td>\n",
       "    </tr>\n",
       "  </tbody>\n",
       "</table>\n",
       "</div>"
      ],
      "text/plain": [
       "    eclipse         ra       dec morphology\n",
       "0      6882  310.03898  -0.86965          F\n",
       "1     15112  173.68275  45.53918          F\n",
       "2     29166  355.72871   1.65753          F\n",
       "3     29390   10.92245 -42.34763          U\n",
       "4     29643   53.06506 -29.51007          U\n",
       "5     43201  217.15856  57.75332          U\n",
       "6      3858  135.96049  52.35710          F\n",
       "7      4028  189.00277  62.49956          F\n",
       "8      7940    6.43415  17.08139          F\n",
       "9      9709  164.46273  -3.76613          U\n",
       "10    13533   16.65372  45.38989          F\n",
       "11    13656   24.76303 -17.94913          F\n",
       "12    16497  219.53099  33.10083          F\n",
       "13    18081  358.46939 -10.54433          F\n",
       "14    18380    7.70821 -71.84528          F\n",
       "15    18753   51.26207 -17.21407          F\n",
       "16    23505   13.11492   0.09855          F\n",
       "17    26488  212.80185   6.83090          F\n",
       "18    28619  326.15289   0.70565          F\n",
       "19    30122   53.00912 -27.04739          F\n",
       "20    30668  133.73297   2.57409          F\n",
       "21    31274  120.70829  36.45803          F\n",
       "22    36705  146.54298  15.54300          F\n",
       "23    40521   29.19705  -0.35408          F\n",
       "24    40930   70.63517  18.43965          F\n",
       "25    42499  165.10157  12.73207          F\n",
       "26    43238  243.41123  54.66503          F\n",
       "27    43828  338.34099 -60.93026          F\n",
       "28    44684  308.13204   7.97132          F\n",
       "29    45629  160.64052  76.02885          F"
      ]
     },
     "execution_count": 14,
     "metadata": {},
     "output_type": "execute_result"
    }
   ],
   "source": [
    "mpt = \"\"\"06882 2182706882 310.03898  -0.86965 F\n",
    "15112 583415112  173.68275  45.53918 F\n",
    "29166 1128729166 355.72871   1.65753 F\n",
    "29390 1588929390  10.92245 -42.34763 U\n",
    "29643 965529643   53.06506 -29.51007 U\n",
    "43201 738043201  217.15856  57.75332 U\n",
    "03858 614703858  135.96049  52.35710 F\n",
    "04028 404904028  189.00277  62.49956 F\n",
    "07940 555607940    6.43415  17.08139 F\n",
    "09709 1055909709 164.46273  -3.76613 U\n",
    "13533 3357413533  16.65372  45.38989 F\n",
    "13656 613113656   24.76303 -17.94913 F\n",
    "16497 1520916497 219.53099  33.10083 F\n",
    "18081 80418081   358.46939 -10.54433 F\n",
    "18380 3958418380   7.70821 -71.84528 F\n",
    "18753 958718753   51.26207 -17.21407 F\n",
    "23505 1597023505  13.11492   0.09855 F\n",
    "26488 1218326488 212.80185   6.83090 F\n",
    "28619 1333228619 326.15289   0.70565 F\n",
    "30122 549930122   53.00912 -27.04739 F\n",
    "30668 1439130668 133.73297   2.57409 F\n",
    "31274 1708031274 120.70829  36.45803 F\n",
    "36705 1284736705 146.54298  15.54300 F\n",
    "40521 1328540521  29.19705  -0.35408 F\n",
    "40930 3656640930  70.63517  18.43965 F\n",
    "42499 766342499  165.10157  12.73207 F\n",
    "43238 1530943238 243.41123  54.66503 F\n",
    "43828 1063943828 338.34099 -60.93026 F\n",
    "44684 3062344684 308.13204   7.97132 F\n",
    "45629 1000545629 160.64052  76.02885 F\"\"\"\n",
    "\n",
    "gfcat_adjusted = pd.DataFrame(\n",
    "    {'eclipse':np.array(np.array([t.split() for t in mpt.split('\\n')])[:,0],dtype='int'),\n",
    "     'ra':np.array(np.array([t.split() for t in mpt.split('\\n')])[:,2],dtype='float'),\n",
    "     'dec':np.array(np.array([t.split() for t in mpt.split('\\n')])[:,3],dtype='float'),\n",
    "     'morphology':np.array(np.array([t.split() for t in mpt.split('\\n')])[:,4],dtype='str')})\n",
    "gfcat_adjusted"
   ]
  },
  {
   "cell_type": "code",
   "execution_count": 15,
   "id": "27ffd130",
   "metadata": {},
   "outputs": [
    {
     "data": {
      "text/html": [
       "<pre style=\"white-space:pre;overflow-x:auto;line-height:normal;font-family:Menlo,'DejaVu Sans Mono',consolas,'Courier New',monospace\"><span style=\"color: #008080; text-decoration-color: #008080; font-weight: bold\">2219</span>\n",
       "</pre>\n"
      ],
      "text/plain": [
       "\u001b[1;36m2219\u001b[0m\n"
      ]
     },
     "metadata": {},
     "output_type": "display_data"
    },
    {
     "name": "stdout",
     "output_type": "stream",
     "text": [
      "CPU times: user 1.28 ms, sys: 148 µs, total: 1.43 ms\n",
      "Wall time: 1.44 ms\n"
     ]
    }
   ],
   "source": [
    "# compile both targeted and untargeted sources\n",
    "gfcat_draft = pd.concat([make_variable_target_table(gfcat_corpus['obj_id'].values),\n",
    "                         make_variable_target_table(gfcat_targeted['obj_id'].values),\n",
    "                         make_variable_target_table(gfcat_fuv_matched['obj_id'])])\n",
    "%time print(len(gfcat_draft))"
   ]
  },
  {
   "cell_type": "code",
   "execution_count": 16,
   "id": "4c68798c",
   "metadata": {},
   "outputs": [
    {
     "data": {
      "text/html": [
       "<div>\n",
       "<style scoped>\n",
       "    .dataframe tbody tr th:only-of-type {\n",
       "        vertical-align: middle;\n",
       "    }\n",
       "\n",
       "    .dataframe tbody tr th {\n",
       "        vertical-align: top;\n",
       "    }\n",
       "\n",
       "    .dataframe thead th {\n",
       "        text-align: right;\n",
       "    }\n",
       "</style>\n",
       "<table border=\"1\" class=\"dataframe\">\n",
       "  <thead>\n",
       "    <tr style=\"text-align: right;\">\n",
       "      <th></th>\n",
       "      <th>obj_id</th>\n",
       "      <th>ra</th>\n",
       "      <th>dec</th>\n",
       "      <th>eclipse</th>\n",
       "      <th>NUVmag</th>\n",
       "      <th>NUVmag_err_1</th>\n",
       "      <th>NUVmag_err_2</th>\n",
       "    </tr>\n",
       "  </thead>\n",
       "  <tbody>\n",
       "    <tr>\n",
       "      <th>0</th>\n",
       "      <td>1479501422</td>\n",
       "      <td>343.352654</td>\n",
       "      <td>-39.793072</td>\n",
       "      <td>1422</td>\n",
       "      <td>19.951735</td>\n",
       "      <td>0.039535</td>\n",
       "      <td>0.041029</td>\n",
       "    </tr>\n",
       "    <tr>\n",
       "      <th>0</th>\n",
       "      <td>1301612992</td>\n",
       "      <td>352.094400</td>\n",
       "      <td>0.477522</td>\n",
       "      <td>12992</td>\n",
       "      <td>18.445259</td>\n",
       "      <td>0.013400</td>\n",
       "      <td>0.013567</td>\n",
       "    </tr>\n",
       "    <tr>\n",
       "      <th>0</th>\n",
       "      <td>1297001640</td>\n",
       "      <td>260.307220</td>\n",
       "      <td>58.102305</td>\n",
       "      <td>1640</td>\n",
       "      <td>20.085000</td>\n",
       "      <td>0.030795</td>\n",
       "      <td>0.031694</td>\n",
       "    </tr>\n",
       "    <tr>\n",
       "      <th>0</th>\n",
       "      <td>2368215994</td>\n",
       "      <td>195.957862</td>\n",
       "      <td>-17.314252</td>\n",
       "      <td>15994</td>\n",
       "      <td>20.094181</td>\n",
       "      <td>0.029442</td>\n",
       "      <td>0.030263</td>\n",
       "    </tr>\n",
       "    <tr>\n",
       "      <th>0</th>\n",
       "      <td>1340328450</td>\n",
       "      <td>333.819312</td>\n",
       "      <td>1.061756</td>\n",
       "      <td>28450</td>\n",
       "      <td>19.415772</td>\n",
       "      <td>0.022187</td>\n",
       "      <td>0.022650</td>\n",
       "    </tr>\n",
       "    <tr>\n",
       "      <th>...</th>\n",
       "      <td>...</td>\n",
       "      <td>...</td>\n",
       "      <td>...</td>\n",
       "      <td>...</td>\n",
       "      <td>...</td>\n",
       "      <td>...</td>\n",
       "      <td>...</td>\n",
       "    </tr>\n",
       "    <tr>\n",
       "      <th>0</th>\n",
       "      <td>117332024</td>\n",
       "      <td>143.211018</td>\n",
       "      <td>55.720802</td>\n",
       "      <td>32024</td>\n",
       "      <td>18.237069</td>\n",
       "      <td>0.012093</td>\n",
       "      <td>0.012230</td>\n",
       "    </tr>\n",
       "    <tr>\n",
       "      <th>0</th>\n",
       "      <td>974009939</td>\n",
       "      <td>215.088422</td>\n",
       "      <td>52.259155</td>\n",
       "      <td>9939</td>\n",
       "      <td>17.897475</td>\n",
       "      <td>0.011365</td>\n",
       "      <td>0.011485</td>\n",
       "    </tr>\n",
       "    <tr>\n",
       "      <th>0</th>\n",
       "      <td>1019532012</td>\n",
       "      <td>181.393826</td>\n",
       "      <td>51.930249</td>\n",
       "      <td>32012</td>\n",
       "      <td>13.593036</td>\n",
       "      <td>0.001560</td>\n",
       "      <td>0.001562</td>\n",
       "    </tr>\n",
       "    <tr>\n",
       "      <th>0</th>\n",
       "      <td>1212831950</td>\n",
       "      <td>183.484340</td>\n",
       "      <td>2.008758</td>\n",
       "      <td>31950</td>\n",
       "      <td>14.418459</td>\n",
       "      <td>0.002043</td>\n",
       "      <td>0.002047</td>\n",
       "    </tr>\n",
       "    <tr>\n",
       "      <th>0</th>\n",
       "      <td>2821115251</td>\n",
       "      <td>194.860447</td>\n",
       "      <td>27.359928</td>\n",
       "      <td>15251</td>\n",
       "      <td>16.635318</td>\n",
       "      <td>0.009006</td>\n",
       "      <td>0.009081</td>\n",
       "    </tr>\n",
       "  </tbody>\n",
       "</table>\n",
       "<p>2219 rows × 7 columns</p>\n",
       "</div>"
      ],
      "text/plain": [
       "        obj_id          ra        dec  eclipse     NUVmag  NUVmag_err_1  \\\n",
       "0   1479501422  343.352654 -39.793072     1422  19.951735      0.039535   \n",
       "0   1301612992  352.094400   0.477522    12992  18.445259      0.013400   \n",
       "0   1297001640  260.307220  58.102305     1640  20.085000      0.030795   \n",
       "0   2368215994  195.957862 -17.314252    15994  20.094181      0.029442   \n",
       "0   1340328450  333.819312   1.061756    28450  19.415772      0.022187   \n",
       "..         ...         ...        ...      ...        ...           ...   \n",
       "0    117332024  143.211018  55.720802    32024  18.237069      0.012093   \n",
       "0    974009939  215.088422  52.259155     9939  17.897475      0.011365   \n",
       "0   1019532012  181.393826  51.930249    32012  13.593036      0.001560   \n",
       "0   1212831950  183.484340   2.008758    31950  14.418459      0.002043   \n",
       "0   2821115251  194.860447  27.359928    15251  16.635318      0.009006   \n",
       "\n",
       "    NUVmag_err_2  \n",
       "0       0.041029  \n",
       "0       0.013567  \n",
       "0       0.031694  \n",
       "0       0.030263  \n",
       "0       0.022650  \n",
       "..           ...  \n",
       "0       0.012230  \n",
       "0       0.011485  \n",
       "0       0.001562  \n",
       "0       0.002047  \n",
       "0       0.009081  \n",
       "\n",
       "[2219 rows x 7 columns]"
      ]
     },
     "execution_count": 16,
     "metadata": {},
     "output_type": "execute_result"
    }
   ],
   "source": [
    "gfcat_draft"
   ]
  },
  {
   "cell_type": "code",
   "execution_count": 17,
   "id": "2183192c",
   "metadata": {
    "scrolled": false
   },
   "outputs": [
    {
     "data": {
      "text/html": [
       "<pre style=\"white-space:pre;overflow-x:auto;line-height:normal;font-family:Menlo,'DejaVu Sans Mono',consolas,'Courier New',monospace\">There are <span style=\"color: #008080; text-decoration-color: #008080; font-weight: bold\">937</span> unique targets.\n",
       "</pre>\n"
      ],
      "text/plain": [
       "There are \u001b[1;36m937\u001b[0m unique targets.\n"
      ]
     },
     "metadata": {},
     "output_type": "display_data"
    }
   ],
   "source": [
    "# make a unique source list\n",
    "gfcat_unique = pd.DataFrame()\n",
    "for target in pd.concat([gfcat_draft,gfcat_adjusted]).iterrows():\n",
    "    ra,dec = target[1]['ra'],target[1]['dec']\n",
    "    dist = angularSeparation(gfcat_draft['ra'].values,gfcat_draft['dec'].values,ra,dec)\n",
    "    ix = np.where(dist<=0.0006)\n",
    "    gfcat_unique = pd.concat([gfcat_unique,\n",
    "        pd.DataFrame(\n",
    "            {'ra':[gfcat_draft.iloc[ix]['ra'].median()],\n",
    "             'dec':[gfcat_draft.iloc[ix]['dec'].median()],\n",
    "             'NUV_mag_min':[gfcat_draft.iloc[ix]['NUVmag'].min()],\n",
    "             'NUV_mag_max':[gfcat_draft.iloc[ix]['NUVmag'].max()],\n",
    "             'n_eclipses':[len(ix[0])]})])\n",
    "_,ix_ra  = np.unique(gfcat_unique['ra'].values,return_index=True)\n",
    "_,ix_dec = np.unique(gfcat_unique['dec'].values,return_index=True)\n",
    "assert len(ix_ra)==len(ix_dec)\n",
    "gfcat_unique = gfcat_unique.iloc[ix_ra].reset_index()\n",
    "gfcat_unique_targets = gfcat_unique.sort_values('ra')\n",
    "gfcat_unique_targets.to_csv('gfcat_source_table_positions.csv',index=False)\n",
    "print(f\"There are {len(gfcat_unique_targets)} unique targets.\")"
   ]
  },
  {
   "cell_type": "code",
   "execution_count": 18,
   "id": "20721e91",
   "metadata": {},
   "outputs": [
    {
     "ename": "NameError",
     "evalue": "name 'gfcat_combined' is not defined",
     "output_type": "error",
     "traceback": [
      "\u001b[0;31m---------------------------------------------------------------------------\u001b[0m",
      "\u001b[0;31mNameError\u001b[0m                                 Traceback (most recent call last)",
      "Cell \u001b[0;32mIn [18], line 1\u001b[0m\n\u001b[0;32m----> 1\u001b[0m \u001b[43mgfcat_combined\u001b[49m\u001b[38;5;241m.\u001b[39mloc[gfcat_combined[\u001b[38;5;124m'\u001b[39m\u001b[38;5;124meclipse\u001b[39m\u001b[38;5;124m'\u001b[39m]\u001b[38;5;241m==\u001b[39m\u001b[38;5;241m27109\u001b[39m]\n",
      "\u001b[0;31mNameError\u001b[0m: name 'gfcat_combined' is not defined"
     ]
    }
   ],
   "source": [
    "#gfcat_combined.loc[gfcat_combined['eclipse']==27109]"
   ]
  },
  {
   "cell_type": "code",
   "execution_count": 19,
   "id": "c3b669a5",
   "metadata": {},
   "outputs": [
    {
     "data": {
      "text/plain": [
       "0.004558719208345409"
      ]
     },
     "execution_count": 19,
     "metadata": {},
     "output_type": "execute_result"
    }
   ],
   "source": [
    "angularSeparation(259.970842,26.501225,259.975935,26.501314)"
   ]
  },
  {
   "cell_type": "code",
   "execution_count": 20,
   "id": "e64734fe",
   "metadata": {},
   "outputs": [
    {
     "data": {
      "text/plain": [
       "9.0"
      ]
     },
     "execution_count": 20,
     "metadata": {},
     "output_type": "execute_result"
    }
   ],
   "source": [
    "0.0025*60*60"
   ]
  },
  {
   "cell_type": "code",
   "execution_count": 22,
   "id": "b39f1ef8",
   "metadata": {
    "scrolled": false
   },
   "outputs": [
    {
     "data": {
      "text/html": [
       "<pre style=\"white-space:pre;overflow-x:auto;line-height:normal;font-family:Menlo,'DejaVu Sans Mono',consolas,'Courier New',monospace\">There are <span style=\"color: #008080; text-decoration-color: #008080; font-weight: bold\">1381</span> variable visits.\n",
       "</pre>\n"
      ],
      "text/plain": [
       "There are \u001b[1;36m1381\u001b[0m variable visits.\n"
      ]
     },
     "metadata": {},
     "output_type": "display_data"
    }
   ],
   "source": [
    "gfcat_combined = pd.concat([gfcat_corpus,gfcat_targeted,gfcat_adjusted])\n",
    "gfcat_unique_observations = pd.DataFrame()\n",
    "for e in np.unique(gfcat_combined['eclipse']):\n",
    "    this_eclipse = gfcat_combined.loc[gfcat_combined['eclipse']==e]\n",
    "    if len(this_eclipse)==1: # only one variable in eclipse\n",
    "        gfcat_unique_observations = pd.concat([gfcat_unique_observations,this_eclipse])\n",
    "        continue\n",
    "    if len(np.unique(this_eclipse['ra']))==1:\n",
    "        gfcat_unique_observations = pd.concat([gfcat_unique_observations,this_eclipse.iloc[0:1]])\n",
    "        continue\n",
    "    d = angularSeparation(this_eclipse['ra'].values.mean(),this_eclipse['dec'].values.mean(),\n",
    "                          this_eclipse['ra'].values,this_eclipse['dec'].values)\n",
    "    if all(d<=0.01) and len(this_eclipse)==2:\n",
    "        if any(np.isnan(this_eclipse['obj_id'])):  # one source is an adjusted version of the other\n",
    "            gfcat_unique_observations = pd.concat(\n",
    "                [gfcat_unique_observations,\n",
    "                 this_eclipse.loc[np.isnan(this_eclipse['obj_id'])]])\n",
    "            continue\n",
    "    if all(d<=0.0013) and len(this_eclipse)==2:\n",
    "        # ~9\" (because it's calculated from the mean) is close enough that it doesn't matter\n",
    "        gfcat_unique_observations = pd.concat([gfcat_unique_observations,this_eclipse.iloc[0:1]])\n",
    "        continue\n",
    "    reduced_eclipse = pd.DataFrame()\n",
    "    for pointing in np.unique(this_eclipse['ra']):\n",
    "        this_pointing = this_eclipse.loc[this_eclipse['ra']==pointing]\n",
    "        if any(np.isnan(this_pointing['obj_id'])):\n",
    "            reduced_eclipse = pd.concat([reduced_eclipse,this_pointing.loc[np.isnan(this_pointing['obj_id'])]])\n",
    "        else:\n",
    "            reduced_eclipse = pd.concat([reduced_eclipse,this_pointing.iloc[0:1]])\n",
    "    d = angularSeparation(np.median(reduced_eclipse['ra']),np.median(reduced_eclipse['dec'].values),\n",
    "                          reduced_eclipse['ra'].values,reduced_eclipse['dec'].values)\n",
    "    #print(reduced_eclipse)\n",
    "    #print(d)\n",
    "    if all(d<=0.02) and len(this_pointing)==2:\n",
    "        print('Implement this if it ever happens.')\n",
    "    if len(this_pointing)>2:\n",
    "        print('Implement this if it ever happens.')\n",
    "    gfcat_unique_observations = pd.concat([gfcat_unique_observations,reduced_eclipse])\n",
    "    #    if any(np.isnan(this_pointing['obj_id'])):  # one source is an adjusted version of the other\n",
    "    #        gfcat_unique_observations = pd.concat(\n",
    "    #            [gfcat_unique_observations,\n",
    "    #             this_pointing.loc[np.isnan(this_eclipse['obj_id'])]])\n",
    "    #        print('PING')\n",
    "    #        continue\n",
    "\n",
    "    #print(this_eclipse)\n",
    "    #print(reduced_eclipse)\n",
    "    #print('###')\n",
    "\n",
    "gfcat_unique_observations.loc[np.isnan(gfcat_unique_observations['obj_id']),'obj_id']=-1\n",
    "gfcat_visits = gfcat_unique_observations.astype({'obj_id':int}).sort_values('eclipse').reset_index()\n",
    "gfcat_visits[['eclipse','obj_id','ra','dec','morphology']].to_csv('gfcat_visit_table_positions.csv',index=False)\n",
    "print(f\"There are {len(gfcat_visits)} variable visits.\")"
   ]
  },
  {
   "cell_type": "code",
   "execution_count": 23,
   "id": "53e16d6b",
   "metadata": {},
   "outputs": [
    {
     "data": {
      "text/plain": [
       "[<matplotlib.lines.Line2D at 0x1a0105370>]"
      ]
     },
     "execution_count": 23,
     "metadata": {},
     "output_type": "execute_result"
    },
    {
     "data": {
      "image/png": "[encoded data removed]",
      "text/plain": [
       "<Figure size 1000x1000 with 1 Axes>"
      ]
     },
     "metadata": {},
     "output_type": "display_data"
    }
   ],
   "source": [
    "plt.figure(figsize=(10,10))\n",
    "plt.plot(gfcat_unique_targets['ra'],gfcat_unique_targets['dec'],'kx',alpha=0.3)"
   ]
  },
  {
   "cell_type": "code",
   "execution_count": null,
   "id": "2f01e46c",
   "metadata": {},
   "outputs": [],
   "source": []
  }
 ],
 "metadata": {
  "kernelspec": {
   "display_name": "Python 3 (ipykernel)",
   "language": "python",
   "name": "python3"
  },
  "language_info": {
   "codemirror_mode": {
    "name": "ipython",
    "version": 3
   },
   "file_extension": ".py",
   "mimetype": "text/x-python",
   "name": "python",
   "nbconvert_exporter": "python",
   "pygments_lexer": "ipython3",
   "version": "3.9.15"
  }
 },
 "nbformat": 4,
 "nbformat_minor": 5
}
